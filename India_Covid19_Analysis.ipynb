{
  "nbformat": 4,
  "nbformat_minor": 0,
  "metadata": {
    "colab": {
      "name": "India Covid-19 Analysis.ipynb",
      "provenance": [],
      "collapsed_sections": [],
      "authorship_tag": "ABX9TyMs+G3EnH0us8K2pAYYcX4F",
      "include_colab_link": true
    },
    "kernelspec": {
      "name": "python3",
      "display_name": "Python 3"
    },
    "language_info": {
      "name": "python"
    }
  },
  "cells": [
    {
      "cell_type": "markdown",
      "metadata": {
        "id": "view-in-github",
        "colab_type": "text"
      },
      "source": [
        "<a href=\"https://colab.research.google.com/github/YedMavus/ML-Programs/blob/main/India_Covid_19_Analysis.ipynb\" target=\"_parent\"><img src=\"https://colab.research.google.com/assets/colab-badge.svg\" alt=\"Open In Colab\"/></a>"
      ]
    },
    {
      "cell_type": "code",
      "metadata": {
        "id": "_6B0oYzzlF9h",
        "colab": {
          "base_uri": "https://localhost:8080/"
        },
        "outputId": "567214d8-3db7-4bec-a7d7-4bd68dd64a3d"
      },
      "source": [
        "!unzip sample_data/India-data.zip\n"
      ],
      "execution_count": 4,
      "outputs": [
        {
          "output_type": "stream",
          "name": "stdout",
          "text": [
            "Archive:  sample_data/India-data.zip\n",
            "  inflating: Latest Covid-19 India Status.csv  \n"
          ]
        }
      ]
    },
    {
      "cell_type": "code",
      "metadata": {
        "id": "I2xyJ-1clu6A"
      },
      "source": [
        "# Installing PySpark:\n",
        "!apt-get install openjdk-8-jdk-headless -qq > /dev/null\n",
        "!wget -q http://archive.apache.org/dist/spark/spark-3.1.1/spark-3.1.1-bin-hadoop3.2.tgz\n",
        "!tar xf spark-3.1.1-bin-hadoop3.2.tgz\n",
        "!pip install -q findspark"
      ],
      "execution_count": 5,
      "outputs": []
    },
    {
      "cell_type": "code",
      "metadata": {
        "id": "6G03I9pKmjj0"
      },
      "source": [
        "# Installing PySpark:\n",
        "import os\n",
        "os.environ[\"JAVA_HOME\"] = \"/usr/lib/jvm/java-8-openjdk-amd64\"\n",
        "os.environ[\"SPARK_HOME\"] = \"/content/spark-3.1.1-bin-hadoop3.2\""
      ],
      "execution_count": 6,
      "outputs": []
    },
    {
      "cell_type": "code",
      "metadata": {
        "colab": {
          "base_uri": "https://localhost:8080/",
          "height": 216
        },
        "id": "2QXO7LctmlgW",
        "outputId": "ad323392-e179-4ec2-db15-4290bb461e79"
      },
      "source": [
        "# Installing PySpark:\n",
        "import findspark\n",
        "findspark.init()\n",
        "from pyspark.sql import SparkSession\n",
        "spark = SparkSession.builder.master(\"local[*]\").getOrCreate()\n",
        "spark.conf.set(\"spark.sql.repl.eagerEval.enabled\", True) # Property used to format output tables better\n",
        "spark"
      ],
      "execution_count": 7,
      "outputs": [
        {
          "output_type": "execute_result",
          "data": {
            "text/html": [
              "\n",
              "            <div>\n",
              "                <p><b>SparkSession - in-memory</b></p>\n",
              "                \n",
              "        <div>\n",
              "            <p><b>SparkContext</b></p>\n",
              "\n",
              "            <p><a href=\"http://a3b96986e8fb:4040\">Spark UI</a></p>\n",
              "\n",
              "            <dl>\n",
              "              <dt>Version</dt>\n",
              "                <dd><code>v3.1.1</code></dd>\n",
              "              <dt>Master</dt>\n",
              "                <dd><code>local[*]</code></dd>\n",
              "              <dt>AppName</dt>\n",
              "                <dd><code>pyspark-shell</code></dd>\n",
              "            </dl>\n",
              "        </div>\n",
              "        \n",
              "            </div>\n",
              "        "
            ],
            "text/plain": [
              "<pyspark.sql.session.SparkSession at 0x7f63a0289d50>"
            ]
          },
          "metadata": {},
          "execution_count": 7
        }
      ]
    },
    {
      "cell_type": "code",
      "metadata": {
        "colab": {
          "base_uri": "https://localhost:8080/",
          "height": 521
        },
        "id": "1QiUar89mn9B",
        "outputId": "6a1a7558-768b-4e7b-98d4-d3168a1b32d1"
      },
      "source": [
        "df = spark.read.csv('/content/Latest Covid-19 India Status.csv', inferSchema=True,\n",
        "                    header=True)\n",
        "df"
      ],
      "execution_count": 14,
      "outputs": [
        {
          "output_type": "execute_result",
          "data": {
            "text/html": [
              "<table border='1'>\n",
              "<tr><th>State/UTs</th><th>Total Cases</th><th>Active</th><th>Discharged</th><th>Deaths</th><th>Active Ratio</th><th>Discharge Ratio</th><th>Death Ratio</th></tr>\n",
              "<tr><td>Andaman and Nicobar</td><td>7660</td><td>11</td><td>7520</td><td>129</td><td>0.14</td><td>98.17</td><td>1.68</td></tr>\n",
              "<tr><td>Andhra Pradesh</td><td>2067921</td><td>3568</td><td>2049961</td><td>14392</td><td>0.17</td><td>99.13</td><td>0.7</td></tr>\n",
              "<tr><td>Arunachal Pradesh</td><td>55180</td><td>60</td><td>54840</td><td>280</td><td>0.11</td><td>99.38</td><td>0.51</td></tr>\n",
              "<tr><td>Assam</td><td>612134</td><td>3379</td><td>602729</td><td>6026</td><td>0.55</td><td>98.46</td><td>0.98</td></tr>\n",
              "<tr><td>Bihar</td><td>726129</td><td>44</td><td>716424</td><td>9661</td><td>0.01</td><td>98.66</td><td>1.33</td></tr>\n",
              "<tr><td>Chandigarh</td><td>65360</td><td>29</td><td>64511</td><td>820</td><td>0.04</td><td>98.7</td><td>1.25</td></tr>\n",
              "<tr><td>Chhattisgarh</td><td>1006159</td><td>259</td><td>992316</td><td>13584</td><td>0.03</td><td>98.62</td><td>1.35</td></tr>\n",
              "<tr><td>Dadra and Nagar H...</td><td>10682</td><td>0</td><td>10678</td><td>4</td><td>0.0</td><td>99.96</td><td>0.04</td></tr>\n",
              "<tr><td>Delhi</td><td>1440071</td><td>351</td><td>1414629</td><td>25091</td><td>0.02</td><td>98.23</td><td>1.74</td></tr>\n",
              "<tr><td>Goa</td><td>178281</td><td>313</td><td>174601</td><td>3367</td><td>0.18</td><td>97.94</td><td>1.89</td></tr>\n",
              "<tr><td>Gujarat</td><td>826716</td><td>227</td><td>816399</td><td>10090</td><td>0.03</td><td>98.75</td><td>1.22</td></tr>\n",
              "<tr><td>Haryana</td><td>771308</td><td>112</td><td>761146</td><td>10050</td><td>0.01</td><td>98.68</td><td>1.3</td></tr>\n",
              "<tr><td>Himachal Pradesh</td><td>224830</td><td>1375</td><td>219681</td><td>3774</td><td>0.61</td><td>97.71</td><td>1.68</td></tr>\n",
              "<tr><td>Jammu and Kashmir</td><td>332911</td><td>1091</td><td>327380</td><td>4440</td><td>0.33</td><td>98.34</td><td>1.33</td></tr>\n",
              "<tr><td>Jharkhand</td><td>348864</td><td>140</td><td>343586</td><td>5138</td><td>0.04</td><td>98.49</td><td>1.47</td></tr>\n",
              "<tr><td>Karnataka</td><td>2989713</td><td>8119</td><td>2943487</td><td>38107</td><td>0.27</td><td>98.45</td><td>1.27</td></tr>\n",
              "<tr><td>Kerala</td><td>5008381</td><td>73497</td><td>4901369</td><td>33515</td><td>1.47</td><td>97.86</td><td>0.67</td></tr>\n",
              "<tr><td>Ladakh</td><td>21006</td><td>91</td><td>20706</td><td>209</td><td>0.43</td><td>98.57</td><td>0.99</td></tr>\n",
              "<tr><td>Lakshadweep</td><td>10365</td><td>0</td><td>10314</td><td>51</td><td>0.0</td><td>99.51</td><td>0.49</td></tr>\n",
              "<tr><td>Madhya Pradesh</td><td>792901</td><td>107</td><td>782270</td><td>10524</td><td>0.01</td><td>98.66</td><td>1.33</td></tr>\n",
              "</table>\n",
              "only showing top 20 rows\n"
            ],
            "text/plain": [
              "+--------------------+-----------+------+----------+------+------------+---------------+-----------+\n",
              "|           State/UTs|Total Cases|Active|Discharged|Deaths|Active Ratio|Discharge Ratio|Death Ratio|\n",
              "+--------------------+-----------+------+----------+------+------------+---------------+-----------+\n",
              "| Andaman and Nicobar|       7660|    11|      7520|   129|        0.14|          98.17|       1.68|\n",
              "|      Andhra Pradesh|    2067921|  3568|   2049961| 14392|        0.17|          99.13|        0.7|\n",
              "|   Arunachal Pradesh|      55180|    60|     54840|   280|        0.11|          99.38|       0.51|\n",
              "|               Assam|     612134|  3379|    602729|  6026|        0.55|          98.46|       0.98|\n",
              "|               Bihar|     726129|    44|    716424|  9661|        0.01|          98.66|       1.33|\n",
              "|          Chandigarh|      65360|    29|     64511|   820|        0.04|           98.7|       1.25|\n",
              "|        Chhattisgarh|    1006159|   259|    992316| 13584|        0.03|          98.62|       1.35|\n",
              "|Dadra and Nagar H...|      10682|     0|     10678|     4|         0.0|          99.96|       0.04|\n",
              "|               Delhi|    1440071|   351|   1414629| 25091|        0.02|          98.23|       1.74|\n",
              "|                 Goa|     178281|   313|    174601|  3367|        0.18|          97.94|       1.89|\n",
              "|             Gujarat|     826716|   227|    816399| 10090|        0.03|          98.75|       1.22|\n",
              "|             Haryana|     771308|   112|    761146| 10050|        0.01|          98.68|        1.3|\n",
              "|    Himachal Pradesh|     224830|  1375|    219681|  3774|        0.61|          97.71|       1.68|\n",
              "|   Jammu and Kashmir|     332911|  1091|    327380|  4440|        0.33|          98.34|       1.33|\n",
              "|           Jharkhand|     348864|   140|    343586|  5138|        0.04|          98.49|       1.47|\n",
              "|           Karnataka|    2989713|  8119|   2943487| 38107|        0.27|          98.45|       1.27|\n",
              "|              Kerala|    5008381| 73497|   4901369| 33515|        1.47|          97.86|       0.67|\n",
              "|              Ladakh|      21006|    91|     20706|   209|        0.43|          98.57|       0.99|\n",
              "|         Lakshadweep|      10365|     0|     10314|    51|         0.0|          99.51|       0.49|\n",
              "|      Madhya Pradesh|     792901|   107|    782270| 10524|        0.01|          98.66|       1.33|\n",
              "+--------------------+-----------+------+----------+------+------------+---------------+-----------+\n",
              "only showing top 20 rows"
            ]
          },
          "metadata": {},
          "execution_count": 14
        }
      ]
    },
    {
      "cell_type": "code",
      "metadata": {
        "colab": {
          "base_uri": "https://localhost:8080/",
          "height": 521
        },
        "id": "Xyp9_f6wm78v",
        "outputId": "13118e50-7dcd-4f26-8fc9-1afe42bca795"
      },
      "source": [
        "from pyspark.sql import functions as F\n",
        "\n",
        "renamed_df = df.select([F.col(col).alias(col.replace(' ', '_')) for col in df.columns])\n",
        "renamed_df"
      ],
      "execution_count": 15,
      "outputs": [
        {
          "output_type": "execute_result",
          "data": {
            "text/html": [
              "<table border='1'>\n",
              "<tr><th>State/UTs</th><th>Total_Cases</th><th>Active</th><th>Discharged</th><th>Deaths</th><th>Active_Ratio</th><th>Discharge_Ratio</th><th>Death_Ratio</th></tr>\n",
              "<tr><td>Andaman and Nicobar</td><td>7660</td><td>11</td><td>7520</td><td>129</td><td>0.14</td><td>98.17</td><td>1.68</td></tr>\n",
              "<tr><td>Andhra Pradesh</td><td>2067921</td><td>3568</td><td>2049961</td><td>14392</td><td>0.17</td><td>99.13</td><td>0.7</td></tr>\n",
              "<tr><td>Arunachal Pradesh</td><td>55180</td><td>60</td><td>54840</td><td>280</td><td>0.11</td><td>99.38</td><td>0.51</td></tr>\n",
              "<tr><td>Assam</td><td>612134</td><td>3379</td><td>602729</td><td>6026</td><td>0.55</td><td>98.46</td><td>0.98</td></tr>\n",
              "<tr><td>Bihar</td><td>726129</td><td>44</td><td>716424</td><td>9661</td><td>0.01</td><td>98.66</td><td>1.33</td></tr>\n",
              "<tr><td>Chandigarh</td><td>65360</td><td>29</td><td>64511</td><td>820</td><td>0.04</td><td>98.7</td><td>1.25</td></tr>\n",
              "<tr><td>Chhattisgarh</td><td>1006159</td><td>259</td><td>992316</td><td>13584</td><td>0.03</td><td>98.62</td><td>1.35</td></tr>\n",
              "<tr><td>Dadra and Nagar H...</td><td>10682</td><td>0</td><td>10678</td><td>4</td><td>0.0</td><td>99.96</td><td>0.04</td></tr>\n",
              "<tr><td>Delhi</td><td>1440071</td><td>351</td><td>1414629</td><td>25091</td><td>0.02</td><td>98.23</td><td>1.74</td></tr>\n",
              "<tr><td>Goa</td><td>178281</td><td>313</td><td>174601</td><td>3367</td><td>0.18</td><td>97.94</td><td>1.89</td></tr>\n",
              "<tr><td>Gujarat</td><td>826716</td><td>227</td><td>816399</td><td>10090</td><td>0.03</td><td>98.75</td><td>1.22</td></tr>\n",
              "<tr><td>Haryana</td><td>771308</td><td>112</td><td>761146</td><td>10050</td><td>0.01</td><td>98.68</td><td>1.3</td></tr>\n",
              "<tr><td>Himachal Pradesh</td><td>224830</td><td>1375</td><td>219681</td><td>3774</td><td>0.61</td><td>97.71</td><td>1.68</td></tr>\n",
              "<tr><td>Jammu and Kashmir</td><td>332911</td><td>1091</td><td>327380</td><td>4440</td><td>0.33</td><td>98.34</td><td>1.33</td></tr>\n",
              "<tr><td>Jharkhand</td><td>348864</td><td>140</td><td>343586</td><td>5138</td><td>0.04</td><td>98.49</td><td>1.47</td></tr>\n",
              "<tr><td>Karnataka</td><td>2989713</td><td>8119</td><td>2943487</td><td>38107</td><td>0.27</td><td>98.45</td><td>1.27</td></tr>\n",
              "<tr><td>Kerala</td><td>5008381</td><td>73497</td><td>4901369</td><td>33515</td><td>1.47</td><td>97.86</td><td>0.67</td></tr>\n",
              "<tr><td>Ladakh</td><td>21006</td><td>91</td><td>20706</td><td>209</td><td>0.43</td><td>98.57</td><td>0.99</td></tr>\n",
              "<tr><td>Lakshadweep</td><td>10365</td><td>0</td><td>10314</td><td>51</td><td>0.0</td><td>99.51</td><td>0.49</td></tr>\n",
              "<tr><td>Madhya Pradesh</td><td>792901</td><td>107</td><td>782270</td><td>10524</td><td>0.01</td><td>98.66</td><td>1.33</td></tr>\n",
              "</table>\n",
              "only showing top 20 rows\n"
            ],
            "text/plain": [
              "+--------------------+-----------+------+----------+------+------------+---------------+-----------+\n",
              "|           State/UTs|Total_Cases|Active|Discharged|Deaths|Active_Ratio|Discharge_Ratio|Death_Ratio|\n",
              "+--------------------+-----------+------+----------+------+------------+---------------+-----------+\n",
              "| Andaman and Nicobar|       7660|    11|      7520|   129|        0.14|          98.17|       1.68|\n",
              "|      Andhra Pradesh|    2067921|  3568|   2049961| 14392|        0.17|          99.13|        0.7|\n",
              "|   Arunachal Pradesh|      55180|    60|     54840|   280|        0.11|          99.38|       0.51|\n",
              "|               Assam|     612134|  3379|    602729|  6026|        0.55|          98.46|       0.98|\n",
              "|               Bihar|     726129|    44|    716424|  9661|        0.01|          98.66|       1.33|\n",
              "|          Chandigarh|      65360|    29|     64511|   820|        0.04|           98.7|       1.25|\n",
              "|        Chhattisgarh|    1006159|   259|    992316| 13584|        0.03|          98.62|       1.35|\n",
              "|Dadra and Nagar H...|      10682|     0|     10678|     4|         0.0|          99.96|       0.04|\n",
              "|               Delhi|    1440071|   351|   1414629| 25091|        0.02|          98.23|       1.74|\n",
              "|                 Goa|     178281|   313|    174601|  3367|        0.18|          97.94|       1.89|\n",
              "|             Gujarat|     826716|   227|    816399| 10090|        0.03|          98.75|       1.22|\n",
              "|             Haryana|     771308|   112|    761146| 10050|        0.01|          98.68|        1.3|\n",
              "|    Himachal Pradesh|     224830|  1375|    219681|  3774|        0.61|          97.71|       1.68|\n",
              "|   Jammu and Kashmir|     332911|  1091|    327380|  4440|        0.33|          98.34|       1.33|\n",
              "|           Jharkhand|     348864|   140|    343586|  5138|        0.04|          98.49|       1.47|\n",
              "|           Karnataka|    2989713|  8119|   2943487| 38107|        0.27|          98.45|       1.27|\n",
              "|              Kerala|    5008381| 73497|   4901369| 33515|        1.47|          97.86|       0.67|\n",
              "|              Ladakh|      21006|    91|     20706|   209|        0.43|          98.57|       0.99|\n",
              "|         Lakshadweep|      10365|     0|     10314|    51|         0.0|          99.51|       0.49|\n",
              "|      Madhya Pradesh|     792901|   107|    782270| 10524|        0.01|          98.66|       1.33|\n",
              "+--------------------+-----------+------+----------+------+------------+---------------+-----------+\n",
              "only showing top 20 rows"
            ]
          },
          "metadata": {},
          "execution_count": 15
        }
      ]
    },
    {
      "cell_type": "code",
      "metadata": {
        "id": "2tsb-j92nepb"
      },
      "source": [
        "renamed_df.createOrReplaceTempView('Data')"
      ],
      "execution_count": 16,
      "outputs": []
    },
    {
      "cell_type": "code",
      "metadata": {
        "colab": {
          "base_uri": "https://localhost:8080/",
          "height": 521
        },
        "id": "2QiyPeuQog9M",
        "outputId": "4dde1d38-532b-4a42-ca96-ac5d36c13c8f"
      },
      "source": [
        "spark.sql('Select * from Data')"
      ],
      "execution_count": 18,
      "outputs": [
        {
          "output_type": "execute_result",
          "data": {
            "text/html": [
              "<table border='1'>\n",
              "<tr><th>State/UTs</th><th>Total_Cases</th><th>Active</th><th>Discharged</th><th>Deaths</th><th>Active_Ratio</th><th>Discharge_Ratio</th><th>Death_Ratio</th></tr>\n",
              "<tr><td>Andaman and Nicobar</td><td>7660</td><td>11</td><td>7520</td><td>129</td><td>0.14</td><td>98.17</td><td>1.68</td></tr>\n",
              "<tr><td>Andhra Pradesh</td><td>2067921</td><td>3568</td><td>2049961</td><td>14392</td><td>0.17</td><td>99.13</td><td>0.7</td></tr>\n",
              "<tr><td>Arunachal Pradesh</td><td>55180</td><td>60</td><td>54840</td><td>280</td><td>0.11</td><td>99.38</td><td>0.51</td></tr>\n",
              "<tr><td>Assam</td><td>612134</td><td>3379</td><td>602729</td><td>6026</td><td>0.55</td><td>98.46</td><td>0.98</td></tr>\n",
              "<tr><td>Bihar</td><td>726129</td><td>44</td><td>716424</td><td>9661</td><td>0.01</td><td>98.66</td><td>1.33</td></tr>\n",
              "<tr><td>Chandigarh</td><td>65360</td><td>29</td><td>64511</td><td>820</td><td>0.04</td><td>98.7</td><td>1.25</td></tr>\n",
              "<tr><td>Chhattisgarh</td><td>1006159</td><td>259</td><td>992316</td><td>13584</td><td>0.03</td><td>98.62</td><td>1.35</td></tr>\n",
              "<tr><td>Dadra and Nagar H...</td><td>10682</td><td>0</td><td>10678</td><td>4</td><td>0.0</td><td>99.96</td><td>0.04</td></tr>\n",
              "<tr><td>Delhi</td><td>1440071</td><td>351</td><td>1414629</td><td>25091</td><td>0.02</td><td>98.23</td><td>1.74</td></tr>\n",
              "<tr><td>Goa</td><td>178281</td><td>313</td><td>174601</td><td>3367</td><td>0.18</td><td>97.94</td><td>1.89</td></tr>\n",
              "<tr><td>Gujarat</td><td>826716</td><td>227</td><td>816399</td><td>10090</td><td>0.03</td><td>98.75</td><td>1.22</td></tr>\n",
              "<tr><td>Haryana</td><td>771308</td><td>112</td><td>761146</td><td>10050</td><td>0.01</td><td>98.68</td><td>1.3</td></tr>\n",
              "<tr><td>Himachal Pradesh</td><td>224830</td><td>1375</td><td>219681</td><td>3774</td><td>0.61</td><td>97.71</td><td>1.68</td></tr>\n",
              "<tr><td>Jammu and Kashmir</td><td>332911</td><td>1091</td><td>327380</td><td>4440</td><td>0.33</td><td>98.34</td><td>1.33</td></tr>\n",
              "<tr><td>Jharkhand</td><td>348864</td><td>140</td><td>343586</td><td>5138</td><td>0.04</td><td>98.49</td><td>1.47</td></tr>\n",
              "<tr><td>Karnataka</td><td>2989713</td><td>8119</td><td>2943487</td><td>38107</td><td>0.27</td><td>98.45</td><td>1.27</td></tr>\n",
              "<tr><td>Kerala</td><td>5008381</td><td>73497</td><td>4901369</td><td>33515</td><td>1.47</td><td>97.86</td><td>0.67</td></tr>\n",
              "<tr><td>Ladakh</td><td>21006</td><td>91</td><td>20706</td><td>209</td><td>0.43</td><td>98.57</td><td>0.99</td></tr>\n",
              "<tr><td>Lakshadweep</td><td>10365</td><td>0</td><td>10314</td><td>51</td><td>0.0</td><td>99.51</td><td>0.49</td></tr>\n",
              "<tr><td>Madhya Pradesh</td><td>792901</td><td>107</td><td>782270</td><td>10524</td><td>0.01</td><td>98.66</td><td>1.33</td></tr>\n",
              "</table>\n",
              "only showing top 20 rows\n"
            ],
            "text/plain": [
              "+--------------------+-----------+------+----------+------+------------+---------------+-----------+\n",
              "|           State/UTs|Total_Cases|Active|Discharged|Deaths|Active_Ratio|Discharge_Ratio|Death_Ratio|\n",
              "+--------------------+-----------+------+----------+------+------------+---------------+-----------+\n",
              "| Andaman and Nicobar|       7660|    11|      7520|   129|        0.14|          98.17|       1.68|\n",
              "|      Andhra Pradesh|    2067921|  3568|   2049961| 14392|        0.17|          99.13|        0.7|\n",
              "|   Arunachal Pradesh|      55180|    60|     54840|   280|        0.11|          99.38|       0.51|\n",
              "|               Assam|     612134|  3379|    602729|  6026|        0.55|          98.46|       0.98|\n",
              "|               Bihar|     726129|    44|    716424|  9661|        0.01|          98.66|       1.33|\n",
              "|          Chandigarh|      65360|    29|     64511|   820|        0.04|           98.7|       1.25|\n",
              "|        Chhattisgarh|    1006159|   259|    992316| 13584|        0.03|          98.62|       1.35|\n",
              "|Dadra and Nagar H...|      10682|     0|     10678|     4|         0.0|          99.96|       0.04|\n",
              "|               Delhi|    1440071|   351|   1414629| 25091|        0.02|          98.23|       1.74|\n",
              "|                 Goa|     178281|   313|    174601|  3367|        0.18|          97.94|       1.89|\n",
              "|             Gujarat|     826716|   227|    816399| 10090|        0.03|          98.75|       1.22|\n",
              "|             Haryana|     771308|   112|    761146| 10050|        0.01|          98.68|        1.3|\n",
              "|    Himachal Pradesh|     224830|  1375|    219681|  3774|        0.61|          97.71|       1.68|\n",
              "|   Jammu and Kashmir|     332911|  1091|    327380|  4440|        0.33|          98.34|       1.33|\n",
              "|           Jharkhand|     348864|   140|    343586|  5138|        0.04|          98.49|       1.47|\n",
              "|           Karnataka|    2989713|  8119|   2943487| 38107|        0.27|          98.45|       1.27|\n",
              "|              Kerala|    5008381| 73497|   4901369| 33515|        1.47|          97.86|       0.67|\n",
              "|              Ladakh|      21006|    91|     20706|   209|        0.43|          98.57|       0.99|\n",
              "|         Lakshadweep|      10365|     0|     10314|    51|         0.0|          99.51|       0.49|\n",
              "|      Madhya Pradesh|     792901|   107|    782270| 10524|        0.01|          98.66|       1.33|\n",
              "+--------------------+-----------+------+----------+------+------------+---------------+-----------+\n",
              "only showing top 20 rows"
            ]
          },
          "metadata": {},
          "execution_count": 18
        }
      ]
    },
    {
      "cell_type": "code",
      "metadata": {
        "colab": {
          "base_uri": "https://localhost:8080/",
          "height": 521
        },
        "id": "UD_Cx1Kqn6IB",
        "outputId": "fadde28c-2b60-4167-8551-06e60ef89172"
      },
      "source": [
        "renamed_df = renamed_df.withColumnRenamed('State/UTs', 'State_UTs')\n",
        "renamed_df"
      ],
      "execution_count": 28,
      "outputs": [
        {
          "output_type": "execute_result",
          "data": {
            "text/html": [
              "<table border='1'>\n",
              "<tr><th>State_UTs</th><th>Total_Cases</th><th>Active</th><th>Discharged</th><th>Deaths</th><th>Active_Ratio</th><th>Discharge_Ratio</th><th>Death_Ratio</th></tr>\n",
              "<tr><td>Andaman and Nicobar</td><td>7660</td><td>11</td><td>7520</td><td>129</td><td>0.14</td><td>98.17</td><td>1.68</td></tr>\n",
              "<tr><td>Andhra Pradesh</td><td>2067921</td><td>3568</td><td>2049961</td><td>14392</td><td>0.17</td><td>99.13</td><td>0.7</td></tr>\n",
              "<tr><td>Arunachal Pradesh</td><td>55180</td><td>60</td><td>54840</td><td>280</td><td>0.11</td><td>99.38</td><td>0.51</td></tr>\n",
              "<tr><td>Assam</td><td>612134</td><td>3379</td><td>602729</td><td>6026</td><td>0.55</td><td>98.46</td><td>0.98</td></tr>\n",
              "<tr><td>Bihar</td><td>726129</td><td>44</td><td>716424</td><td>9661</td><td>0.01</td><td>98.66</td><td>1.33</td></tr>\n",
              "<tr><td>Chandigarh</td><td>65360</td><td>29</td><td>64511</td><td>820</td><td>0.04</td><td>98.7</td><td>1.25</td></tr>\n",
              "<tr><td>Chhattisgarh</td><td>1006159</td><td>259</td><td>992316</td><td>13584</td><td>0.03</td><td>98.62</td><td>1.35</td></tr>\n",
              "<tr><td>Dadra and Nagar H...</td><td>10682</td><td>0</td><td>10678</td><td>4</td><td>0.0</td><td>99.96</td><td>0.04</td></tr>\n",
              "<tr><td>Delhi</td><td>1440071</td><td>351</td><td>1414629</td><td>25091</td><td>0.02</td><td>98.23</td><td>1.74</td></tr>\n",
              "<tr><td>Goa</td><td>178281</td><td>313</td><td>174601</td><td>3367</td><td>0.18</td><td>97.94</td><td>1.89</td></tr>\n",
              "<tr><td>Gujarat</td><td>826716</td><td>227</td><td>816399</td><td>10090</td><td>0.03</td><td>98.75</td><td>1.22</td></tr>\n",
              "<tr><td>Haryana</td><td>771308</td><td>112</td><td>761146</td><td>10050</td><td>0.01</td><td>98.68</td><td>1.3</td></tr>\n",
              "<tr><td>Himachal Pradesh</td><td>224830</td><td>1375</td><td>219681</td><td>3774</td><td>0.61</td><td>97.71</td><td>1.68</td></tr>\n",
              "<tr><td>Jammu and Kashmir</td><td>332911</td><td>1091</td><td>327380</td><td>4440</td><td>0.33</td><td>98.34</td><td>1.33</td></tr>\n",
              "<tr><td>Jharkhand</td><td>348864</td><td>140</td><td>343586</td><td>5138</td><td>0.04</td><td>98.49</td><td>1.47</td></tr>\n",
              "<tr><td>Karnataka</td><td>2989713</td><td>8119</td><td>2943487</td><td>38107</td><td>0.27</td><td>98.45</td><td>1.27</td></tr>\n",
              "<tr><td>Kerala</td><td>5008381</td><td>73497</td><td>4901369</td><td>33515</td><td>1.47</td><td>97.86</td><td>0.67</td></tr>\n",
              "<tr><td>Ladakh</td><td>21006</td><td>91</td><td>20706</td><td>209</td><td>0.43</td><td>98.57</td><td>0.99</td></tr>\n",
              "<tr><td>Lakshadweep</td><td>10365</td><td>0</td><td>10314</td><td>51</td><td>0.0</td><td>99.51</td><td>0.49</td></tr>\n",
              "<tr><td>Madhya Pradesh</td><td>792901</td><td>107</td><td>782270</td><td>10524</td><td>0.01</td><td>98.66</td><td>1.33</td></tr>\n",
              "</table>\n",
              "only showing top 20 rows\n"
            ],
            "text/plain": [
              "+--------------------+-----------+------+----------+------+------------+---------------+-----------+\n",
              "|           State_UTs|Total_Cases|Active|Discharged|Deaths|Active_Ratio|Discharge_Ratio|Death_Ratio|\n",
              "+--------------------+-----------+------+----------+------+------------+---------------+-----------+\n",
              "| Andaman and Nicobar|       7660|    11|      7520|   129|        0.14|          98.17|       1.68|\n",
              "|      Andhra Pradesh|    2067921|  3568|   2049961| 14392|        0.17|          99.13|        0.7|\n",
              "|   Arunachal Pradesh|      55180|    60|     54840|   280|        0.11|          99.38|       0.51|\n",
              "|               Assam|     612134|  3379|    602729|  6026|        0.55|          98.46|       0.98|\n",
              "|               Bihar|     726129|    44|    716424|  9661|        0.01|          98.66|       1.33|\n",
              "|          Chandigarh|      65360|    29|     64511|   820|        0.04|           98.7|       1.25|\n",
              "|        Chhattisgarh|    1006159|   259|    992316| 13584|        0.03|          98.62|       1.35|\n",
              "|Dadra and Nagar H...|      10682|     0|     10678|     4|         0.0|          99.96|       0.04|\n",
              "|               Delhi|    1440071|   351|   1414629| 25091|        0.02|          98.23|       1.74|\n",
              "|                 Goa|     178281|   313|    174601|  3367|        0.18|          97.94|       1.89|\n",
              "|             Gujarat|     826716|   227|    816399| 10090|        0.03|          98.75|       1.22|\n",
              "|             Haryana|     771308|   112|    761146| 10050|        0.01|          98.68|        1.3|\n",
              "|    Himachal Pradesh|     224830|  1375|    219681|  3774|        0.61|          97.71|       1.68|\n",
              "|   Jammu and Kashmir|     332911|  1091|    327380|  4440|        0.33|          98.34|       1.33|\n",
              "|           Jharkhand|     348864|   140|    343586|  5138|        0.04|          98.49|       1.47|\n",
              "|           Karnataka|    2989713|  8119|   2943487| 38107|        0.27|          98.45|       1.27|\n",
              "|              Kerala|    5008381| 73497|   4901369| 33515|        1.47|          97.86|       0.67|\n",
              "|              Ladakh|      21006|    91|     20706|   209|        0.43|          98.57|       0.99|\n",
              "|         Lakshadweep|      10365|     0|     10314|    51|         0.0|          99.51|       0.49|\n",
              "|      Madhya Pradesh|     792901|   107|    782270| 10524|        0.01|          98.66|       1.33|\n",
              "+--------------------+-----------+------+----------+------+------------+---------------+-----------+\n",
              "only showing top 20 rows"
            ]
          },
          "metadata": {},
          "execution_count": 28
        }
      ]
    },
    {
      "cell_type": "code",
      "metadata": {
        "id": "ZDwMu44Cnucu"
      },
      "source": [
        "renamed_df.createOrReplaceTempView('Data')"
      ],
      "execution_count": 33,
      "outputs": []
    },
    {
      "cell_type": "code",
      "metadata": {
        "colab": {
          "base_uri": "https://localhost:8080/",
          "height": 67
        },
        "id": "DAL-mMsyo-uu",
        "outputId": "94918bd8-ef19-44f8-fc24-dacbe234aa91"
      },
      "source": [
        "spark.sql('Select count(State_UTs) from Data')"
      ],
      "execution_count": 35,
      "outputs": [
        {
          "output_type": "execute_result",
          "data": {
            "text/html": [
              "<table border='1'>\n",
              "<tr><th>count(State_UTs)</th></tr>\n",
              "<tr><td>36</td></tr>\n",
              "</table>\n"
            ],
            "text/plain": [
              "+----------------+\n",
              "|count(State_UTs)|\n",
              "+----------------+\n",
              "|              36|\n",
              "+----------------+"
            ]
          },
          "metadata": {},
          "execution_count": 35
        }
      ]
    },
    {
      "cell_type": "code",
      "metadata": {
        "colab": {
          "base_uri": "https://localhost:8080/",
          "height": 159
        },
        "id": "vvrzNm9lo_Q7",
        "outputId": "07101a4e-b713-45ce-cee2-65070aaf8ce4"
      },
      "source": [
        "spark.sql('select * from Data order by Active desc limit 5')"
      ],
      "execution_count": 36,
      "outputs": [
        {
          "output_type": "execute_result",
          "data": {
            "text/html": [
              "<table border='1'>\n",
              "<tr><th>State_UTs</th><th>Total_Cases</th><th>Active</th><th>Discharged</th><th>Deaths</th><th>Active_Ratio</th><th>Discharge_Ratio</th><th>Death_Ratio</th></tr>\n",
              "<tr><td>Kerala</td><td>5008381</td><td>73497</td><td>4901369</td><td>33515</td><td>1.47</td><td>97.86</td><td>0.67</td></tr>\n",
              "<tr><td>Maharashtra</td><td>6616762</td><td>18345</td><td>6458045</td><td>140372</td><td>0.28</td><td>97.6</td><td>2.12</td></tr>\n",
              "<tr><td>Tamil Nadu</td><td>2708230</td><td>10588</td><td>2661428</td><td>36214</td><td>0.39</td><td>98.27</td><td>1.34</td></tr>\n",
              "<tr><td>Karnataka</td><td>2989713</td><td>8119</td><td>2943487</td><td>38107</td><td>0.27</td><td>98.45</td><td>1.27</td></tr>\n",
              "<tr><td>West Bengal</td><td>1597765</td><td>8029</td><td>1570521</td><td>19215</td><td>0.5</td><td>98.29</td><td>1.2</td></tr>\n",
              "</table>\n"
            ],
            "text/plain": [
              "+-----------+-----------+------+----------+------+------------+---------------+-----------+\n",
              "|  State_UTs|Total_Cases|Active|Discharged|Deaths|Active_Ratio|Discharge_Ratio|Death_Ratio|\n",
              "+-----------+-----------+------+----------+------+------------+---------------+-----------+\n",
              "|     Kerala|    5008381| 73497|   4901369| 33515|        1.47|          97.86|       0.67|\n",
              "|Maharashtra|    6616762| 18345|   6458045|140372|        0.28|           97.6|       2.12|\n",
              "| Tamil Nadu|    2708230| 10588|   2661428| 36214|        0.39|          98.27|       1.34|\n",
              "|  Karnataka|    2989713|  8119|   2943487| 38107|        0.27|          98.45|       1.27|\n",
              "|West Bengal|    1597765|  8029|   1570521| 19215|         0.5|          98.29|        1.2|\n",
              "+-----------+-----------+------+----------+------+------------+---------------+-----------+"
            ]
          },
          "metadata": {},
          "execution_count": 36
        }
      ]
    },
    {
      "cell_type": "code",
      "metadata": {
        "colab": {
          "base_uri": "https://localhost:8080/",
          "height": 159
        },
        "id": "Zvs3UiUqpbII",
        "outputId": "81a5ae16-2fa2-434e-cb9c-bbc675738879"
      },
      "source": [
        "spark.sql('select * from Data order by Death_Ratio desc limit 5')"
      ],
      "execution_count": 37,
      "outputs": [
        {
          "output_type": "execute_result",
          "data": {
            "text/html": [
              "<table border='1'>\n",
              "<tr><th>State_UTs</th><th>Total_Cases</th><th>Active</th><th>Discharged</th><th>Deaths</th><th>Active_Ratio</th><th>Discharge_Ratio</th><th>Death_Ratio</th></tr>\n",
              "<tr><td>Punjab</td><td>602517</td><td>219</td><td>585736</td><td>16562</td><td>0.04</td><td>97.21</td><td>2.75</td></tr>\n",
              "<tr><td>Nagaland</td><td>31922</td><td>188</td><td>31045</td><td>689</td><td>0.59</td><td>97.25</td><td>2.16</td></tr>\n",
              "<tr><td>Uttarakhand</td><td>343939</td><td>146</td><td>336392</td><td>7401</td><td>0.04</td><td>97.81</td><td>2.15</td></tr>\n",
              "<tr><td>Maharashtra</td><td>6616762</td><td>18345</td><td>6458045</td><td>140372</td><td>0.28</td><td>97.6</td><td>2.12</td></tr>\n",
              "<tr><td>Goa</td><td>178281</td><td>313</td><td>174601</td><td>3367</td><td>0.18</td><td>97.94</td><td>1.89</td></tr>\n",
              "</table>\n"
            ],
            "text/plain": [
              "+-----------+-----------+------+----------+------+------------+---------------+-----------+\n",
              "|  State_UTs|Total_Cases|Active|Discharged|Deaths|Active_Ratio|Discharge_Ratio|Death_Ratio|\n",
              "+-----------+-----------+------+----------+------+------------+---------------+-----------+\n",
              "|     Punjab|     602517|   219|    585736| 16562|        0.04|          97.21|       2.75|\n",
              "|   Nagaland|      31922|   188|     31045|   689|        0.59|          97.25|       2.16|\n",
              "|Uttarakhand|     343939|   146|    336392|  7401|        0.04|          97.81|       2.15|\n",
              "|Maharashtra|    6616762| 18345|   6458045|140372|        0.28|           97.6|       2.12|\n",
              "|        Goa|     178281|   313|    174601|  3367|        0.18|          97.94|       1.89|\n",
              "+-----------+-----------+------+----------+------+------------+---------------+-----------+"
            ]
          },
          "metadata": {},
          "execution_count": 37
        }
      ]
    },
    {
      "cell_type": "code",
      "metadata": {
        "colab": {
          "base_uri": "https://localhost:8080/",
          "height": 67
        },
        "id": "eC-uz8PapeqL",
        "outputId": "97a6b6b9-bfa2-4932-98a1-ad0f5aaed343"
      },
      "source": [
        "spark.sql('select sum(Total_Cases), sum(Deaths) from data')"
      ],
      "execution_count": 38,
      "outputs": [
        {
          "output_type": "execute_result",
          "data": {
            "text/html": [
              "<table border='1'>\n",
              "<tr><th>sum(Total_Cases)</th><th>sum(Deaths)</th></tr>\n",
              "<tr><td>34355509</td><td>460791</td></tr>\n",
              "</table>\n"
            ],
            "text/plain": [
              "+----------------+-----------+\n",
              "|sum(Total_Cases)|sum(Deaths)|\n",
              "+----------------+-----------+\n",
              "|        34355509|     460791|\n",
              "+----------------+-----------+"
            ]
          },
          "metadata": {},
          "execution_count": 38
        }
      ]
    },
    {
      "cell_type": "code",
      "metadata": {
        "colab": {
          "base_uri": "https://localhost:8080/",
          "height": 159
        },
        "id": "b_-DMwO-pjBT",
        "outputId": "d528bf97-0989-4ca8-9799-2ba9b70d0ba4"
      },
      "source": [
        "spark.sql('select * from Data order by Active asc limit 5 ')"
      ],
      "execution_count": 40,
      "outputs": [
        {
          "output_type": "execute_result",
          "data": {
            "text/html": [
              "<table border='1'>\n",
              "<tr><th>State_UTs</th><th>Total_Cases</th><th>Active</th><th>Discharged</th><th>Deaths</th><th>Active_Ratio</th><th>Discharge_Ratio</th><th>Death_Ratio</th></tr>\n",
              "<tr><td>Dadra and Nagar H...</td><td>10682</td><td>0</td><td>10678</td><td>4</td><td>0.0</td><td>99.96</td><td>0.04</td></tr>\n",
              "<tr><td>Lakshadweep</td><td>10365</td><td>0</td><td>10314</td><td>51</td><td>0.0</td><td>99.51</td><td>0.49</td></tr>\n",
              "<tr><td>Andaman and Nicobar</td><td>7660</td><td>11</td><td>7520</td><td>129</td><td>0.14</td><td>98.17</td><td>1.68</td></tr>\n",
              "<tr><td>Chandigarh</td><td>65360</td><td>29</td><td>64511</td><td>820</td><td>0.04</td><td>98.7</td><td>1.25</td></tr>\n",
              "<tr><td>Bihar</td><td>726129</td><td>44</td><td>716424</td><td>9661</td><td>0.01</td><td>98.66</td><td>1.33</td></tr>\n",
              "</table>\n"
            ],
            "text/plain": [
              "+--------------------+-----------+------+----------+------+------------+---------------+-----------+\n",
              "|           State_UTs|Total_Cases|Active|Discharged|Deaths|Active_Ratio|Discharge_Ratio|Death_Ratio|\n",
              "+--------------------+-----------+------+----------+------+------------+---------------+-----------+\n",
              "|Dadra and Nagar H...|      10682|     0|     10678|     4|         0.0|          99.96|       0.04|\n",
              "|         Lakshadweep|      10365|     0|     10314|    51|         0.0|          99.51|       0.49|\n",
              "| Andaman and Nicobar|       7660|    11|      7520|   129|        0.14|          98.17|       1.68|\n",
              "|          Chandigarh|      65360|    29|     64511|   820|        0.04|           98.7|       1.25|\n",
              "|               Bihar|     726129|    44|    716424|  9661|        0.01|          98.66|       1.33|\n",
              "+--------------------+-----------+------+----------+------+------------+---------------+-----------+"
            ]
          },
          "metadata": {},
          "execution_count": 40
        }
      ]
    },
    {
      "cell_type": "code",
      "metadata": {
        "colab": {
          "base_uri": "https://localhost:8080/",
          "height": 1000
        },
        "id": "24mFL9cGpv37",
        "outputId": "fa96e20a-f840-41db-c72b-8a6975d649ac"
      },
      "source": [
        "import pandas as pd\n",
        "\n",
        "pd_df = renamed_df.toPandas()\n",
        "pd_df"
      ],
      "execution_count": 42,
      "outputs": [
        {
          "output_type": "execute_result",
          "data": {
            "text/html": [
              "<div>\n",
              "<style scoped>\n",
              "    .dataframe tbody tr th:only-of-type {\n",
              "        vertical-align: middle;\n",
              "    }\n",
              "\n",
              "    .dataframe tbody tr th {\n",
              "        vertical-align: top;\n",
              "    }\n",
              "\n",
              "    .dataframe thead th {\n",
              "        text-align: right;\n",
              "    }\n",
              "</style>\n",
              "<table border=\"1\" class=\"dataframe\">\n",
              "  <thead>\n",
              "    <tr style=\"text-align: right;\">\n",
              "      <th></th>\n",
              "      <th>State_UTs</th>\n",
              "      <th>Total_Cases</th>\n",
              "      <th>Active</th>\n",
              "      <th>Discharged</th>\n",
              "      <th>Deaths</th>\n",
              "      <th>Active_Ratio</th>\n",
              "      <th>Discharge_Ratio</th>\n",
              "      <th>Death_Ratio</th>\n",
              "    </tr>\n",
              "  </thead>\n",
              "  <tbody>\n",
              "    <tr>\n",
              "      <th>0</th>\n",
              "      <td>Andaman and Nicobar</td>\n",
              "      <td>7660</td>\n",
              "      <td>11</td>\n",
              "      <td>7520</td>\n",
              "      <td>129</td>\n",
              "      <td>0.14</td>\n",
              "      <td>98.17</td>\n",
              "      <td>1.68</td>\n",
              "    </tr>\n",
              "    <tr>\n",
              "      <th>1</th>\n",
              "      <td>Andhra Pradesh</td>\n",
              "      <td>2067921</td>\n",
              "      <td>3568</td>\n",
              "      <td>2049961</td>\n",
              "      <td>14392</td>\n",
              "      <td>0.17</td>\n",
              "      <td>99.13</td>\n",
              "      <td>0.70</td>\n",
              "    </tr>\n",
              "    <tr>\n",
              "      <th>2</th>\n",
              "      <td>Arunachal Pradesh</td>\n",
              "      <td>55180</td>\n",
              "      <td>60</td>\n",
              "      <td>54840</td>\n",
              "      <td>280</td>\n",
              "      <td>0.11</td>\n",
              "      <td>99.38</td>\n",
              "      <td>0.51</td>\n",
              "    </tr>\n",
              "    <tr>\n",
              "      <th>3</th>\n",
              "      <td>Assam</td>\n",
              "      <td>612134</td>\n",
              "      <td>3379</td>\n",
              "      <td>602729</td>\n",
              "      <td>6026</td>\n",
              "      <td>0.55</td>\n",
              "      <td>98.46</td>\n",
              "      <td>0.98</td>\n",
              "    </tr>\n",
              "    <tr>\n",
              "      <th>4</th>\n",
              "      <td>Bihar</td>\n",
              "      <td>726129</td>\n",
              "      <td>44</td>\n",
              "      <td>716424</td>\n",
              "      <td>9661</td>\n",
              "      <td>0.01</td>\n",
              "      <td>98.66</td>\n",
              "      <td>1.33</td>\n",
              "    </tr>\n",
              "    <tr>\n",
              "      <th>5</th>\n",
              "      <td>Chandigarh</td>\n",
              "      <td>65360</td>\n",
              "      <td>29</td>\n",
              "      <td>64511</td>\n",
              "      <td>820</td>\n",
              "      <td>0.04</td>\n",
              "      <td>98.70</td>\n",
              "      <td>1.25</td>\n",
              "    </tr>\n",
              "    <tr>\n",
              "      <th>6</th>\n",
              "      <td>Chhattisgarh</td>\n",
              "      <td>1006159</td>\n",
              "      <td>259</td>\n",
              "      <td>992316</td>\n",
              "      <td>13584</td>\n",
              "      <td>0.03</td>\n",
              "      <td>98.62</td>\n",
              "      <td>1.35</td>\n",
              "    </tr>\n",
              "    <tr>\n",
              "      <th>7</th>\n",
              "      <td>Dadra and Nagar Haveli and Daman and Diu</td>\n",
              "      <td>10682</td>\n",
              "      <td>0</td>\n",
              "      <td>10678</td>\n",
              "      <td>4</td>\n",
              "      <td>0.00</td>\n",
              "      <td>99.96</td>\n",
              "      <td>0.04</td>\n",
              "    </tr>\n",
              "    <tr>\n",
              "      <th>8</th>\n",
              "      <td>Delhi</td>\n",
              "      <td>1440071</td>\n",
              "      <td>351</td>\n",
              "      <td>1414629</td>\n",
              "      <td>25091</td>\n",
              "      <td>0.02</td>\n",
              "      <td>98.23</td>\n",
              "      <td>1.74</td>\n",
              "    </tr>\n",
              "    <tr>\n",
              "      <th>9</th>\n",
              "      <td>Goa</td>\n",
              "      <td>178281</td>\n",
              "      <td>313</td>\n",
              "      <td>174601</td>\n",
              "      <td>3367</td>\n",
              "      <td>0.18</td>\n",
              "      <td>97.94</td>\n",
              "      <td>1.89</td>\n",
              "    </tr>\n",
              "    <tr>\n",
              "      <th>10</th>\n",
              "      <td>Gujarat</td>\n",
              "      <td>826716</td>\n",
              "      <td>227</td>\n",
              "      <td>816399</td>\n",
              "      <td>10090</td>\n",
              "      <td>0.03</td>\n",
              "      <td>98.75</td>\n",
              "      <td>1.22</td>\n",
              "    </tr>\n",
              "    <tr>\n",
              "      <th>11</th>\n",
              "      <td>Haryana</td>\n",
              "      <td>771308</td>\n",
              "      <td>112</td>\n",
              "      <td>761146</td>\n",
              "      <td>10050</td>\n",
              "      <td>0.01</td>\n",
              "      <td>98.68</td>\n",
              "      <td>1.30</td>\n",
              "    </tr>\n",
              "    <tr>\n",
              "      <th>12</th>\n",
              "      <td>Himachal Pradesh</td>\n",
              "      <td>224830</td>\n",
              "      <td>1375</td>\n",
              "      <td>219681</td>\n",
              "      <td>3774</td>\n",
              "      <td>0.61</td>\n",
              "      <td>97.71</td>\n",
              "      <td>1.68</td>\n",
              "    </tr>\n",
              "    <tr>\n",
              "      <th>13</th>\n",
              "      <td>Jammu and Kashmir</td>\n",
              "      <td>332911</td>\n",
              "      <td>1091</td>\n",
              "      <td>327380</td>\n",
              "      <td>4440</td>\n",
              "      <td>0.33</td>\n",
              "      <td>98.34</td>\n",
              "      <td>1.33</td>\n",
              "    </tr>\n",
              "    <tr>\n",
              "      <th>14</th>\n",
              "      <td>Jharkhand</td>\n",
              "      <td>348864</td>\n",
              "      <td>140</td>\n",
              "      <td>343586</td>\n",
              "      <td>5138</td>\n",
              "      <td>0.04</td>\n",
              "      <td>98.49</td>\n",
              "      <td>1.47</td>\n",
              "    </tr>\n",
              "    <tr>\n",
              "      <th>15</th>\n",
              "      <td>Karnataka</td>\n",
              "      <td>2989713</td>\n",
              "      <td>8119</td>\n",
              "      <td>2943487</td>\n",
              "      <td>38107</td>\n",
              "      <td>0.27</td>\n",
              "      <td>98.45</td>\n",
              "      <td>1.27</td>\n",
              "    </tr>\n",
              "    <tr>\n",
              "      <th>16</th>\n",
              "      <td>Kerala</td>\n",
              "      <td>5008381</td>\n",
              "      <td>73497</td>\n",
              "      <td>4901369</td>\n",
              "      <td>33515</td>\n",
              "      <td>1.47</td>\n",
              "      <td>97.86</td>\n",
              "      <td>0.67</td>\n",
              "    </tr>\n",
              "    <tr>\n",
              "      <th>17</th>\n",
              "      <td>Ladakh</td>\n",
              "      <td>21006</td>\n",
              "      <td>91</td>\n",
              "      <td>20706</td>\n",
              "      <td>209</td>\n",
              "      <td>0.43</td>\n",
              "      <td>98.57</td>\n",
              "      <td>0.99</td>\n",
              "    </tr>\n",
              "    <tr>\n",
              "      <th>18</th>\n",
              "      <td>Lakshadweep</td>\n",
              "      <td>10365</td>\n",
              "      <td>0</td>\n",
              "      <td>10314</td>\n",
              "      <td>51</td>\n",
              "      <td>0.00</td>\n",
              "      <td>99.51</td>\n",
              "      <td>0.49</td>\n",
              "    </tr>\n",
              "    <tr>\n",
              "      <th>19</th>\n",
              "      <td>Madhya Pradesh</td>\n",
              "      <td>792901</td>\n",
              "      <td>107</td>\n",
              "      <td>782270</td>\n",
              "      <td>10524</td>\n",
              "      <td>0.01</td>\n",
              "      <td>98.66</td>\n",
              "      <td>1.33</td>\n",
              "    </tr>\n",
              "    <tr>\n",
              "      <th>20</th>\n",
              "      <td>Maharashtra</td>\n",
              "      <td>6616762</td>\n",
              "      <td>18345</td>\n",
              "      <td>6458045</td>\n",
              "      <td>140372</td>\n",
              "      <td>0.28</td>\n",
              "      <td>97.60</td>\n",
              "      <td>2.12</td>\n",
              "    </tr>\n",
              "    <tr>\n",
              "      <th>21</th>\n",
              "      <td>Manipur</td>\n",
              "      <td>124047</td>\n",
              "      <td>701</td>\n",
              "      <td>121415</td>\n",
              "      <td>1931</td>\n",
              "      <td>0.57</td>\n",
              "      <td>97.88</td>\n",
              "      <td>1.56</td>\n",
              "    </tr>\n",
              "    <tr>\n",
              "      <th>22</th>\n",
              "      <td>Meghalaya</td>\n",
              "      <td>83827</td>\n",
              "      <td>377</td>\n",
              "      <td>81993</td>\n",
              "      <td>1457</td>\n",
              "      <td>0.45</td>\n",
              "      <td>97.81</td>\n",
              "      <td>1.74</td>\n",
              "    </tr>\n",
              "    <tr>\n",
              "      <th>23</th>\n",
              "      <td>Mizoram</td>\n",
              "      <td>124992</td>\n",
              "      <td>5981</td>\n",
              "      <td>118565</td>\n",
              "      <td>446</td>\n",
              "      <td>4.79</td>\n",
              "      <td>94.86</td>\n",
              "      <td>0.36</td>\n",
              "    </tr>\n",
              "    <tr>\n",
              "      <th>24</th>\n",
              "      <td>Nagaland</td>\n",
              "      <td>31922</td>\n",
              "      <td>188</td>\n",
              "      <td>31045</td>\n",
              "      <td>689</td>\n",
              "      <td>0.59</td>\n",
              "      <td>97.25</td>\n",
              "      <td>2.16</td>\n",
              "    </tr>\n",
              "    <tr>\n",
              "      <th>25</th>\n",
              "      <td>Odisha</td>\n",
              "      <td>1043151</td>\n",
              "      <td>2947</td>\n",
              "      <td>1031850</td>\n",
              "      <td>8354</td>\n",
              "      <td>0.28</td>\n",
              "      <td>98.92</td>\n",
              "      <td>0.80</td>\n",
              "    </tr>\n",
              "    <tr>\n",
              "      <th>26</th>\n",
              "      <td>Puducherry</td>\n",
              "      <td>128165</td>\n",
              "      <td>304</td>\n",
              "      <td>125999</td>\n",
              "      <td>1862</td>\n",
              "      <td>0.24</td>\n",
              "      <td>98.31</td>\n",
              "      <td>1.45</td>\n",
              "    </tr>\n",
              "    <tr>\n",
              "      <th>27</th>\n",
              "      <td>Punjab</td>\n",
              "      <td>602517</td>\n",
              "      <td>219</td>\n",
              "      <td>585736</td>\n",
              "      <td>16562</td>\n",
              "      <td>0.04</td>\n",
              "      <td>97.21</td>\n",
              "      <td>2.75</td>\n",
              "    </tr>\n",
              "    <tr>\n",
              "      <th>28</th>\n",
              "      <td>Rajasthan</td>\n",
              "      <td>954451</td>\n",
              "      <td>44</td>\n",
              "      <td>945453</td>\n",
              "      <td>8954</td>\n",
              "      <td>0.00</td>\n",
              "      <td>99.06</td>\n",
              "      <td>0.94</td>\n",
              "    </tr>\n",
              "    <tr>\n",
              "      <th>29</th>\n",
              "      <td>Sikkim</td>\n",
              "      <td>32039</td>\n",
              "      <td>153</td>\n",
              "      <td>31487</td>\n",
              "      <td>399</td>\n",
              "      <td>0.48</td>\n",
              "      <td>98.28</td>\n",
              "      <td>1.25</td>\n",
              "    </tr>\n",
              "    <tr>\n",
              "      <th>30</th>\n",
              "      <td>Tamil Nadu</td>\n",
              "      <td>2708230</td>\n",
              "      <td>10588</td>\n",
              "      <td>2661428</td>\n",
              "      <td>36214</td>\n",
              "      <td>0.39</td>\n",
              "      <td>98.27</td>\n",
              "      <td>1.34</td>\n",
              "    </tr>\n",
              "    <tr>\n",
              "      <th>31</th>\n",
              "      <td>Telengana</td>\n",
              "      <td>672367</td>\n",
              "      <td>3815</td>\n",
              "      <td>664588</td>\n",
              "      <td>3964</td>\n",
              "      <td>0.57</td>\n",
              "      <td>98.84</td>\n",
              "      <td>0.59</td>\n",
              "    </tr>\n",
              "    <tr>\n",
              "      <th>32</th>\n",
              "      <td>Tripura</td>\n",
              "      <td>84570</td>\n",
              "      <td>129</td>\n",
              "      <td>83625</td>\n",
              "      <td>816</td>\n",
              "      <td>0.15</td>\n",
              "      <td>98.88</td>\n",
              "      <td>0.96</td>\n",
              "    </tr>\n",
              "    <tr>\n",
              "      <th>33</th>\n",
              "      <td>Uttar Pradesh</td>\n",
              "      <td>1710193</td>\n",
              "      <td>83</td>\n",
              "      <td>1687207</td>\n",
              "      <td>22903</td>\n",
              "      <td>0.00</td>\n",
              "      <td>98.66</td>\n",
              "      <td>1.34</td>\n",
              "    </tr>\n",
              "    <tr>\n",
              "      <th>34</th>\n",
              "      <td>Uttarakhand</td>\n",
              "      <td>343939</td>\n",
              "      <td>146</td>\n",
              "      <td>336392</td>\n",
              "      <td>7401</td>\n",
              "      <td>0.04</td>\n",
              "      <td>97.81</td>\n",
              "      <td>2.15</td>\n",
              "    </tr>\n",
              "    <tr>\n",
              "      <th>35</th>\n",
              "      <td>West Bengal</td>\n",
              "      <td>1597765</td>\n",
              "      <td>8029</td>\n",
              "      <td>1570521</td>\n",
              "      <td>19215</td>\n",
              "      <td>0.50</td>\n",
              "      <td>98.29</td>\n",
              "      <td>1.20</td>\n",
              "    </tr>\n",
              "  </tbody>\n",
              "</table>\n",
              "</div>"
            ],
            "text/plain": [
              "                                   State_UTs  ...  Death_Ratio\n",
              "0                        Andaman and Nicobar  ...         1.68\n",
              "1                             Andhra Pradesh  ...         0.70\n",
              "2                          Arunachal Pradesh  ...         0.51\n",
              "3                                      Assam  ...         0.98\n",
              "4                                      Bihar  ...         1.33\n",
              "5                                 Chandigarh  ...         1.25\n",
              "6                               Chhattisgarh  ...         1.35\n",
              "7   Dadra and Nagar Haveli and Daman and Diu  ...         0.04\n",
              "8                                      Delhi  ...         1.74\n",
              "9                                        Goa  ...         1.89\n",
              "10                                   Gujarat  ...         1.22\n",
              "11                                   Haryana  ...         1.30\n",
              "12                          Himachal Pradesh  ...         1.68\n",
              "13                         Jammu and Kashmir  ...         1.33\n",
              "14                                 Jharkhand  ...         1.47\n",
              "15                                 Karnataka  ...         1.27\n",
              "16                                    Kerala  ...         0.67\n",
              "17                                    Ladakh  ...         0.99\n",
              "18                               Lakshadweep  ...         0.49\n",
              "19                            Madhya Pradesh  ...         1.33\n",
              "20                               Maharashtra  ...         2.12\n",
              "21                                   Manipur  ...         1.56\n",
              "22                                 Meghalaya  ...         1.74\n",
              "23                                   Mizoram  ...         0.36\n",
              "24                                  Nagaland  ...         2.16\n",
              "25                                    Odisha  ...         0.80\n",
              "26                                Puducherry  ...         1.45\n",
              "27                                    Punjab  ...         2.75\n",
              "28                                 Rajasthan  ...         0.94\n",
              "29                                    Sikkim  ...         1.25\n",
              "30                                Tamil Nadu  ...         1.34\n",
              "31                                 Telengana  ...         0.59\n",
              "32                                   Tripura  ...         0.96\n",
              "33                             Uttar Pradesh  ...         1.34\n",
              "34                               Uttarakhand  ...         2.15\n",
              "35                               West Bengal  ...         1.20\n",
              "\n",
              "[36 rows x 8 columns]"
            ]
          },
          "metadata": {},
          "execution_count": 42
        }
      ]
    },
    {
      "cell_type": "code",
      "metadata": {
        "colab": {
          "base_uri": "https://localhost:8080/",
          "height": 297
        },
        "id": "-p5-YwxHp8UV",
        "outputId": "6c494dad-1a1b-4444-a50a-feef707ad501"
      },
      "source": [
        "pd_df.describe()"
      ],
      "execution_count": 43,
      "outputs": [
        {
          "output_type": "execute_result",
          "data": {
            "text/html": [
              "<div>\n",
              "<style scoped>\n",
              "    .dataframe tbody tr th:only-of-type {\n",
              "        vertical-align: middle;\n",
              "    }\n",
              "\n",
              "    .dataframe tbody tr th {\n",
              "        vertical-align: top;\n",
              "    }\n",
              "\n",
              "    .dataframe thead th {\n",
              "        text-align: right;\n",
              "    }\n",
              "</style>\n",
              "<table border=\"1\" class=\"dataframe\">\n",
              "  <thead>\n",
              "    <tr style=\"text-align: right;\">\n",
              "      <th></th>\n",
              "      <th>Total_Cases</th>\n",
              "      <th>Active</th>\n",
              "      <th>Discharged</th>\n",
              "      <th>Deaths</th>\n",
              "      <th>Active_Ratio</th>\n",
              "      <th>Discharge_Ratio</th>\n",
              "      <th>Death_Ratio</th>\n",
              "    </tr>\n",
              "  </thead>\n",
              "  <tbody>\n",
              "    <tr>\n",
              "      <th>count</th>\n",
              "      <td>3.600000e+01</td>\n",
              "      <td>36.000000</td>\n",
              "      <td>3.600000e+01</td>\n",
              "      <td>36.000000</td>\n",
              "      <td>36.000000</td>\n",
              "      <td>36.000000</td>\n",
              "      <td>36.000000</td>\n",
              "    </tr>\n",
              "    <tr>\n",
              "      <th>mean</th>\n",
              "      <td>9.543197e+05</td>\n",
              "      <td>4022.833333</td>\n",
              "      <td>9.374971e+05</td>\n",
              "      <td>12799.750000</td>\n",
              "      <td>0.383889</td>\n",
              "      <td>98.338889</td>\n",
              "      <td>1.275833</td>\n",
              "    </tr>\n",
              "    <tr>\n",
              "      <th>std</th>\n",
              "      <td>1.427489e+06</td>\n",
              "      <td>12519.425102</td>\n",
              "      <td>1.396947e+06</td>\n",
              "      <td>24277.800282</td>\n",
              "      <td>0.810866</td>\n",
              "      <td>0.840625</td>\n",
              "      <td>0.563050</td>\n",
              "    </tr>\n",
              "    <tr>\n",
              "      <th>min</th>\n",
              "      <td>7.660000e+03</td>\n",
              "      <td>0.000000</td>\n",
              "      <td>7.520000e+03</td>\n",
              "      <td>4.000000</td>\n",
              "      <td>0.000000</td>\n",
              "      <td>94.860000</td>\n",
              "      <td>0.040000</td>\n",
              "    </tr>\n",
              "    <tr>\n",
              "      <th>25%</th>\n",
              "      <td>8.438425e+04</td>\n",
              "      <td>103.000000</td>\n",
              "      <td>8.321700e+04</td>\n",
              "      <td>819.000000</td>\n",
              "      <td>0.030000</td>\n",
              "      <td>97.925000</td>\n",
              "      <td>0.955000</td>\n",
              "    </tr>\n",
              "    <tr>\n",
              "      <th>50%</th>\n",
              "      <td>4.756905e+05</td>\n",
              "      <td>243.000000</td>\n",
              "      <td>4.646610e+05</td>\n",
              "      <td>5582.000000</td>\n",
              "      <td>0.175000</td>\n",
              "      <td>98.455000</td>\n",
              "      <td>1.315000</td>\n",
              "    </tr>\n",
              "    <tr>\n",
              "      <th>75%</th>\n",
              "      <td>1.015407e+06</td>\n",
              "      <td>3055.000000</td>\n",
              "      <td>1.002200e+06</td>\n",
              "      <td>13786.000000</td>\n",
              "      <td>0.457500</td>\n",
              "      <td>98.712500</td>\n",
              "      <td>1.590000</td>\n",
              "    </tr>\n",
              "    <tr>\n",
              "      <th>max</th>\n",
              "      <td>6.616762e+06</td>\n",
              "      <td>73497.000000</td>\n",
              "      <td>6.458045e+06</td>\n",
              "      <td>140372.000000</td>\n",
              "      <td>4.790000</td>\n",
              "      <td>99.960000</td>\n",
              "      <td>2.750000</td>\n",
              "    </tr>\n",
              "  </tbody>\n",
              "</table>\n",
              "</div>"
            ],
            "text/plain": [
              "        Total_Cases        Active  ...  Discharge_Ratio  Death_Ratio\n",
              "count  3.600000e+01     36.000000  ...        36.000000    36.000000\n",
              "mean   9.543197e+05   4022.833333  ...        98.338889     1.275833\n",
              "std    1.427489e+06  12519.425102  ...         0.840625     0.563050\n",
              "min    7.660000e+03      0.000000  ...        94.860000     0.040000\n",
              "25%    8.438425e+04    103.000000  ...        97.925000     0.955000\n",
              "50%    4.756905e+05    243.000000  ...        98.455000     1.315000\n",
              "75%    1.015407e+06   3055.000000  ...        98.712500     1.590000\n",
              "max    6.616762e+06  73497.000000  ...        99.960000     2.750000\n",
              "\n",
              "[8 rows x 7 columns]"
            ]
          },
          "metadata": {},
          "execution_count": 43
        }
      ]
    },
    {
      "cell_type": "code",
      "metadata": {
        "colab": {
          "base_uri": "https://localhost:8080/",
          "height": 266
        },
        "id": "peiBpUGqqGS_",
        "outputId": "434ad2ec-69e0-4fbc-b75e-c40dd3030a9f"
      },
      "source": [
        "pd_df.corr()"
      ],
      "execution_count": 44,
      "outputs": [
        {
          "output_type": "execute_result",
          "data": {
            "text/html": [
              "<div>\n",
              "<style scoped>\n",
              "    .dataframe tbody tr th:only-of-type {\n",
              "        vertical-align: middle;\n",
              "    }\n",
              "\n",
              "    .dataframe tbody tr th {\n",
              "        vertical-align: top;\n",
              "    }\n",
              "\n",
              "    .dataframe thead th {\n",
              "        text-align: right;\n",
              "    }\n",
              "</style>\n",
              "<table border=\"1\" class=\"dataframe\">\n",
              "  <thead>\n",
              "    <tr style=\"text-align: right;\">\n",
              "      <th></th>\n",
              "      <th>Total_Cases</th>\n",
              "      <th>Active</th>\n",
              "      <th>Discharged</th>\n",
              "      <th>Deaths</th>\n",
              "      <th>Active_Ratio</th>\n",
              "      <th>Discharge_Ratio</th>\n",
              "      <th>Death_Ratio</th>\n",
              "    </tr>\n",
              "  </thead>\n",
              "  <tbody>\n",
              "    <tr>\n",
              "      <th>Total_Cases</th>\n",
              "      <td>1.000000</td>\n",
              "      <td>0.696048</td>\n",
              "      <td>0.999987</td>\n",
              "      <td>0.899861</td>\n",
              "      <td>0.031925</td>\n",
              "      <td>-0.084541</td>\n",
              "      <td>0.079404</td>\n",
              "    </tr>\n",
              "    <tr>\n",
              "      <th>Active</th>\n",
              "      <td>0.696048</td>\n",
              "      <td>1.000000</td>\n",
              "      <td>0.695467</td>\n",
              "      <td>0.393385</td>\n",
              "      <td>0.293340</td>\n",
              "      <td>-0.175170</td>\n",
              "      <td>-0.160638</td>\n",
              "    </tr>\n",
              "    <tr>\n",
              "      <th>Discharged</th>\n",
              "      <td>0.999987</td>\n",
              "      <td>0.695467</td>\n",
              "      <td>1.000000</td>\n",
              "      <td>0.898630</td>\n",
              "      <td>0.030793</td>\n",
              "      <td>-0.082399</td>\n",
              "      <td>0.077826</td>\n",
              "    </tr>\n",
              "    <tr>\n",
              "      <th>Deaths</th>\n",
              "      <td>0.899861</td>\n",
              "      <td>0.393385</td>\n",
              "      <td>0.898630</td>\n",
              "      <td>1.000000</td>\n",
              "      <td>-0.045948</td>\n",
              "      <td>-0.139322</td>\n",
              "      <td>0.273542</td>\n",
              "    </tr>\n",
              "    <tr>\n",
              "      <th>Active_Ratio</th>\n",
              "      <td>0.031925</td>\n",
              "      <td>0.293340</td>\n",
              "      <td>0.030793</td>\n",
              "      <td>-0.045948</td>\n",
              "      <td>1.000000</td>\n",
              "      <td>-0.768105</td>\n",
              "      <td>-0.289715</td>\n",
              "    </tr>\n",
              "    <tr>\n",
              "      <th>Discharge_Ratio</th>\n",
              "      <td>-0.084541</td>\n",
              "      <td>-0.175170</td>\n",
              "      <td>-0.082399</td>\n",
              "      <td>-0.139322</td>\n",
              "      <td>-0.768105</td>\n",
              "      <td>1.000000</td>\n",
              "      <td>-0.390298</td>\n",
              "    </tr>\n",
              "    <tr>\n",
              "      <th>Death_Ratio</th>\n",
              "      <td>0.079404</td>\n",
              "      <td>-0.160638</td>\n",
              "      <td>0.077826</td>\n",
              "      <td>0.273542</td>\n",
              "      <td>-0.289715</td>\n",
              "      <td>-0.390298</td>\n",
              "      <td>1.000000</td>\n",
              "    </tr>\n",
              "  </tbody>\n",
              "</table>\n",
              "</div>"
            ],
            "text/plain": [
              "                 Total_Cases    Active  ...  Discharge_Ratio  Death_Ratio\n",
              "Total_Cases         1.000000  0.696048  ...        -0.084541     0.079404\n",
              "Active              0.696048  1.000000  ...        -0.175170    -0.160638\n",
              "Discharged          0.999987  0.695467  ...        -0.082399     0.077826\n",
              "Deaths              0.899861  0.393385  ...        -0.139322     0.273542\n",
              "Active_Ratio        0.031925  0.293340  ...        -0.768105    -0.289715\n",
              "Discharge_Ratio    -0.084541 -0.175170  ...         1.000000    -0.390298\n",
              "Death_Ratio         0.079404 -0.160638  ...        -0.390298     1.000000\n",
              "\n",
              "[7 rows x 7 columns]"
            ]
          },
          "metadata": {},
          "execution_count": 44
        }
      ]
    },
    {
      "cell_type": "code",
      "metadata": {
        "colab": {
          "base_uri": "https://localhost:8080/",
          "height": 542
        },
        "id": "vq60XKO1qMrw",
        "outputId": "83839a4e-985a-4477-bcd0-1939a99aaf1a"
      },
      "source": [
        "import plotly.graph_objects as go\n",
        "import plotly.express as px\n",
        "from plotly.subplots import make_subplots\n",
        "\n",
        "fig = make_subplots(rows=2, cols=2, subplot_titles=['Total Cases', 'Deaths', 'Active', 'Discharged'])\n",
        "\n",
        "total_cases = go.Histogram(x=pd_df['Total_Cases'], nbinsx=20, name='Total Cases')\n",
        "deaths = go.Histogram(x=pd_df['Deaths'], nbinsx=20, name='Deaths')\n",
        "active = go.Histogram(x=pd_df['Active'], nbinsx=20, name='Active')\n",
        "discharged = go.Histogram(x=pd_df['Discharged'], nbinsx=20, name='Discharged')\n",
        "\n",
        "fig.add_trace(total_cases, 1, 1)\n",
        "fig.add_trace(deaths, 1, 2)\n",
        "fig.add_trace(active, 2, 1)\n",
        "fig.add_trace(discharged, 2, 2)\n",
        "\n",
        "fig.update_layout(showlegend=False)\n",
        "fig.show()"
      ],
      "execution_count": 45,
      "outputs": [
        {
          "output_type": "display_data",
          "data": {
            "text/html": [
              "<html>\n",
              "<head><meta charset=\"utf-8\" /></head>\n",
              "<body>\n",
              "    <div>\n",
              "            <script src=\"https://cdnjs.cloudflare.com/ajax/libs/mathjax/2.7.5/MathJax.js?config=TeX-AMS-MML_SVG\"></script><script type=\"text/javascript\">if (window.MathJax) {MathJax.Hub.Config({SVG: {font: \"STIX-Web\"}});}</script>\n",
              "                <script type=\"text/javascript\">window.PlotlyConfig = {MathJaxConfig: 'local'};</script>\n",
              "        <script src=\"https://cdn.plot.ly/plotly-latest.min.js\"></script>    \n",
              "            <div id=\"c95f63d9-323c-46ab-ac21-d8f90bdd6576\" class=\"plotly-graph-div\" style=\"height:525px; width:100%;\"></div>\n",
              "            <script type=\"text/javascript\">\n",
              "                \n",
              "                    window.PLOTLYENV=window.PLOTLYENV || {};\n",
              "                    \n",
              "                if (document.getElementById(\"c95f63d9-323c-46ab-ac21-d8f90bdd6576\")) {\n",
              "                    Plotly.newPlot(\n",
              "                        'c95f63d9-323c-46ab-ac21-d8f90bdd6576',\n",
              "                        [{\"name\": \"Total Cases\", \"nbinsx\": 20, \"type\": \"histogram\", \"x\": [7660, 2067921, 55180, 612134, 726129, 65360, 1006159, 10682, 1440071, 178281, 826716, 771308, 224830, 332911, 348864, 2989713, 5008381, 21006, 10365, 792901, 6616762, 124047, 83827, 124992, 31922, 1043151, 128165, 602517, 954451, 32039, 2708230, 672367, 84570, 1710193, 343939, 1597765], \"xaxis\": \"x\", \"yaxis\": \"y\"}, {\"name\": \"Deaths\", \"nbinsx\": 20, \"type\": \"histogram\", \"x\": [129, 14392, 280, 6026, 9661, 820, 13584, 4, 25091, 3367, 10090, 10050, 3774, 4440, 5138, 38107, 33515, 209, 51, 10524, 140372, 1931, 1457, 446, 689, 8354, 1862, 16562, 8954, 399, 36214, 3964, 816, 22903, 7401, 19215], \"xaxis\": \"x2\", \"yaxis\": \"y2\"}, {\"name\": \"Active\", \"nbinsx\": 20, \"type\": \"histogram\", \"x\": [11, 3568, 60, 3379, 44, 29, 259, 0, 351, 313, 227, 112, 1375, 1091, 140, 8119, 73497, 91, 0, 107, 18345, 701, 377, 5981, 188, 2947, 304, 219, 44, 153, 10588, 3815, 129, 83, 146, 8029], \"xaxis\": \"x3\", \"yaxis\": \"y3\"}, {\"name\": \"Discharged\", \"nbinsx\": 20, \"type\": \"histogram\", \"x\": [7520, 2049961, 54840, 602729, 716424, 64511, 992316, 10678, 1414629, 174601, 816399, 761146, 219681, 327380, 343586, 2943487, 4901369, 20706, 10314, 782270, 6458045, 121415, 81993, 118565, 31045, 1031850, 125999, 585736, 945453, 31487, 2661428, 664588, 83625, 1687207, 336392, 1570521], \"xaxis\": \"x4\", \"yaxis\": \"y4\"}],\n",
              "                        {\"annotations\": [{\"font\": {\"size\": 16}, \"showarrow\": false, \"text\": \"Total Cases\", \"x\": 0.225, \"xanchor\": \"center\", \"xref\": \"paper\", \"y\": 1.0, \"yanchor\": \"bottom\", \"yref\": \"paper\"}, {\"font\": {\"size\": 16}, \"showarrow\": false, \"text\": \"Deaths\", \"x\": 0.775, \"xanchor\": \"center\", \"xref\": \"paper\", \"y\": 1.0, \"yanchor\": \"bottom\", \"yref\": \"paper\"}, {\"font\": {\"size\": 16}, \"showarrow\": false, \"text\": \"Active\", \"x\": 0.225, \"xanchor\": \"center\", \"xref\": \"paper\", \"y\": 0.375, \"yanchor\": \"bottom\", \"yref\": \"paper\"}, {\"font\": {\"size\": 16}, \"showarrow\": false, \"text\": \"Discharged\", \"x\": 0.775, \"xanchor\": \"center\", \"xref\": \"paper\", \"y\": 0.375, \"yanchor\": \"bottom\", \"yref\": \"paper\"}], \"showlegend\": false, \"template\": {\"data\": {\"bar\": [{\"error_x\": {\"color\": \"#2a3f5f\"}, \"error_y\": {\"color\": \"#2a3f5f\"}, \"marker\": {\"line\": {\"color\": \"#E5ECF6\", \"width\": 0.5}}, \"type\": \"bar\"}], \"barpolar\": [{\"marker\": {\"line\": {\"color\": \"#E5ECF6\", \"width\": 0.5}}, \"type\": \"barpolar\"}], \"carpet\": [{\"aaxis\": {\"endlinecolor\": \"#2a3f5f\", \"gridcolor\": \"white\", \"linecolor\": \"white\", \"minorgridcolor\": \"white\", \"startlinecolor\": \"#2a3f5f\"}, \"baxis\": {\"endlinecolor\": \"#2a3f5f\", \"gridcolor\": \"white\", \"linecolor\": \"white\", \"minorgridcolor\": \"white\", \"startlinecolor\": \"#2a3f5f\"}, \"type\": \"carpet\"}], \"choropleth\": [{\"colorbar\": {\"outlinewidth\": 0, \"ticks\": \"\"}, \"type\": \"choropleth\"}], \"contour\": [{\"colorbar\": {\"outlinewidth\": 0, \"ticks\": \"\"}, \"colorscale\": [[0.0, \"#0d0887\"], [0.1111111111111111, \"#46039f\"], [0.2222222222222222, \"#7201a8\"], [0.3333333333333333, \"#9c179e\"], [0.4444444444444444, \"#bd3786\"], [0.5555555555555556, \"#d8576b\"], [0.6666666666666666, \"#ed7953\"], [0.7777777777777778, \"#fb9f3a\"], [0.8888888888888888, \"#fdca26\"], [1.0, \"#f0f921\"]], \"type\": \"contour\"}], \"contourcarpet\": [{\"colorbar\": {\"outlinewidth\": 0, \"ticks\": \"\"}, \"type\": \"contourcarpet\"}], \"heatmap\": [{\"colorbar\": {\"outlinewidth\": 0, \"ticks\": \"\"}, \"colorscale\": [[0.0, \"#0d0887\"], [0.1111111111111111, \"#46039f\"], [0.2222222222222222, \"#7201a8\"], [0.3333333333333333, \"#9c179e\"], [0.4444444444444444, \"#bd3786\"], [0.5555555555555556, \"#d8576b\"], [0.6666666666666666, \"#ed7953\"], [0.7777777777777778, \"#fb9f3a\"], [0.8888888888888888, \"#fdca26\"], [1.0, \"#f0f921\"]], \"type\": \"heatmap\"}], \"heatmapgl\": [{\"colorbar\": {\"outlinewidth\": 0, \"ticks\": \"\"}, \"colorscale\": [[0.0, \"#0d0887\"], [0.1111111111111111, \"#46039f\"], [0.2222222222222222, \"#7201a8\"], [0.3333333333333333, \"#9c179e\"], [0.4444444444444444, \"#bd3786\"], [0.5555555555555556, \"#d8576b\"], [0.6666666666666666, \"#ed7953\"], [0.7777777777777778, \"#fb9f3a\"], [0.8888888888888888, \"#fdca26\"], [1.0, \"#f0f921\"]], \"type\": \"heatmapgl\"}], \"histogram\": [{\"marker\": {\"colorbar\": {\"outlinewidth\": 0, \"ticks\": \"\"}}, \"type\": \"histogram\"}], \"histogram2d\": [{\"colorbar\": {\"outlinewidth\": 0, \"ticks\": \"\"}, \"colorscale\": [[0.0, \"#0d0887\"], [0.1111111111111111, \"#46039f\"], [0.2222222222222222, \"#7201a8\"], [0.3333333333333333, \"#9c179e\"], [0.4444444444444444, \"#bd3786\"], [0.5555555555555556, \"#d8576b\"], [0.6666666666666666, \"#ed7953\"], [0.7777777777777778, \"#fb9f3a\"], [0.8888888888888888, \"#fdca26\"], [1.0, \"#f0f921\"]], \"type\": \"histogram2d\"}], \"histogram2dcontour\": [{\"colorbar\": {\"outlinewidth\": 0, \"ticks\": \"\"}, \"colorscale\": [[0.0, \"#0d0887\"], [0.1111111111111111, \"#46039f\"], [0.2222222222222222, \"#7201a8\"], [0.3333333333333333, \"#9c179e\"], [0.4444444444444444, \"#bd3786\"], [0.5555555555555556, \"#d8576b\"], [0.6666666666666666, \"#ed7953\"], [0.7777777777777778, \"#fb9f3a\"], [0.8888888888888888, \"#fdca26\"], [1.0, \"#f0f921\"]], \"type\": \"histogram2dcontour\"}], \"mesh3d\": [{\"colorbar\": {\"outlinewidth\": 0, \"ticks\": \"\"}, \"type\": \"mesh3d\"}], \"parcoords\": [{\"line\": {\"colorbar\": {\"outlinewidth\": 0, \"ticks\": \"\"}}, \"type\": \"parcoords\"}], \"pie\": [{\"automargin\": true, \"type\": \"pie\"}], \"scatter\": [{\"marker\": {\"colorbar\": {\"outlinewidth\": 0, \"ticks\": \"\"}}, \"type\": \"scatter\"}], \"scatter3d\": [{\"line\": {\"colorbar\": {\"outlinewidth\": 0, \"ticks\": \"\"}}, \"marker\": {\"colorbar\": {\"outlinewidth\": 0, \"ticks\": \"\"}}, \"type\": \"scatter3d\"}], \"scattercarpet\": [{\"marker\": {\"colorbar\": {\"outlinewidth\": 0, \"ticks\": \"\"}}, \"type\": \"scattercarpet\"}], \"scattergeo\": [{\"marker\": {\"colorbar\": {\"outlinewidth\": 0, \"ticks\": \"\"}}, \"type\": \"scattergeo\"}], \"scattergl\": [{\"marker\": {\"colorbar\": {\"outlinewidth\": 0, \"ticks\": \"\"}}, \"type\": \"scattergl\"}], \"scattermapbox\": [{\"marker\": {\"colorbar\": {\"outlinewidth\": 0, \"ticks\": \"\"}}, \"type\": \"scattermapbox\"}], \"scatterpolar\": [{\"marker\": {\"colorbar\": {\"outlinewidth\": 0, \"ticks\": \"\"}}, \"type\": \"scatterpolar\"}], \"scatterpolargl\": [{\"marker\": {\"colorbar\": {\"outlinewidth\": 0, \"ticks\": \"\"}}, \"type\": \"scatterpolargl\"}], \"scatterternary\": [{\"marker\": {\"colorbar\": {\"outlinewidth\": 0, \"ticks\": \"\"}}, \"type\": \"scatterternary\"}], \"surface\": [{\"colorbar\": {\"outlinewidth\": 0, \"ticks\": \"\"}, \"colorscale\": [[0.0, \"#0d0887\"], [0.1111111111111111, \"#46039f\"], [0.2222222222222222, \"#7201a8\"], [0.3333333333333333, \"#9c179e\"], [0.4444444444444444, \"#bd3786\"], [0.5555555555555556, \"#d8576b\"], [0.6666666666666666, \"#ed7953\"], [0.7777777777777778, \"#fb9f3a\"], [0.8888888888888888, \"#fdca26\"], [1.0, \"#f0f921\"]], \"type\": \"surface\"}], \"table\": [{\"cells\": {\"fill\": {\"color\": \"#EBF0F8\"}, \"line\": {\"color\": \"white\"}}, \"header\": {\"fill\": {\"color\": \"#C8D4E3\"}, \"line\": {\"color\": \"white\"}}, \"type\": \"table\"}]}, \"layout\": {\"annotationdefaults\": {\"arrowcolor\": \"#2a3f5f\", \"arrowhead\": 0, \"arrowwidth\": 1}, \"coloraxis\": {\"colorbar\": {\"outlinewidth\": 0, \"ticks\": \"\"}}, \"colorscale\": {\"diverging\": [[0, \"#8e0152\"], [0.1, \"#c51b7d\"], [0.2, \"#de77ae\"], [0.3, \"#f1b6da\"], [0.4, \"#fde0ef\"], [0.5, \"#f7f7f7\"], [0.6, \"#e6f5d0\"], [0.7, \"#b8e186\"], [0.8, \"#7fbc41\"], [0.9, \"#4d9221\"], [1, \"#276419\"]], \"sequential\": [[0.0, \"#0d0887\"], [0.1111111111111111, \"#46039f\"], [0.2222222222222222, \"#7201a8\"], [0.3333333333333333, \"#9c179e\"], [0.4444444444444444, \"#bd3786\"], [0.5555555555555556, \"#d8576b\"], [0.6666666666666666, \"#ed7953\"], [0.7777777777777778, \"#fb9f3a\"], [0.8888888888888888, \"#fdca26\"], [1.0, \"#f0f921\"]], \"sequentialminus\": [[0.0, \"#0d0887\"], [0.1111111111111111, \"#46039f\"], [0.2222222222222222, \"#7201a8\"], [0.3333333333333333, \"#9c179e\"], [0.4444444444444444, \"#bd3786\"], [0.5555555555555556, \"#d8576b\"], [0.6666666666666666, \"#ed7953\"], [0.7777777777777778, \"#fb9f3a\"], [0.8888888888888888, \"#fdca26\"], [1.0, \"#f0f921\"]]}, \"colorway\": [\"#636efa\", \"#EF553B\", \"#00cc96\", \"#ab63fa\", \"#FFA15A\", \"#19d3f3\", \"#FF6692\", \"#B6E880\", \"#FF97FF\", \"#FECB52\"], \"font\": {\"color\": \"#2a3f5f\"}, \"geo\": {\"bgcolor\": \"white\", \"lakecolor\": \"white\", \"landcolor\": \"#E5ECF6\", \"showlakes\": true, \"showland\": true, \"subunitcolor\": \"white\"}, \"hoverlabel\": {\"align\": \"left\"}, \"hovermode\": \"closest\", \"mapbox\": {\"style\": \"light\"}, \"paper_bgcolor\": \"white\", \"plot_bgcolor\": \"#E5ECF6\", \"polar\": {\"angularaxis\": {\"gridcolor\": \"white\", \"linecolor\": \"white\", \"ticks\": \"\"}, \"bgcolor\": \"#E5ECF6\", \"radialaxis\": {\"gridcolor\": \"white\", \"linecolor\": \"white\", \"ticks\": \"\"}}, \"scene\": {\"xaxis\": {\"backgroundcolor\": \"#E5ECF6\", \"gridcolor\": \"white\", \"gridwidth\": 2, \"linecolor\": \"white\", \"showbackground\": true, \"ticks\": \"\", \"zerolinecolor\": \"white\"}, \"yaxis\": {\"backgroundcolor\": \"#E5ECF6\", \"gridcolor\": \"white\", \"gridwidth\": 2, \"linecolor\": \"white\", \"showbackground\": true, \"ticks\": \"\", \"zerolinecolor\": \"white\"}, \"zaxis\": {\"backgroundcolor\": \"#E5ECF6\", \"gridcolor\": \"white\", \"gridwidth\": 2, \"linecolor\": \"white\", \"showbackground\": true, \"ticks\": \"\", \"zerolinecolor\": \"white\"}}, \"shapedefaults\": {\"line\": {\"color\": \"#2a3f5f\"}}, \"ternary\": {\"aaxis\": {\"gridcolor\": \"white\", \"linecolor\": \"white\", \"ticks\": \"\"}, \"baxis\": {\"gridcolor\": \"white\", \"linecolor\": \"white\", \"ticks\": \"\"}, \"bgcolor\": \"#E5ECF6\", \"caxis\": {\"gridcolor\": \"white\", \"linecolor\": \"white\", \"ticks\": \"\"}}, \"title\": {\"x\": 0.05}, \"xaxis\": {\"automargin\": true, \"gridcolor\": \"white\", \"linecolor\": \"white\", \"ticks\": \"\", \"title\": {\"standoff\": 15}, \"zerolinecolor\": \"white\", \"zerolinewidth\": 2}, \"yaxis\": {\"automargin\": true, \"gridcolor\": \"white\", \"linecolor\": \"white\", \"ticks\": \"\", \"title\": {\"standoff\": 15}, \"zerolinecolor\": \"white\", \"zerolinewidth\": 2}}}, \"xaxis\": {\"anchor\": \"y\", \"domain\": [0.0, 0.45]}, \"xaxis2\": {\"anchor\": \"y2\", \"domain\": [0.55, 1.0]}, \"xaxis3\": {\"anchor\": \"y3\", \"domain\": [0.0, 0.45]}, \"xaxis4\": {\"anchor\": \"y4\", \"domain\": [0.55, 1.0]}, \"yaxis\": {\"anchor\": \"x\", \"domain\": [0.625, 1.0]}, \"yaxis2\": {\"anchor\": \"x2\", \"domain\": [0.625, 1.0]}, \"yaxis3\": {\"anchor\": \"x3\", \"domain\": [0.0, 0.375]}, \"yaxis4\": {\"anchor\": \"x4\", \"domain\": [0.0, 0.375]}},\n",
              "                        {\"responsive\": true}\n",
              "                    ).then(function(){\n",
              "                            \n",
              "var gd = document.getElementById('c95f63d9-323c-46ab-ac21-d8f90bdd6576');\n",
              "var x = new MutationObserver(function (mutations, observer) {{\n",
              "        var display = window.getComputedStyle(gd).display;\n",
              "        if (!display || display === 'none') {{\n",
              "            console.log([gd, 'removed!']);\n",
              "            Plotly.purge(gd);\n",
              "            observer.disconnect();\n",
              "        }}\n",
              "}});\n",
              "\n",
              "// Listen for the removal of the full notebook cells\n",
              "var notebookContainer = gd.closest('#notebook-container');\n",
              "if (notebookContainer) {{\n",
              "    x.observe(notebookContainer, {childList: true});\n",
              "}}\n",
              "\n",
              "// Listen for the clearing of the current output cell\n",
              "var outputEl = gd.closest('.output');\n",
              "if (outputEl) {{\n",
              "    x.observe(outputEl, {childList: true});\n",
              "}}\n",
              "\n",
              "                        })\n",
              "                };\n",
              "                \n",
              "            </script>\n",
              "        </div>\n",
              "</body>\n",
              "</html>"
            ]
          },
          "metadata": {}
        }
      ]
    },
    {
      "cell_type": "code",
      "metadata": {
        "colab": {
          "base_uri": "https://localhost:8080/",
          "height": 542
        },
        "id": "mO7SQ45oq69s",
        "outputId": "1635c8c4-5a85-40a5-d477-d403a0373ec2"
      },
      "source": [
        "fig = make_subplots(rows=2, cols=2, subplot_titles=['Total Cases', 'Deaths', 'Active', 'Discharged'])\n",
        "\n",
        "total_cases = go.Box(x=pd_df['Total_Cases'], name='Total Cases', text=pd_df['State_UTs'])\n",
        "deaths = go.Box(x=pd_df['Deaths'], name='Deaths', text=pd_df['State_UTs'])\n",
        "active = go.Box(x=pd_df['Active'], name='Active', text=pd_df['State_UTs'])\n",
        "discharged = go.Box(x=pd_df['Discharged'], name='Discharged', text=pd_df['State_UTs'])\n",
        "\n",
        "fig.add_trace(total_cases, 1, 1)\n",
        "fig.add_trace(deaths, 1, 2)\n",
        "fig.add_trace(active, 2, 1)\n",
        "fig.add_trace(discharged, 2, 2)\n",
        "\n",
        "fig.update_layout(showlegend=False)\n",
        "fig.show()"
      ],
      "execution_count": 46,
      "outputs": [
        {
          "output_type": "display_data",
          "data": {
            "text/html": [
              "<html>\n",
              "<head><meta charset=\"utf-8\" /></head>\n",
              "<body>\n",
              "    <div>\n",
              "            <script src=\"https://cdnjs.cloudflare.com/ajax/libs/mathjax/2.7.5/MathJax.js?config=TeX-AMS-MML_SVG\"></script><script type=\"text/javascript\">if (window.MathJax) {MathJax.Hub.Config({SVG: {font: \"STIX-Web\"}});}</script>\n",
              "                <script type=\"text/javascript\">window.PlotlyConfig = {MathJaxConfig: 'local'};</script>\n",
              "        <script src=\"https://cdn.plot.ly/plotly-latest.min.js\"></script>    \n",
              "            <div id=\"c2a21905-cb50-4e9f-a2b7-8f38f16dbd93\" class=\"plotly-graph-div\" style=\"height:525px; width:100%;\"></div>\n",
              "            <script type=\"text/javascript\">\n",
              "                \n",
              "                    window.PLOTLYENV=window.PLOTLYENV || {};\n",
              "                    \n",
              "                if (document.getElementById(\"c2a21905-cb50-4e9f-a2b7-8f38f16dbd93\")) {\n",
              "                    Plotly.newPlot(\n",
              "                        'c2a21905-cb50-4e9f-a2b7-8f38f16dbd93',\n",
              "                        [{\"name\": \"Total Cases\", \"text\": [\"Andaman and Nicobar\", \"Andhra Pradesh\", \"Arunachal Pradesh\", \"Assam\", \"Bihar\", \"Chandigarh\", \"Chhattisgarh\", \"Dadra and Nagar Haveli and Daman and Diu\", \"Delhi\", \"Goa\", \"Gujarat\", \"Haryana\", \"Himachal Pradesh\", \"Jammu and Kashmir\", \"Jharkhand\", \"Karnataka\", \"Kerala\", \"Ladakh\", \"Lakshadweep\", \"Madhya Pradesh\", \"Maharashtra\", \"Manipur\", \"Meghalaya\", \"Mizoram\", \"Nagaland\", \"Odisha\", \"Puducherry\", \"Punjab\", \"Rajasthan\", \"Sikkim\", \"Tamil Nadu\", \"Telengana\", \"Tripura\", \"Uttar Pradesh\", \"Uttarakhand\", \"West Bengal\"], \"type\": \"box\", \"x\": [7660, 2067921, 55180, 612134, 726129, 65360, 1006159, 10682, 1440071, 178281, 826716, 771308, 224830, 332911, 348864, 2989713, 5008381, 21006, 10365, 792901, 6616762, 124047, 83827, 124992, 31922, 1043151, 128165, 602517, 954451, 32039, 2708230, 672367, 84570, 1710193, 343939, 1597765], \"xaxis\": \"x\", \"yaxis\": \"y\"}, {\"name\": \"Deaths\", \"text\": [\"Andaman and Nicobar\", \"Andhra Pradesh\", \"Arunachal Pradesh\", \"Assam\", \"Bihar\", \"Chandigarh\", \"Chhattisgarh\", \"Dadra and Nagar Haveli and Daman and Diu\", \"Delhi\", \"Goa\", \"Gujarat\", \"Haryana\", \"Himachal Pradesh\", \"Jammu and Kashmir\", \"Jharkhand\", \"Karnataka\", \"Kerala\", \"Ladakh\", \"Lakshadweep\", \"Madhya Pradesh\", \"Maharashtra\", \"Manipur\", \"Meghalaya\", \"Mizoram\", \"Nagaland\", \"Odisha\", \"Puducherry\", \"Punjab\", \"Rajasthan\", \"Sikkim\", \"Tamil Nadu\", \"Telengana\", \"Tripura\", \"Uttar Pradesh\", \"Uttarakhand\", \"West Bengal\"], \"type\": \"box\", \"x\": [129, 14392, 280, 6026, 9661, 820, 13584, 4, 25091, 3367, 10090, 10050, 3774, 4440, 5138, 38107, 33515, 209, 51, 10524, 140372, 1931, 1457, 446, 689, 8354, 1862, 16562, 8954, 399, 36214, 3964, 816, 22903, 7401, 19215], \"xaxis\": \"x2\", \"yaxis\": \"y2\"}, {\"name\": \"Active\", \"text\": [\"Andaman and Nicobar\", \"Andhra Pradesh\", \"Arunachal Pradesh\", \"Assam\", \"Bihar\", \"Chandigarh\", \"Chhattisgarh\", \"Dadra and Nagar Haveli and Daman and Diu\", \"Delhi\", \"Goa\", \"Gujarat\", \"Haryana\", \"Himachal Pradesh\", \"Jammu and Kashmir\", \"Jharkhand\", \"Karnataka\", \"Kerala\", \"Ladakh\", \"Lakshadweep\", \"Madhya Pradesh\", \"Maharashtra\", \"Manipur\", \"Meghalaya\", \"Mizoram\", \"Nagaland\", \"Odisha\", \"Puducherry\", \"Punjab\", \"Rajasthan\", \"Sikkim\", \"Tamil Nadu\", \"Telengana\", \"Tripura\", \"Uttar Pradesh\", \"Uttarakhand\", \"West Bengal\"], \"type\": \"box\", \"x\": [11, 3568, 60, 3379, 44, 29, 259, 0, 351, 313, 227, 112, 1375, 1091, 140, 8119, 73497, 91, 0, 107, 18345, 701, 377, 5981, 188, 2947, 304, 219, 44, 153, 10588, 3815, 129, 83, 146, 8029], \"xaxis\": \"x3\", \"yaxis\": \"y3\"}, {\"name\": \"Discharged\", \"text\": [\"Andaman and Nicobar\", \"Andhra Pradesh\", \"Arunachal Pradesh\", \"Assam\", \"Bihar\", \"Chandigarh\", \"Chhattisgarh\", \"Dadra and Nagar Haveli and Daman and Diu\", \"Delhi\", \"Goa\", \"Gujarat\", \"Haryana\", \"Himachal Pradesh\", \"Jammu and Kashmir\", \"Jharkhand\", \"Karnataka\", \"Kerala\", \"Ladakh\", \"Lakshadweep\", \"Madhya Pradesh\", \"Maharashtra\", \"Manipur\", \"Meghalaya\", \"Mizoram\", \"Nagaland\", \"Odisha\", \"Puducherry\", \"Punjab\", \"Rajasthan\", \"Sikkim\", \"Tamil Nadu\", \"Telengana\", \"Tripura\", \"Uttar Pradesh\", \"Uttarakhand\", \"West Bengal\"], \"type\": \"box\", \"x\": [7520, 2049961, 54840, 602729, 716424, 64511, 992316, 10678, 1414629, 174601, 816399, 761146, 219681, 327380, 343586, 2943487, 4901369, 20706, 10314, 782270, 6458045, 121415, 81993, 118565, 31045, 1031850, 125999, 585736, 945453, 31487, 2661428, 664588, 83625, 1687207, 336392, 1570521], \"xaxis\": \"x4\", \"yaxis\": \"y4\"}],\n",
              "                        {\"annotations\": [{\"font\": {\"size\": 16}, \"showarrow\": false, \"text\": \"Total Cases\", \"x\": 0.225, \"xanchor\": \"center\", \"xref\": \"paper\", \"y\": 1.0, \"yanchor\": \"bottom\", \"yref\": \"paper\"}, {\"font\": {\"size\": 16}, \"showarrow\": false, \"text\": \"Deaths\", \"x\": 0.775, \"xanchor\": \"center\", \"xref\": \"paper\", \"y\": 1.0, \"yanchor\": \"bottom\", \"yref\": \"paper\"}, {\"font\": {\"size\": 16}, \"showarrow\": false, \"text\": \"Active\", \"x\": 0.225, \"xanchor\": \"center\", \"xref\": \"paper\", \"y\": 0.375, \"yanchor\": \"bottom\", \"yref\": \"paper\"}, {\"font\": {\"size\": 16}, \"showarrow\": false, \"text\": \"Discharged\", \"x\": 0.775, \"xanchor\": \"center\", \"xref\": \"paper\", \"y\": 0.375, \"yanchor\": \"bottom\", \"yref\": \"paper\"}], \"showlegend\": false, \"template\": {\"data\": {\"bar\": [{\"error_x\": {\"color\": \"#2a3f5f\"}, \"error_y\": {\"color\": \"#2a3f5f\"}, \"marker\": {\"line\": {\"color\": \"#E5ECF6\", \"width\": 0.5}}, \"type\": \"bar\"}], \"barpolar\": [{\"marker\": {\"line\": {\"color\": \"#E5ECF6\", \"width\": 0.5}}, \"type\": \"barpolar\"}], \"carpet\": [{\"aaxis\": {\"endlinecolor\": \"#2a3f5f\", \"gridcolor\": \"white\", \"linecolor\": \"white\", \"minorgridcolor\": \"white\", \"startlinecolor\": \"#2a3f5f\"}, \"baxis\": {\"endlinecolor\": \"#2a3f5f\", \"gridcolor\": \"white\", \"linecolor\": \"white\", \"minorgridcolor\": \"white\", \"startlinecolor\": \"#2a3f5f\"}, \"type\": \"carpet\"}], \"choropleth\": [{\"colorbar\": {\"outlinewidth\": 0, \"ticks\": \"\"}, \"type\": \"choropleth\"}], \"contour\": [{\"colorbar\": {\"outlinewidth\": 0, \"ticks\": \"\"}, \"colorscale\": [[0.0, \"#0d0887\"], [0.1111111111111111, \"#46039f\"], [0.2222222222222222, \"#7201a8\"], [0.3333333333333333, \"#9c179e\"], [0.4444444444444444, \"#bd3786\"], [0.5555555555555556, \"#d8576b\"], [0.6666666666666666, \"#ed7953\"], [0.7777777777777778, \"#fb9f3a\"], [0.8888888888888888, \"#fdca26\"], [1.0, \"#f0f921\"]], \"type\": \"contour\"}], \"contourcarpet\": [{\"colorbar\": {\"outlinewidth\": 0, \"ticks\": \"\"}, \"type\": \"contourcarpet\"}], \"heatmap\": [{\"colorbar\": {\"outlinewidth\": 0, \"ticks\": \"\"}, \"colorscale\": [[0.0, \"#0d0887\"], [0.1111111111111111, \"#46039f\"], [0.2222222222222222, \"#7201a8\"], [0.3333333333333333, \"#9c179e\"], [0.4444444444444444, \"#bd3786\"], [0.5555555555555556, \"#d8576b\"], [0.6666666666666666, \"#ed7953\"], [0.7777777777777778, \"#fb9f3a\"], [0.8888888888888888, \"#fdca26\"], [1.0, \"#f0f921\"]], \"type\": \"heatmap\"}], \"heatmapgl\": [{\"colorbar\": {\"outlinewidth\": 0, \"ticks\": \"\"}, \"colorscale\": [[0.0, \"#0d0887\"], [0.1111111111111111, \"#46039f\"], [0.2222222222222222, \"#7201a8\"], [0.3333333333333333, \"#9c179e\"], [0.4444444444444444, \"#bd3786\"], [0.5555555555555556, \"#d8576b\"], [0.6666666666666666, \"#ed7953\"], [0.7777777777777778, \"#fb9f3a\"], [0.8888888888888888, \"#fdca26\"], [1.0, \"#f0f921\"]], \"type\": \"heatmapgl\"}], \"histogram\": [{\"marker\": {\"colorbar\": {\"outlinewidth\": 0, \"ticks\": \"\"}}, \"type\": \"histogram\"}], \"histogram2d\": [{\"colorbar\": {\"outlinewidth\": 0, \"ticks\": \"\"}, \"colorscale\": [[0.0, \"#0d0887\"], [0.1111111111111111, \"#46039f\"], [0.2222222222222222, \"#7201a8\"], [0.3333333333333333, \"#9c179e\"], [0.4444444444444444, \"#bd3786\"], [0.5555555555555556, \"#d8576b\"], [0.6666666666666666, \"#ed7953\"], [0.7777777777777778, \"#fb9f3a\"], [0.8888888888888888, \"#fdca26\"], [1.0, \"#f0f921\"]], \"type\": \"histogram2d\"}], \"histogram2dcontour\": [{\"colorbar\": {\"outlinewidth\": 0, \"ticks\": \"\"}, \"colorscale\": [[0.0, \"#0d0887\"], [0.1111111111111111, \"#46039f\"], [0.2222222222222222, \"#7201a8\"], [0.3333333333333333, \"#9c179e\"], [0.4444444444444444, \"#bd3786\"], [0.5555555555555556, \"#d8576b\"], [0.6666666666666666, \"#ed7953\"], [0.7777777777777778, \"#fb9f3a\"], [0.8888888888888888, \"#fdca26\"], [1.0, \"#f0f921\"]], \"type\": \"histogram2dcontour\"}], \"mesh3d\": [{\"colorbar\": {\"outlinewidth\": 0, \"ticks\": \"\"}, \"type\": \"mesh3d\"}], \"parcoords\": [{\"line\": {\"colorbar\": {\"outlinewidth\": 0, \"ticks\": \"\"}}, \"type\": \"parcoords\"}], \"pie\": [{\"automargin\": true, \"type\": \"pie\"}], \"scatter\": [{\"marker\": {\"colorbar\": {\"outlinewidth\": 0, \"ticks\": \"\"}}, \"type\": \"scatter\"}], \"scatter3d\": [{\"line\": {\"colorbar\": {\"outlinewidth\": 0, \"ticks\": \"\"}}, \"marker\": {\"colorbar\": {\"outlinewidth\": 0, \"ticks\": \"\"}}, \"type\": \"scatter3d\"}], \"scattercarpet\": [{\"marker\": {\"colorbar\": {\"outlinewidth\": 0, \"ticks\": \"\"}}, \"type\": \"scattercarpet\"}], \"scattergeo\": [{\"marker\": {\"colorbar\": {\"outlinewidth\": 0, \"ticks\": \"\"}}, \"type\": \"scattergeo\"}], \"scattergl\": [{\"marker\": {\"colorbar\": {\"outlinewidth\": 0, \"ticks\": \"\"}}, \"type\": \"scattergl\"}], \"scattermapbox\": [{\"marker\": {\"colorbar\": {\"outlinewidth\": 0, \"ticks\": \"\"}}, \"type\": \"scattermapbox\"}], \"scatterpolar\": [{\"marker\": {\"colorbar\": {\"outlinewidth\": 0, \"ticks\": \"\"}}, \"type\": \"scatterpolar\"}], \"scatterpolargl\": [{\"marker\": {\"colorbar\": {\"outlinewidth\": 0, \"ticks\": \"\"}}, \"type\": \"scatterpolargl\"}], \"scatterternary\": [{\"marker\": {\"colorbar\": {\"outlinewidth\": 0, \"ticks\": \"\"}}, \"type\": \"scatterternary\"}], \"surface\": [{\"colorbar\": {\"outlinewidth\": 0, \"ticks\": \"\"}, \"colorscale\": [[0.0, \"#0d0887\"], [0.1111111111111111, \"#46039f\"], [0.2222222222222222, \"#7201a8\"], [0.3333333333333333, \"#9c179e\"], [0.4444444444444444, \"#bd3786\"], [0.5555555555555556, \"#d8576b\"], [0.6666666666666666, \"#ed7953\"], [0.7777777777777778, \"#fb9f3a\"], [0.8888888888888888, \"#fdca26\"], [1.0, \"#f0f921\"]], \"type\": \"surface\"}], \"table\": [{\"cells\": {\"fill\": {\"color\": \"#EBF0F8\"}, \"line\": {\"color\": \"white\"}}, \"header\": {\"fill\": {\"color\": \"#C8D4E3\"}, \"line\": {\"color\": \"white\"}}, \"type\": \"table\"}]}, \"layout\": {\"annotationdefaults\": {\"arrowcolor\": \"#2a3f5f\", \"arrowhead\": 0, \"arrowwidth\": 1}, \"coloraxis\": {\"colorbar\": {\"outlinewidth\": 0, \"ticks\": \"\"}}, \"colorscale\": {\"diverging\": [[0, \"#8e0152\"], [0.1, \"#c51b7d\"], [0.2, \"#de77ae\"], [0.3, \"#f1b6da\"], [0.4, \"#fde0ef\"], [0.5, \"#f7f7f7\"], [0.6, \"#e6f5d0\"], [0.7, \"#b8e186\"], [0.8, \"#7fbc41\"], [0.9, \"#4d9221\"], [1, \"#276419\"]], \"sequential\": [[0.0, \"#0d0887\"], [0.1111111111111111, \"#46039f\"], [0.2222222222222222, \"#7201a8\"], [0.3333333333333333, \"#9c179e\"], [0.4444444444444444, \"#bd3786\"], [0.5555555555555556, \"#d8576b\"], [0.6666666666666666, \"#ed7953\"], [0.7777777777777778, \"#fb9f3a\"], [0.8888888888888888, \"#fdca26\"], [1.0, \"#f0f921\"]], \"sequentialminus\": [[0.0, \"#0d0887\"], [0.1111111111111111, \"#46039f\"], [0.2222222222222222, \"#7201a8\"], [0.3333333333333333, \"#9c179e\"], [0.4444444444444444, \"#bd3786\"], [0.5555555555555556, \"#d8576b\"], [0.6666666666666666, \"#ed7953\"], [0.7777777777777778, \"#fb9f3a\"], [0.8888888888888888, \"#fdca26\"], [1.0, \"#f0f921\"]]}, \"colorway\": [\"#636efa\", \"#EF553B\", \"#00cc96\", \"#ab63fa\", \"#FFA15A\", \"#19d3f3\", \"#FF6692\", \"#B6E880\", \"#FF97FF\", \"#FECB52\"], \"font\": {\"color\": \"#2a3f5f\"}, \"geo\": {\"bgcolor\": \"white\", \"lakecolor\": \"white\", \"landcolor\": \"#E5ECF6\", \"showlakes\": true, \"showland\": true, \"subunitcolor\": \"white\"}, \"hoverlabel\": {\"align\": \"left\"}, \"hovermode\": \"closest\", \"mapbox\": {\"style\": \"light\"}, \"paper_bgcolor\": \"white\", \"plot_bgcolor\": \"#E5ECF6\", \"polar\": {\"angularaxis\": {\"gridcolor\": \"white\", \"linecolor\": \"white\", \"ticks\": \"\"}, \"bgcolor\": \"#E5ECF6\", \"radialaxis\": {\"gridcolor\": \"white\", \"linecolor\": \"white\", \"ticks\": \"\"}}, \"scene\": {\"xaxis\": {\"backgroundcolor\": \"#E5ECF6\", \"gridcolor\": \"white\", \"gridwidth\": 2, \"linecolor\": \"white\", \"showbackground\": true, \"ticks\": \"\", \"zerolinecolor\": \"white\"}, \"yaxis\": {\"backgroundcolor\": \"#E5ECF6\", \"gridcolor\": \"white\", \"gridwidth\": 2, \"linecolor\": \"white\", \"showbackground\": true, \"ticks\": \"\", \"zerolinecolor\": \"white\"}, \"zaxis\": {\"backgroundcolor\": \"#E5ECF6\", \"gridcolor\": \"white\", \"gridwidth\": 2, \"linecolor\": \"white\", \"showbackground\": true, \"ticks\": \"\", \"zerolinecolor\": \"white\"}}, \"shapedefaults\": {\"line\": {\"color\": \"#2a3f5f\"}}, \"ternary\": {\"aaxis\": {\"gridcolor\": \"white\", \"linecolor\": \"white\", \"ticks\": \"\"}, \"baxis\": {\"gridcolor\": \"white\", \"linecolor\": \"white\", \"ticks\": \"\"}, \"bgcolor\": \"#E5ECF6\", \"caxis\": {\"gridcolor\": \"white\", \"linecolor\": \"white\", \"ticks\": \"\"}}, \"title\": {\"x\": 0.05}, \"xaxis\": {\"automargin\": true, \"gridcolor\": \"white\", \"linecolor\": \"white\", \"ticks\": \"\", \"title\": {\"standoff\": 15}, \"zerolinecolor\": \"white\", \"zerolinewidth\": 2}, \"yaxis\": {\"automargin\": true, \"gridcolor\": \"white\", \"linecolor\": \"white\", \"ticks\": \"\", \"title\": {\"standoff\": 15}, \"zerolinecolor\": \"white\", \"zerolinewidth\": 2}}}, \"xaxis\": {\"anchor\": \"y\", \"domain\": [0.0, 0.45]}, \"xaxis2\": {\"anchor\": \"y2\", \"domain\": [0.55, 1.0]}, \"xaxis3\": {\"anchor\": \"y3\", \"domain\": [0.0, 0.45]}, \"xaxis4\": {\"anchor\": \"y4\", \"domain\": [0.55, 1.0]}, \"yaxis\": {\"anchor\": \"x\", \"domain\": [0.625, 1.0]}, \"yaxis2\": {\"anchor\": \"x2\", \"domain\": [0.625, 1.0]}, \"yaxis3\": {\"anchor\": \"x3\", \"domain\": [0.0, 0.375]}, \"yaxis4\": {\"anchor\": \"x4\", \"domain\": [0.0, 0.375]}},\n",
              "                        {\"responsive\": true}\n",
              "                    ).then(function(){\n",
              "                            \n",
              "var gd = document.getElementById('c2a21905-cb50-4e9f-a2b7-8f38f16dbd93');\n",
              "var x = new MutationObserver(function (mutations, observer) {{\n",
              "        var display = window.getComputedStyle(gd).display;\n",
              "        if (!display || display === 'none') {{\n",
              "            console.log([gd, 'removed!']);\n",
              "            Plotly.purge(gd);\n",
              "            observer.disconnect();\n",
              "        }}\n",
              "}});\n",
              "\n",
              "// Listen for the removal of the full notebook cells\n",
              "var notebookContainer = gd.closest('#notebook-container');\n",
              "if (notebookContainer) {{\n",
              "    x.observe(notebookContainer, {childList: true});\n",
              "}}\n",
              "\n",
              "// Listen for the clearing of the current output cell\n",
              "var outputEl = gd.closest('.output');\n",
              "if (outputEl) {{\n",
              "    x.observe(outputEl, {childList: true});\n",
              "}}\n",
              "\n",
              "                        })\n",
              "                };\n",
              "                \n",
              "            </script>\n",
              "        </div>\n",
              "</body>\n",
              "</html>"
            ]
          },
          "metadata": {}
        }
      ]
    },
    {
      "cell_type": "code",
      "metadata": {
        "colab": {
          "base_uri": "https://localhost:8080/",
          "height": 542
        },
        "id": "AFxvxDPeq_36",
        "outputId": "1f0c354c-b5de-414f-9662-78c62c46d3a2"
      },
      "source": [
        "fig = make_subplots(rows=2, cols=2, subplot_titles=['Total Cases', 'Deaths', 'Active', 'Discharged'])\n",
        "\n",
        "total_cases = go.Bar(y=pd_df['Total_Cases'], name='Total Cases', hovertext=pd_df['State_UTs'])\n",
        "deaths = go.Bar(y=pd_df['Deaths'], name='Deaths', hovertext=pd_df['State_UTs'])\n",
        "active = go.Bar(y=pd_df['Active'], name='Active', hovertext=pd_df['State_UTs'])\n",
        "discharged = go.Bar(y=pd_df['Discharged'], name='Discharged', hovertext=pd_df['State_UTs'])\n",
        "\n",
        "fig.add_trace(total_cases, 1, 1)\n",
        "fig.add_trace(deaths, 1, 2)\n",
        "fig.add_trace(active, 2, 1)\n",
        "fig.add_trace(discharged, 2, 2)\n",
        "\n",
        "fig.update_layout(showlegend=False)\n",
        "fig.show()"
      ],
      "execution_count": 47,
      "outputs": [
        {
          "output_type": "display_data",
          "data": {
            "text/html": [
              "<html>\n",
              "<head><meta charset=\"utf-8\" /></head>\n",
              "<body>\n",
              "    <div>\n",
              "            <script src=\"https://cdnjs.cloudflare.com/ajax/libs/mathjax/2.7.5/MathJax.js?config=TeX-AMS-MML_SVG\"></script><script type=\"text/javascript\">if (window.MathJax) {MathJax.Hub.Config({SVG: {font: \"STIX-Web\"}});}</script>\n",
              "                <script type=\"text/javascript\">window.PlotlyConfig = {MathJaxConfig: 'local'};</script>\n",
              "        <script src=\"https://cdn.plot.ly/plotly-latest.min.js\"></script>    \n",
              "            <div id=\"59ab5ed9-3273-49ba-9eda-a4b856143622\" class=\"plotly-graph-div\" style=\"height:525px; width:100%;\"></div>\n",
              "            <script type=\"text/javascript\">\n",
              "                \n",
              "                    window.PLOTLYENV=window.PLOTLYENV || {};\n",
              "                    \n",
              "                if (document.getElementById(\"59ab5ed9-3273-49ba-9eda-a4b856143622\")) {\n",
              "                    Plotly.newPlot(\n",
              "                        '59ab5ed9-3273-49ba-9eda-a4b856143622',\n",
              "                        [{\"hovertext\": [\"Andaman and Nicobar\", \"Andhra Pradesh\", \"Arunachal Pradesh\", \"Assam\", \"Bihar\", \"Chandigarh\", \"Chhattisgarh\", \"Dadra and Nagar Haveli and Daman and Diu\", \"Delhi\", \"Goa\", \"Gujarat\", \"Haryana\", \"Himachal Pradesh\", \"Jammu and Kashmir\", \"Jharkhand\", \"Karnataka\", \"Kerala\", \"Ladakh\", \"Lakshadweep\", \"Madhya Pradesh\", \"Maharashtra\", \"Manipur\", \"Meghalaya\", \"Mizoram\", \"Nagaland\", \"Odisha\", \"Puducherry\", \"Punjab\", \"Rajasthan\", \"Sikkim\", \"Tamil Nadu\", \"Telengana\", \"Tripura\", \"Uttar Pradesh\", \"Uttarakhand\", \"West Bengal\"], \"name\": \"Total Cases\", \"type\": \"bar\", \"xaxis\": \"x\", \"y\": [7660, 2067921, 55180, 612134, 726129, 65360, 1006159, 10682, 1440071, 178281, 826716, 771308, 224830, 332911, 348864, 2989713, 5008381, 21006, 10365, 792901, 6616762, 124047, 83827, 124992, 31922, 1043151, 128165, 602517, 954451, 32039, 2708230, 672367, 84570, 1710193, 343939, 1597765], \"yaxis\": \"y\"}, {\"hovertext\": [\"Andaman and Nicobar\", \"Andhra Pradesh\", \"Arunachal Pradesh\", \"Assam\", \"Bihar\", \"Chandigarh\", \"Chhattisgarh\", \"Dadra and Nagar Haveli and Daman and Diu\", \"Delhi\", \"Goa\", \"Gujarat\", \"Haryana\", \"Himachal Pradesh\", \"Jammu and Kashmir\", \"Jharkhand\", \"Karnataka\", \"Kerala\", \"Ladakh\", \"Lakshadweep\", \"Madhya Pradesh\", \"Maharashtra\", \"Manipur\", \"Meghalaya\", \"Mizoram\", \"Nagaland\", \"Odisha\", \"Puducherry\", \"Punjab\", \"Rajasthan\", \"Sikkim\", \"Tamil Nadu\", \"Telengana\", \"Tripura\", \"Uttar Pradesh\", \"Uttarakhand\", \"West Bengal\"], \"name\": \"Deaths\", \"type\": \"bar\", \"xaxis\": \"x2\", \"y\": [129, 14392, 280, 6026, 9661, 820, 13584, 4, 25091, 3367, 10090, 10050, 3774, 4440, 5138, 38107, 33515, 209, 51, 10524, 140372, 1931, 1457, 446, 689, 8354, 1862, 16562, 8954, 399, 36214, 3964, 816, 22903, 7401, 19215], \"yaxis\": \"y2\"}, {\"hovertext\": [\"Andaman and Nicobar\", \"Andhra Pradesh\", \"Arunachal Pradesh\", \"Assam\", \"Bihar\", \"Chandigarh\", \"Chhattisgarh\", \"Dadra and Nagar Haveli and Daman and Diu\", \"Delhi\", \"Goa\", \"Gujarat\", \"Haryana\", \"Himachal Pradesh\", \"Jammu and Kashmir\", \"Jharkhand\", \"Karnataka\", \"Kerala\", \"Ladakh\", \"Lakshadweep\", \"Madhya Pradesh\", \"Maharashtra\", \"Manipur\", \"Meghalaya\", \"Mizoram\", \"Nagaland\", \"Odisha\", \"Puducherry\", \"Punjab\", \"Rajasthan\", \"Sikkim\", \"Tamil Nadu\", \"Telengana\", \"Tripura\", \"Uttar Pradesh\", \"Uttarakhand\", \"West Bengal\"], \"name\": \"Active\", \"type\": \"bar\", \"xaxis\": \"x3\", \"y\": [11, 3568, 60, 3379, 44, 29, 259, 0, 351, 313, 227, 112, 1375, 1091, 140, 8119, 73497, 91, 0, 107, 18345, 701, 377, 5981, 188, 2947, 304, 219, 44, 153, 10588, 3815, 129, 83, 146, 8029], \"yaxis\": \"y3\"}, {\"hovertext\": [\"Andaman and Nicobar\", \"Andhra Pradesh\", \"Arunachal Pradesh\", \"Assam\", \"Bihar\", \"Chandigarh\", \"Chhattisgarh\", \"Dadra and Nagar Haveli and Daman and Diu\", \"Delhi\", \"Goa\", \"Gujarat\", \"Haryana\", \"Himachal Pradesh\", \"Jammu and Kashmir\", \"Jharkhand\", \"Karnataka\", \"Kerala\", \"Ladakh\", \"Lakshadweep\", \"Madhya Pradesh\", \"Maharashtra\", \"Manipur\", \"Meghalaya\", \"Mizoram\", \"Nagaland\", \"Odisha\", \"Puducherry\", \"Punjab\", \"Rajasthan\", \"Sikkim\", \"Tamil Nadu\", \"Telengana\", \"Tripura\", \"Uttar Pradesh\", \"Uttarakhand\", \"West Bengal\"], \"name\": \"Discharged\", \"type\": \"bar\", \"xaxis\": \"x4\", \"y\": [7520, 2049961, 54840, 602729, 716424, 64511, 992316, 10678, 1414629, 174601, 816399, 761146, 219681, 327380, 343586, 2943487, 4901369, 20706, 10314, 782270, 6458045, 121415, 81993, 118565, 31045, 1031850, 125999, 585736, 945453, 31487, 2661428, 664588, 83625, 1687207, 336392, 1570521], \"yaxis\": \"y4\"}],\n",
              "                        {\"annotations\": [{\"font\": {\"size\": 16}, \"showarrow\": false, \"text\": \"Total Cases\", \"x\": 0.225, \"xanchor\": \"center\", \"xref\": \"paper\", \"y\": 1.0, \"yanchor\": \"bottom\", \"yref\": \"paper\"}, {\"font\": {\"size\": 16}, \"showarrow\": false, \"text\": \"Deaths\", \"x\": 0.775, \"xanchor\": \"center\", \"xref\": \"paper\", \"y\": 1.0, \"yanchor\": \"bottom\", \"yref\": \"paper\"}, {\"font\": {\"size\": 16}, \"showarrow\": false, \"text\": \"Active\", \"x\": 0.225, \"xanchor\": \"center\", \"xref\": \"paper\", \"y\": 0.375, \"yanchor\": \"bottom\", \"yref\": \"paper\"}, {\"font\": {\"size\": 16}, \"showarrow\": false, \"text\": \"Discharged\", \"x\": 0.775, \"xanchor\": \"center\", \"xref\": \"paper\", \"y\": 0.375, \"yanchor\": \"bottom\", \"yref\": \"paper\"}], \"showlegend\": false, \"template\": {\"data\": {\"bar\": [{\"error_x\": {\"color\": \"#2a3f5f\"}, \"error_y\": {\"color\": \"#2a3f5f\"}, \"marker\": {\"line\": {\"color\": \"#E5ECF6\", \"width\": 0.5}}, \"type\": \"bar\"}], \"barpolar\": [{\"marker\": {\"line\": {\"color\": \"#E5ECF6\", \"width\": 0.5}}, \"type\": \"barpolar\"}], \"carpet\": [{\"aaxis\": {\"endlinecolor\": \"#2a3f5f\", \"gridcolor\": \"white\", \"linecolor\": \"white\", \"minorgridcolor\": \"white\", \"startlinecolor\": \"#2a3f5f\"}, \"baxis\": {\"endlinecolor\": \"#2a3f5f\", \"gridcolor\": \"white\", \"linecolor\": \"white\", \"minorgridcolor\": \"white\", \"startlinecolor\": \"#2a3f5f\"}, \"type\": \"carpet\"}], \"choropleth\": [{\"colorbar\": {\"outlinewidth\": 0, \"ticks\": \"\"}, \"type\": \"choropleth\"}], \"contour\": [{\"colorbar\": {\"outlinewidth\": 0, \"ticks\": \"\"}, \"colorscale\": [[0.0, \"#0d0887\"], [0.1111111111111111, \"#46039f\"], [0.2222222222222222, \"#7201a8\"], [0.3333333333333333, \"#9c179e\"], [0.4444444444444444, \"#bd3786\"], [0.5555555555555556, \"#d8576b\"], [0.6666666666666666, \"#ed7953\"], [0.7777777777777778, \"#fb9f3a\"], [0.8888888888888888, \"#fdca26\"], [1.0, \"#f0f921\"]], \"type\": \"contour\"}], \"contourcarpet\": [{\"colorbar\": {\"outlinewidth\": 0, \"ticks\": \"\"}, \"type\": \"contourcarpet\"}], \"heatmap\": [{\"colorbar\": {\"outlinewidth\": 0, \"ticks\": \"\"}, \"colorscale\": [[0.0, \"#0d0887\"], [0.1111111111111111, \"#46039f\"], [0.2222222222222222, \"#7201a8\"], [0.3333333333333333, \"#9c179e\"], [0.4444444444444444, \"#bd3786\"], [0.5555555555555556, \"#d8576b\"], [0.6666666666666666, \"#ed7953\"], [0.7777777777777778, \"#fb9f3a\"], [0.8888888888888888, \"#fdca26\"], [1.0, \"#f0f921\"]], \"type\": \"heatmap\"}], \"heatmapgl\": [{\"colorbar\": {\"outlinewidth\": 0, \"ticks\": \"\"}, \"colorscale\": [[0.0, \"#0d0887\"], [0.1111111111111111, \"#46039f\"], [0.2222222222222222, \"#7201a8\"], [0.3333333333333333, \"#9c179e\"], [0.4444444444444444, \"#bd3786\"], [0.5555555555555556, \"#d8576b\"], [0.6666666666666666, \"#ed7953\"], [0.7777777777777778, \"#fb9f3a\"], [0.8888888888888888, \"#fdca26\"], [1.0, \"#f0f921\"]], \"type\": \"heatmapgl\"}], \"histogram\": [{\"marker\": {\"colorbar\": {\"outlinewidth\": 0, \"ticks\": \"\"}}, \"type\": \"histogram\"}], \"histogram2d\": [{\"colorbar\": {\"outlinewidth\": 0, \"ticks\": \"\"}, \"colorscale\": [[0.0, \"#0d0887\"], [0.1111111111111111, \"#46039f\"], [0.2222222222222222, \"#7201a8\"], [0.3333333333333333, \"#9c179e\"], [0.4444444444444444, \"#bd3786\"], [0.5555555555555556, \"#d8576b\"], [0.6666666666666666, \"#ed7953\"], [0.7777777777777778, \"#fb9f3a\"], [0.8888888888888888, \"#fdca26\"], [1.0, \"#f0f921\"]], \"type\": \"histogram2d\"}], \"histogram2dcontour\": [{\"colorbar\": {\"outlinewidth\": 0, \"ticks\": \"\"}, \"colorscale\": [[0.0, \"#0d0887\"], [0.1111111111111111, \"#46039f\"], [0.2222222222222222, \"#7201a8\"], [0.3333333333333333, \"#9c179e\"], [0.4444444444444444, \"#bd3786\"], [0.5555555555555556, \"#d8576b\"], [0.6666666666666666, \"#ed7953\"], [0.7777777777777778, \"#fb9f3a\"], [0.8888888888888888, \"#fdca26\"], [1.0, \"#f0f921\"]], \"type\": \"histogram2dcontour\"}], \"mesh3d\": [{\"colorbar\": {\"outlinewidth\": 0, \"ticks\": \"\"}, \"type\": \"mesh3d\"}], \"parcoords\": [{\"line\": {\"colorbar\": {\"outlinewidth\": 0, \"ticks\": \"\"}}, \"type\": \"parcoords\"}], \"pie\": [{\"automargin\": true, \"type\": \"pie\"}], \"scatter\": [{\"marker\": {\"colorbar\": {\"outlinewidth\": 0, \"ticks\": \"\"}}, \"type\": \"scatter\"}], \"scatter3d\": [{\"line\": {\"colorbar\": {\"outlinewidth\": 0, \"ticks\": \"\"}}, \"marker\": {\"colorbar\": {\"outlinewidth\": 0, \"ticks\": \"\"}}, \"type\": \"scatter3d\"}], \"scattercarpet\": [{\"marker\": {\"colorbar\": {\"outlinewidth\": 0, \"ticks\": \"\"}}, \"type\": \"scattercarpet\"}], \"scattergeo\": [{\"marker\": {\"colorbar\": {\"outlinewidth\": 0, \"ticks\": \"\"}}, \"type\": \"scattergeo\"}], \"scattergl\": [{\"marker\": {\"colorbar\": {\"outlinewidth\": 0, \"ticks\": \"\"}}, \"type\": \"scattergl\"}], \"scattermapbox\": [{\"marker\": {\"colorbar\": {\"outlinewidth\": 0, \"ticks\": \"\"}}, \"type\": \"scattermapbox\"}], \"scatterpolar\": [{\"marker\": {\"colorbar\": {\"outlinewidth\": 0, \"ticks\": \"\"}}, \"type\": \"scatterpolar\"}], \"scatterpolargl\": [{\"marker\": {\"colorbar\": {\"outlinewidth\": 0, \"ticks\": \"\"}}, \"type\": \"scatterpolargl\"}], \"scatterternary\": [{\"marker\": {\"colorbar\": {\"outlinewidth\": 0, \"ticks\": \"\"}}, \"type\": \"scatterternary\"}], \"surface\": [{\"colorbar\": {\"outlinewidth\": 0, \"ticks\": \"\"}, \"colorscale\": [[0.0, \"#0d0887\"], [0.1111111111111111, \"#46039f\"], [0.2222222222222222, \"#7201a8\"], [0.3333333333333333, \"#9c179e\"], [0.4444444444444444, \"#bd3786\"], [0.5555555555555556, \"#d8576b\"], [0.6666666666666666, \"#ed7953\"], [0.7777777777777778, \"#fb9f3a\"], [0.8888888888888888, \"#fdca26\"], [1.0, \"#f0f921\"]], \"type\": \"surface\"}], \"table\": [{\"cells\": {\"fill\": {\"color\": \"#EBF0F8\"}, \"line\": {\"color\": \"white\"}}, \"header\": {\"fill\": {\"color\": \"#C8D4E3\"}, \"line\": {\"color\": \"white\"}}, \"type\": \"table\"}]}, \"layout\": {\"annotationdefaults\": {\"arrowcolor\": \"#2a3f5f\", \"arrowhead\": 0, \"arrowwidth\": 1}, \"coloraxis\": {\"colorbar\": {\"outlinewidth\": 0, \"ticks\": \"\"}}, \"colorscale\": {\"diverging\": [[0, \"#8e0152\"], [0.1, \"#c51b7d\"], [0.2, \"#de77ae\"], [0.3, \"#f1b6da\"], [0.4, \"#fde0ef\"], [0.5, \"#f7f7f7\"], [0.6, \"#e6f5d0\"], [0.7, \"#b8e186\"], [0.8, \"#7fbc41\"], [0.9, \"#4d9221\"], [1, \"#276419\"]], \"sequential\": [[0.0, \"#0d0887\"], [0.1111111111111111, \"#46039f\"], [0.2222222222222222, \"#7201a8\"], [0.3333333333333333, \"#9c179e\"], [0.4444444444444444, \"#bd3786\"], [0.5555555555555556, \"#d8576b\"], [0.6666666666666666, \"#ed7953\"], [0.7777777777777778, \"#fb9f3a\"], [0.8888888888888888, \"#fdca26\"], [1.0, \"#f0f921\"]], \"sequentialminus\": [[0.0, \"#0d0887\"], [0.1111111111111111, \"#46039f\"], [0.2222222222222222, \"#7201a8\"], [0.3333333333333333, \"#9c179e\"], [0.4444444444444444, \"#bd3786\"], [0.5555555555555556, \"#d8576b\"], [0.6666666666666666, \"#ed7953\"], [0.7777777777777778, \"#fb9f3a\"], [0.8888888888888888, \"#fdca26\"], [1.0, \"#f0f921\"]]}, \"colorway\": [\"#636efa\", \"#EF553B\", \"#00cc96\", \"#ab63fa\", \"#FFA15A\", \"#19d3f3\", \"#FF6692\", \"#B6E880\", \"#FF97FF\", \"#FECB52\"], \"font\": {\"color\": \"#2a3f5f\"}, \"geo\": {\"bgcolor\": \"white\", \"lakecolor\": \"white\", \"landcolor\": \"#E5ECF6\", \"showlakes\": true, \"showland\": true, \"subunitcolor\": \"white\"}, \"hoverlabel\": {\"align\": \"left\"}, \"hovermode\": \"closest\", \"mapbox\": {\"style\": \"light\"}, \"paper_bgcolor\": \"white\", \"plot_bgcolor\": \"#E5ECF6\", \"polar\": {\"angularaxis\": {\"gridcolor\": \"white\", \"linecolor\": \"white\", \"ticks\": \"\"}, \"bgcolor\": \"#E5ECF6\", \"radialaxis\": {\"gridcolor\": \"white\", \"linecolor\": \"white\", \"ticks\": \"\"}}, \"scene\": {\"xaxis\": {\"backgroundcolor\": \"#E5ECF6\", \"gridcolor\": \"white\", \"gridwidth\": 2, \"linecolor\": \"white\", \"showbackground\": true, \"ticks\": \"\", \"zerolinecolor\": \"white\"}, \"yaxis\": {\"backgroundcolor\": \"#E5ECF6\", \"gridcolor\": \"white\", \"gridwidth\": 2, \"linecolor\": \"white\", \"showbackground\": true, \"ticks\": \"\", \"zerolinecolor\": \"white\"}, \"zaxis\": {\"backgroundcolor\": \"#E5ECF6\", \"gridcolor\": \"white\", \"gridwidth\": 2, \"linecolor\": \"white\", \"showbackground\": true, \"ticks\": \"\", \"zerolinecolor\": \"white\"}}, \"shapedefaults\": {\"line\": {\"color\": \"#2a3f5f\"}}, \"ternary\": {\"aaxis\": {\"gridcolor\": \"white\", \"linecolor\": \"white\", \"ticks\": \"\"}, \"baxis\": {\"gridcolor\": \"white\", \"linecolor\": \"white\", \"ticks\": \"\"}, \"bgcolor\": \"#E5ECF6\", \"caxis\": {\"gridcolor\": \"white\", \"linecolor\": \"white\", \"ticks\": \"\"}}, \"title\": {\"x\": 0.05}, \"xaxis\": {\"automargin\": true, \"gridcolor\": \"white\", \"linecolor\": \"white\", \"ticks\": \"\", \"title\": {\"standoff\": 15}, \"zerolinecolor\": \"white\", \"zerolinewidth\": 2}, \"yaxis\": {\"automargin\": true, \"gridcolor\": \"white\", \"linecolor\": \"white\", \"ticks\": \"\", \"title\": {\"standoff\": 15}, \"zerolinecolor\": \"white\", \"zerolinewidth\": 2}}}, \"xaxis\": {\"anchor\": \"y\", \"domain\": [0.0, 0.45]}, \"xaxis2\": {\"anchor\": \"y2\", \"domain\": [0.55, 1.0]}, \"xaxis3\": {\"anchor\": \"y3\", \"domain\": [0.0, 0.45]}, \"xaxis4\": {\"anchor\": \"y4\", \"domain\": [0.55, 1.0]}, \"yaxis\": {\"anchor\": \"x\", \"domain\": [0.625, 1.0]}, \"yaxis2\": {\"anchor\": \"x2\", \"domain\": [0.625, 1.0]}, \"yaxis3\": {\"anchor\": \"x3\", \"domain\": [0.0, 0.375]}, \"yaxis4\": {\"anchor\": \"x4\", \"domain\": [0.0, 0.375]}},\n",
              "                        {\"responsive\": true}\n",
              "                    ).then(function(){\n",
              "                            \n",
              "var gd = document.getElementById('59ab5ed9-3273-49ba-9eda-a4b856143622');\n",
              "var x = new MutationObserver(function (mutations, observer) {{\n",
              "        var display = window.getComputedStyle(gd).display;\n",
              "        if (!display || display === 'none') {{\n",
              "            console.log([gd, 'removed!']);\n",
              "            Plotly.purge(gd);\n",
              "            observer.disconnect();\n",
              "        }}\n",
              "}});\n",
              "\n",
              "// Listen for the removal of the full notebook cells\n",
              "var notebookContainer = gd.closest('#notebook-container');\n",
              "if (notebookContainer) {{\n",
              "    x.observe(notebookContainer, {childList: true});\n",
              "}}\n",
              "\n",
              "// Listen for the clearing of the current output cell\n",
              "var outputEl = gd.closest('.output');\n",
              "if (outputEl) {{\n",
              "    x.observe(outputEl, {childList: true});\n",
              "}}\n",
              "\n",
              "                        })\n",
              "                };\n",
              "                \n",
              "            </script>\n",
              "        </div>\n",
              "</body>\n",
              "</html>"
            ]
          },
          "metadata": {}
        }
      ]
    },
    {
      "cell_type": "code",
      "metadata": {
        "colab": {
          "base_uri": "https://localhost:8080/",
          "height": 542
        },
        "id": "Sm_zNXRMrFlM",
        "outputId": "1f16f413-531d-476f-e456-d8638050d626"
      },
      "source": [
        "fig = go.Figure([go.Bar(y=pd_df['Total_Cases'], name='Total Cases', hovertext=pd_df['State_UTs'], x=pd_df['State_UTs']),\n",
        "                 go.Bar(y=pd_df['Discharged'], name='Discharged', hovertext=pd_df['State_UTs'], x=pd_df['State_UTs'])])\n",
        "fig.update_layout(barmode='group')\n",
        "fig.update_layout(title='Total & Discharged Cases')\n",
        "fig.show()"
      ],
      "execution_count": 48,
      "outputs": [
        {
          "output_type": "display_data",
          "data": {
            "text/html": [
              "<html>\n",
              "<head><meta charset=\"utf-8\" /></head>\n",
              "<body>\n",
              "    <div>\n",
              "            <script src=\"https://cdnjs.cloudflare.com/ajax/libs/mathjax/2.7.5/MathJax.js?config=TeX-AMS-MML_SVG\"></script><script type=\"text/javascript\">if (window.MathJax) {MathJax.Hub.Config({SVG: {font: \"STIX-Web\"}});}</script>\n",
              "                <script type=\"text/javascript\">window.PlotlyConfig = {MathJaxConfig: 'local'};</script>\n",
              "        <script src=\"https://cdn.plot.ly/plotly-latest.min.js\"></script>    \n",
              "            <div id=\"389eb29a-69dc-46fa-b67e-e3375c039eec\" class=\"plotly-graph-div\" style=\"height:525px; width:100%;\"></div>\n",
              "            <script type=\"text/javascript\">\n",
              "                \n",
              "                    window.PLOTLYENV=window.PLOTLYENV || {};\n",
              "                    \n",
              "                if (document.getElementById(\"389eb29a-69dc-46fa-b67e-e3375c039eec\")) {\n",
              "                    Plotly.newPlot(\n",
              "                        '389eb29a-69dc-46fa-b67e-e3375c039eec',\n",
              "                        [{\"hovertext\": [\"Andaman and Nicobar\", \"Andhra Pradesh\", \"Arunachal Pradesh\", \"Assam\", \"Bihar\", \"Chandigarh\", \"Chhattisgarh\", \"Dadra and Nagar Haveli and Daman and Diu\", \"Delhi\", \"Goa\", \"Gujarat\", \"Haryana\", \"Himachal Pradesh\", \"Jammu and Kashmir\", \"Jharkhand\", \"Karnataka\", \"Kerala\", \"Ladakh\", \"Lakshadweep\", \"Madhya Pradesh\", \"Maharashtra\", \"Manipur\", \"Meghalaya\", \"Mizoram\", \"Nagaland\", \"Odisha\", \"Puducherry\", \"Punjab\", \"Rajasthan\", \"Sikkim\", \"Tamil Nadu\", \"Telengana\", \"Tripura\", \"Uttar Pradesh\", \"Uttarakhand\", \"West Bengal\"], \"name\": \"Total Cases\", \"type\": \"bar\", \"x\": [\"Andaman and Nicobar\", \"Andhra Pradesh\", \"Arunachal Pradesh\", \"Assam\", \"Bihar\", \"Chandigarh\", \"Chhattisgarh\", \"Dadra and Nagar Haveli and Daman and Diu\", \"Delhi\", \"Goa\", \"Gujarat\", \"Haryana\", \"Himachal Pradesh\", \"Jammu and Kashmir\", \"Jharkhand\", \"Karnataka\", \"Kerala\", \"Ladakh\", \"Lakshadweep\", \"Madhya Pradesh\", \"Maharashtra\", \"Manipur\", \"Meghalaya\", \"Mizoram\", \"Nagaland\", \"Odisha\", \"Puducherry\", \"Punjab\", \"Rajasthan\", \"Sikkim\", \"Tamil Nadu\", \"Telengana\", \"Tripura\", \"Uttar Pradesh\", \"Uttarakhand\", \"West Bengal\"], \"y\": [7660, 2067921, 55180, 612134, 726129, 65360, 1006159, 10682, 1440071, 178281, 826716, 771308, 224830, 332911, 348864, 2989713, 5008381, 21006, 10365, 792901, 6616762, 124047, 83827, 124992, 31922, 1043151, 128165, 602517, 954451, 32039, 2708230, 672367, 84570, 1710193, 343939, 1597765]}, {\"hovertext\": [\"Andaman and Nicobar\", \"Andhra Pradesh\", \"Arunachal Pradesh\", \"Assam\", \"Bihar\", \"Chandigarh\", \"Chhattisgarh\", \"Dadra and Nagar Haveli and Daman and Diu\", \"Delhi\", \"Goa\", \"Gujarat\", \"Haryana\", \"Himachal Pradesh\", \"Jammu and Kashmir\", \"Jharkhand\", \"Karnataka\", \"Kerala\", \"Ladakh\", \"Lakshadweep\", \"Madhya Pradesh\", \"Maharashtra\", \"Manipur\", \"Meghalaya\", \"Mizoram\", \"Nagaland\", \"Odisha\", \"Puducherry\", \"Punjab\", \"Rajasthan\", \"Sikkim\", \"Tamil Nadu\", \"Telengana\", \"Tripura\", \"Uttar Pradesh\", \"Uttarakhand\", \"West Bengal\"], \"name\": \"Discharged\", \"type\": \"bar\", \"x\": [\"Andaman and Nicobar\", \"Andhra Pradesh\", \"Arunachal Pradesh\", \"Assam\", \"Bihar\", \"Chandigarh\", \"Chhattisgarh\", \"Dadra and Nagar Haveli and Daman and Diu\", \"Delhi\", \"Goa\", \"Gujarat\", \"Haryana\", \"Himachal Pradesh\", \"Jammu and Kashmir\", \"Jharkhand\", \"Karnataka\", \"Kerala\", \"Ladakh\", \"Lakshadweep\", \"Madhya Pradesh\", \"Maharashtra\", \"Manipur\", \"Meghalaya\", \"Mizoram\", \"Nagaland\", \"Odisha\", \"Puducherry\", \"Punjab\", \"Rajasthan\", \"Sikkim\", \"Tamil Nadu\", \"Telengana\", \"Tripura\", \"Uttar Pradesh\", \"Uttarakhand\", \"West Bengal\"], \"y\": [7520, 2049961, 54840, 602729, 716424, 64511, 992316, 10678, 1414629, 174601, 816399, 761146, 219681, 327380, 343586, 2943487, 4901369, 20706, 10314, 782270, 6458045, 121415, 81993, 118565, 31045, 1031850, 125999, 585736, 945453, 31487, 2661428, 664588, 83625, 1687207, 336392, 1570521]}],\n",
              "                        {\"barmode\": \"group\", \"template\": {\"data\": {\"bar\": [{\"error_x\": {\"color\": \"#2a3f5f\"}, \"error_y\": {\"color\": \"#2a3f5f\"}, \"marker\": {\"line\": {\"color\": \"#E5ECF6\", \"width\": 0.5}}, \"type\": \"bar\"}], \"barpolar\": [{\"marker\": {\"line\": {\"color\": \"#E5ECF6\", \"width\": 0.5}}, \"type\": \"barpolar\"}], \"carpet\": [{\"aaxis\": {\"endlinecolor\": \"#2a3f5f\", \"gridcolor\": \"white\", \"linecolor\": \"white\", \"minorgridcolor\": \"white\", \"startlinecolor\": \"#2a3f5f\"}, \"baxis\": {\"endlinecolor\": \"#2a3f5f\", \"gridcolor\": \"white\", \"linecolor\": \"white\", \"minorgridcolor\": \"white\", \"startlinecolor\": \"#2a3f5f\"}, \"type\": \"carpet\"}], \"choropleth\": [{\"colorbar\": {\"outlinewidth\": 0, \"ticks\": \"\"}, \"type\": \"choropleth\"}], \"contour\": [{\"colorbar\": {\"outlinewidth\": 0, \"ticks\": \"\"}, \"colorscale\": [[0.0, \"#0d0887\"], [0.1111111111111111, \"#46039f\"], [0.2222222222222222, \"#7201a8\"], [0.3333333333333333, \"#9c179e\"], [0.4444444444444444, \"#bd3786\"], [0.5555555555555556, \"#d8576b\"], [0.6666666666666666, \"#ed7953\"], [0.7777777777777778, \"#fb9f3a\"], [0.8888888888888888, \"#fdca26\"], [1.0, \"#f0f921\"]], \"type\": \"contour\"}], \"contourcarpet\": [{\"colorbar\": {\"outlinewidth\": 0, \"ticks\": \"\"}, \"type\": \"contourcarpet\"}], \"heatmap\": [{\"colorbar\": {\"outlinewidth\": 0, \"ticks\": \"\"}, \"colorscale\": [[0.0, \"#0d0887\"], [0.1111111111111111, \"#46039f\"], [0.2222222222222222, \"#7201a8\"], [0.3333333333333333, \"#9c179e\"], [0.4444444444444444, \"#bd3786\"], [0.5555555555555556, \"#d8576b\"], [0.6666666666666666, \"#ed7953\"], [0.7777777777777778, \"#fb9f3a\"], [0.8888888888888888, \"#fdca26\"], [1.0, \"#f0f921\"]], \"type\": \"heatmap\"}], \"heatmapgl\": [{\"colorbar\": {\"outlinewidth\": 0, \"ticks\": \"\"}, \"colorscale\": [[0.0, \"#0d0887\"], [0.1111111111111111, \"#46039f\"], [0.2222222222222222, \"#7201a8\"], [0.3333333333333333, \"#9c179e\"], [0.4444444444444444, \"#bd3786\"], [0.5555555555555556, \"#d8576b\"], [0.6666666666666666, \"#ed7953\"], [0.7777777777777778, \"#fb9f3a\"], [0.8888888888888888, \"#fdca26\"], [1.0, \"#f0f921\"]], \"type\": \"heatmapgl\"}], \"histogram\": [{\"marker\": {\"colorbar\": {\"outlinewidth\": 0, \"ticks\": \"\"}}, \"type\": \"histogram\"}], \"histogram2d\": [{\"colorbar\": {\"outlinewidth\": 0, \"ticks\": \"\"}, \"colorscale\": [[0.0, \"#0d0887\"], [0.1111111111111111, \"#46039f\"], [0.2222222222222222, \"#7201a8\"], [0.3333333333333333, \"#9c179e\"], [0.4444444444444444, \"#bd3786\"], [0.5555555555555556, \"#d8576b\"], [0.6666666666666666, \"#ed7953\"], [0.7777777777777778, \"#fb9f3a\"], [0.8888888888888888, \"#fdca26\"], [1.0, \"#f0f921\"]], \"type\": \"histogram2d\"}], \"histogram2dcontour\": [{\"colorbar\": {\"outlinewidth\": 0, \"ticks\": \"\"}, \"colorscale\": [[0.0, \"#0d0887\"], [0.1111111111111111, \"#46039f\"], [0.2222222222222222, \"#7201a8\"], [0.3333333333333333, \"#9c179e\"], [0.4444444444444444, \"#bd3786\"], [0.5555555555555556, \"#d8576b\"], [0.6666666666666666, \"#ed7953\"], [0.7777777777777778, \"#fb9f3a\"], [0.8888888888888888, \"#fdca26\"], [1.0, \"#f0f921\"]], \"type\": \"histogram2dcontour\"}], \"mesh3d\": [{\"colorbar\": {\"outlinewidth\": 0, \"ticks\": \"\"}, \"type\": \"mesh3d\"}], \"parcoords\": [{\"line\": {\"colorbar\": {\"outlinewidth\": 0, \"ticks\": \"\"}}, \"type\": \"parcoords\"}], \"pie\": [{\"automargin\": true, \"type\": \"pie\"}], \"scatter\": [{\"marker\": {\"colorbar\": {\"outlinewidth\": 0, \"ticks\": \"\"}}, \"type\": \"scatter\"}], \"scatter3d\": [{\"line\": {\"colorbar\": {\"outlinewidth\": 0, \"ticks\": \"\"}}, \"marker\": {\"colorbar\": {\"outlinewidth\": 0, \"ticks\": \"\"}}, \"type\": \"scatter3d\"}], \"scattercarpet\": [{\"marker\": {\"colorbar\": {\"outlinewidth\": 0, \"ticks\": \"\"}}, \"type\": \"scattercarpet\"}], \"scattergeo\": [{\"marker\": {\"colorbar\": {\"outlinewidth\": 0, \"ticks\": \"\"}}, \"type\": \"scattergeo\"}], \"scattergl\": [{\"marker\": {\"colorbar\": {\"outlinewidth\": 0, \"ticks\": \"\"}}, \"type\": \"scattergl\"}], \"scattermapbox\": [{\"marker\": {\"colorbar\": {\"outlinewidth\": 0, \"ticks\": \"\"}}, \"type\": \"scattermapbox\"}], \"scatterpolar\": [{\"marker\": {\"colorbar\": {\"outlinewidth\": 0, \"ticks\": \"\"}}, \"type\": \"scatterpolar\"}], \"scatterpolargl\": [{\"marker\": {\"colorbar\": {\"outlinewidth\": 0, \"ticks\": \"\"}}, \"type\": \"scatterpolargl\"}], \"scatterternary\": [{\"marker\": {\"colorbar\": {\"outlinewidth\": 0, \"ticks\": \"\"}}, \"type\": \"scatterternary\"}], \"surface\": [{\"colorbar\": {\"outlinewidth\": 0, \"ticks\": \"\"}, \"colorscale\": [[0.0, \"#0d0887\"], [0.1111111111111111, \"#46039f\"], [0.2222222222222222, \"#7201a8\"], [0.3333333333333333, \"#9c179e\"], [0.4444444444444444, \"#bd3786\"], [0.5555555555555556, \"#d8576b\"], [0.6666666666666666, \"#ed7953\"], [0.7777777777777778, \"#fb9f3a\"], [0.8888888888888888, \"#fdca26\"], [1.0, \"#f0f921\"]], \"type\": \"surface\"}], \"table\": [{\"cells\": {\"fill\": {\"color\": \"#EBF0F8\"}, \"line\": {\"color\": \"white\"}}, \"header\": {\"fill\": {\"color\": \"#C8D4E3\"}, \"line\": {\"color\": \"white\"}}, \"type\": \"table\"}]}, \"layout\": {\"annotationdefaults\": {\"arrowcolor\": \"#2a3f5f\", \"arrowhead\": 0, \"arrowwidth\": 1}, \"coloraxis\": {\"colorbar\": {\"outlinewidth\": 0, \"ticks\": \"\"}}, \"colorscale\": {\"diverging\": [[0, \"#8e0152\"], [0.1, \"#c51b7d\"], [0.2, \"#de77ae\"], [0.3, \"#f1b6da\"], [0.4, \"#fde0ef\"], [0.5, \"#f7f7f7\"], [0.6, \"#e6f5d0\"], [0.7, \"#b8e186\"], [0.8, \"#7fbc41\"], [0.9, \"#4d9221\"], [1, \"#276419\"]], \"sequential\": [[0.0, \"#0d0887\"], [0.1111111111111111, \"#46039f\"], [0.2222222222222222, \"#7201a8\"], [0.3333333333333333, \"#9c179e\"], [0.4444444444444444, \"#bd3786\"], [0.5555555555555556, \"#d8576b\"], [0.6666666666666666, \"#ed7953\"], [0.7777777777777778, \"#fb9f3a\"], [0.8888888888888888, \"#fdca26\"], [1.0, \"#f0f921\"]], \"sequentialminus\": [[0.0, \"#0d0887\"], [0.1111111111111111, \"#46039f\"], [0.2222222222222222, \"#7201a8\"], [0.3333333333333333, \"#9c179e\"], [0.4444444444444444, \"#bd3786\"], [0.5555555555555556, \"#d8576b\"], [0.6666666666666666, \"#ed7953\"], [0.7777777777777778, \"#fb9f3a\"], [0.8888888888888888, \"#fdca26\"], [1.0, \"#f0f921\"]]}, \"colorway\": [\"#636efa\", \"#EF553B\", \"#00cc96\", \"#ab63fa\", \"#FFA15A\", \"#19d3f3\", \"#FF6692\", \"#B6E880\", \"#FF97FF\", \"#FECB52\"], \"font\": {\"color\": \"#2a3f5f\"}, \"geo\": {\"bgcolor\": \"white\", \"lakecolor\": \"white\", \"landcolor\": \"#E5ECF6\", \"showlakes\": true, \"showland\": true, \"subunitcolor\": \"white\"}, \"hoverlabel\": {\"align\": \"left\"}, \"hovermode\": \"closest\", \"mapbox\": {\"style\": \"light\"}, \"paper_bgcolor\": \"white\", \"plot_bgcolor\": \"#E5ECF6\", \"polar\": {\"angularaxis\": {\"gridcolor\": \"white\", \"linecolor\": \"white\", \"ticks\": \"\"}, \"bgcolor\": \"#E5ECF6\", \"radialaxis\": {\"gridcolor\": \"white\", \"linecolor\": \"white\", \"ticks\": \"\"}}, \"scene\": {\"xaxis\": {\"backgroundcolor\": \"#E5ECF6\", \"gridcolor\": \"white\", \"gridwidth\": 2, \"linecolor\": \"white\", \"showbackground\": true, \"ticks\": \"\", \"zerolinecolor\": \"white\"}, \"yaxis\": {\"backgroundcolor\": \"#E5ECF6\", \"gridcolor\": \"white\", \"gridwidth\": 2, \"linecolor\": \"white\", \"showbackground\": true, \"ticks\": \"\", \"zerolinecolor\": \"white\"}, \"zaxis\": {\"backgroundcolor\": \"#E5ECF6\", \"gridcolor\": \"white\", \"gridwidth\": 2, \"linecolor\": \"white\", \"showbackground\": true, \"ticks\": \"\", \"zerolinecolor\": \"white\"}}, \"shapedefaults\": {\"line\": {\"color\": \"#2a3f5f\"}}, \"ternary\": {\"aaxis\": {\"gridcolor\": \"white\", \"linecolor\": \"white\", \"ticks\": \"\"}, \"baxis\": {\"gridcolor\": \"white\", \"linecolor\": \"white\", \"ticks\": \"\"}, \"bgcolor\": \"#E5ECF6\", \"caxis\": {\"gridcolor\": \"white\", \"linecolor\": \"white\", \"ticks\": \"\"}}, \"title\": {\"x\": 0.05}, \"xaxis\": {\"automargin\": true, \"gridcolor\": \"white\", \"linecolor\": \"white\", \"ticks\": \"\", \"title\": {\"standoff\": 15}, \"zerolinecolor\": \"white\", \"zerolinewidth\": 2}, \"yaxis\": {\"automargin\": true, \"gridcolor\": \"white\", \"linecolor\": \"white\", \"ticks\": \"\", \"title\": {\"standoff\": 15}, \"zerolinecolor\": \"white\", \"zerolinewidth\": 2}}}, \"title\": {\"text\": \"Total & Discharged Cases\"}},\n",
              "                        {\"responsive\": true}\n",
              "                    ).then(function(){\n",
              "                            \n",
              "var gd = document.getElementById('389eb29a-69dc-46fa-b67e-e3375c039eec');\n",
              "var x = new MutationObserver(function (mutations, observer) {{\n",
              "        var display = window.getComputedStyle(gd).display;\n",
              "        if (!display || display === 'none') {{\n",
              "            console.log([gd, 'removed!']);\n",
              "            Plotly.purge(gd);\n",
              "            observer.disconnect();\n",
              "        }}\n",
              "}});\n",
              "\n",
              "// Listen for the removal of the full notebook cells\n",
              "var notebookContainer = gd.closest('#notebook-container');\n",
              "if (notebookContainer) {{\n",
              "    x.observe(notebookContainer, {childList: true});\n",
              "}}\n",
              "\n",
              "// Listen for the clearing of the current output cell\n",
              "var outputEl = gd.closest('.output');\n",
              "if (outputEl) {{\n",
              "    x.observe(outputEl, {childList: true});\n",
              "}}\n",
              "\n",
              "                        })\n",
              "                };\n",
              "                \n",
              "            </script>\n",
              "        </div>\n",
              "</body>\n",
              "</html>"
            ]
          },
          "metadata": {}
        }
      ]
    },
    {
      "cell_type": "code",
      "metadata": {
        "colab": {
          "base_uri": "https://localhost:8080/",
          "height": 542
        },
        "id": "sxg_YENZrlNF",
        "outputId": "cba48dff-e026-4a85-8def-1ef4cae5b369"
      },
      "source": [
        "fig = make_subplots(rows=2, cols=2,\n",
        "                    subplot_titles=['Total Cases', 'Deaths', 'Active', 'Discharged'],\n",
        "                    specs=[[{'type':'domain'}, {'type':'domain'}],\n",
        "                           [{'type':'domain'}, {'type':'domain'}]])\n",
        "\n",
        "total_cases = go.Pie(values=pd_df['Total_Cases'], name='Total Cases', labels=pd_df['State_UTs'])\n",
        "deaths = go.Pie(values=pd_df['Deaths'], name='Deaths', labels=pd_df['State_UTs'])\n",
        "active = go.Pie(values=pd_df['Active'], name='Active', labels=pd_df['State_UTs'])\n",
        "discharged = go.Pie(values=pd_df['Discharged'], name='Discharged', labels=pd_df['State_UTs'])\n",
        "\n",
        "fig.add_trace(total_cases, 1, 1)\n",
        "fig.add_trace(deaths, 1, 2)\n",
        "fig.add_trace(active, 2, 1)\n",
        "fig.add_trace(discharged, 2, 2)\n",
        "\n",
        "fig.update_traces(hoverinfo='percent+label')\n",
        "fig.update_layout(showlegend=False)\n",
        "\n",
        "fig.update_traces(textposition='inside')\n",
        "\n",
        "fig = go.Figure(fig)\n",
        "fig.show()"
      ],
      "execution_count": 49,
      "outputs": [
        {
          "output_type": "display_data",
          "data": {
            "text/html": [
              "<html>\n",
              "<head><meta charset=\"utf-8\" /></head>\n",
              "<body>\n",
              "    <div>\n",
              "            <script src=\"https://cdnjs.cloudflare.com/ajax/libs/mathjax/2.7.5/MathJax.js?config=TeX-AMS-MML_SVG\"></script><script type=\"text/javascript\">if (window.MathJax) {MathJax.Hub.Config({SVG: {font: \"STIX-Web\"}});}</script>\n",
              "                <script type=\"text/javascript\">window.PlotlyConfig = {MathJaxConfig: 'local'};</script>\n",
              "        <script src=\"https://cdn.plot.ly/plotly-latest.min.js\"></script>    \n",
              "            <div id=\"408be0f7-18d2-4a83-8381-7c16a6feca25\" class=\"plotly-graph-div\" style=\"height:525px; width:100%;\"></div>\n",
              "            <script type=\"text/javascript\">\n",
              "                \n",
              "                    window.PLOTLYENV=window.PLOTLYENV || {};\n",
              "                    \n",
              "                if (document.getElementById(\"408be0f7-18d2-4a83-8381-7c16a6feca25\")) {\n",
              "                    Plotly.newPlot(\n",
              "                        '408be0f7-18d2-4a83-8381-7c16a6feca25',\n",
              "                        [{\"domain\": {\"x\": [0.0, 0.45], \"y\": [0.625, 1.0]}, \"hoverinfo\": \"percent+label\", \"labels\": [\"Andaman and Nicobar\", \"Andhra Pradesh\", \"Arunachal Pradesh\", \"Assam\", \"Bihar\", \"Chandigarh\", \"Chhattisgarh\", \"Dadra and Nagar Haveli and Daman and Diu\", \"Delhi\", \"Goa\", \"Gujarat\", \"Haryana\", \"Himachal Pradesh\", \"Jammu and Kashmir\", \"Jharkhand\", \"Karnataka\", \"Kerala\", \"Ladakh\", \"Lakshadweep\", \"Madhya Pradesh\", \"Maharashtra\", \"Manipur\", \"Meghalaya\", \"Mizoram\", \"Nagaland\", \"Odisha\", \"Puducherry\", \"Punjab\", \"Rajasthan\", \"Sikkim\", \"Tamil Nadu\", \"Telengana\", \"Tripura\", \"Uttar Pradesh\", \"Uttarakhand\", \"West Bengal\"], \"name\": \"Total Cases\", \"textposition\": \"inside\", \"type\": \"pie\", \"values\": [7660, 2067921, 55180, 612134, 726129, 65360, 1006159, 10682, 1440071, 178281, 826716, 771308, 224830, 332911, 348864, 2989713, 5008381, 21006, 10365, 792901, 6616762, 124047, 83827, 124992, 31922, 1043151, 128165, 602517, 954451, 32039, 2708230, 672367, 84570, 1710193, 343939, 1597765]}, {\"domain\": {\"x\": [0.55, 1.0], \"y\": [0.625, 1.0]}, \"hoverinfo\": \"percent+label\", \"labels\": [\"Andaman and Nicobar\", \"Andhra Pradesh\", \"Arunachal Pradesh\", \"Assam\", \"Bihar\", \"Chandigarh\", \"Chhattisgarh\", \"Dadra and Nagar Haveli and Daman and Diu\", \"Delhi\", \"Goa\", \"Gujarat\", \"Haryana\", \"Himachal Pradesh\", \"Jammu and Kashmir\", \"Jharkhand\", \"Karnataka\", \"Kerala\", \"Ladakh\", \"Lakshadweep\", \"Madhya Pradesh\", \"Maharashtra\", \"Manipur\", \"Meghalaya\", \"Mizoram\", \"Nagaland\", \"Odisha\", \"Puducherry\", \"Punjab\", \"Rajasthan\", \"Sikkim\", \"Tamil Nadu\", \"Telengana\", \"Tripura\", \"Uttar Pradesh\", \"Uttarakhand\", \"West Bengal\"], \"name\": \"Deaths\", \"textposition\": \"inside\", \"type\": \"pie\", \"values\": [129, 14392, 280, 6026, 9661, 820, 13584, 4, 25091, 3367, 10090, 10050, 3774, 4440, 5138, 38107, 33515, 209, 51, 10524, 140372, 1931, 1457, 446, 689, 8354, 1862, 16562, 8954, 399, 36214, 3964, 816, 22903, 7401, 19215]}, {\"domain\": {\"x\": [0.0, 0.45], \"y\": [0.0, 0.375]}, \"hoverinfo\": \"percent+label\", \"labels\": [\"Andaman and Nicobar\", \"Andhra Pradesh\", \"Arunachal Pradesh\", \"Assam\", \"Bihar\", \"Chandigarh\", \"Chhattisgarh\", \"Dadra and Nagar Haveli and Daman and Diu\", \"Delhi\", \"Goa\", \"Gujarat\", \"Haryana\", \"Himachal Pradesh\", \"Jammu and Kashmir\", \"Jharkhand\", \"Karnataka\", \"Kerala\", \"Ladakh\", \"Lakshadweep\", \"Madhya Pradesh\", \"Maharashtra\", \"Manipur\", \"Meghalaya\", \"Mizoram\", \"Nagaland\", \"Odisha\", \"Puducherry\", \"Punjab\", \"Rajasthan\", \"Sikkim\", \"Tamil Nadu\", \"Telengana\", \"Tripura\", \"Uttar Pradesh\", \"Uttarakhand\", \"West Bengal\"], \"name\": \"Active\", \"textposition\": \"inside\", \"type\": \"pie\", \"values\": [11, 3568, 60, 3379, 44, 29, 259, 0, 351, 313, 227, 112, 1375, 1091, 140, 8119, 73497, 91, 0, 107, 18345, 701, 377, 5981, 188, 2947, 304, 219, 44, 153, 10588, 3815, 129, 83, 146, 8029]}, {\"domain\": {\"x\": [0.55, 1.0], \"y\": [0.0, 0.375]}, \"hoverinfo\": \"percent+label\", \"labels\": [\"Andaman and Nicobar\", \"Andhra Pradesh\", \"Arunachal Pradesh\", \"Assam\", \"Bihar\", \"Chandigarh\", \"Chhattisgarh\", \"Dadra and Nagar Haveli and Daman and Diu\", \"Delhi\", \"Goa\", \"Gujarat\", \"Haryana\", \"Himachal Pradesh\", \"Jammu and Kashmir\", \"Jharkhand\", \"Karnataka\", \"Kerala\", \"Ladakh\", \"Lakshadweep\", \"Madhya Pradesh\", \"Maharashtra\", \"Manipur\", \"Meghalaya\", \"Mizoram\", \"Nagaland\", \"Odisha\", \"Puducherry\", \"Punjab\", \"Rajasthan\", \"Sikkim\", \"Tamil Nadu\", \"Telengana\", \"Tripura\", \"Uttar Pradesh\", \"Uttarakhand\", \"West Bengal\"], \"name\": \"Discharged\", \"textposition\": \"inside\", \"type\": \"pie\", \"values\": [7520, 2049961, 54840, 602729, 716424, 64511, 992316, 10678, 1414629, 174601, 816399, 761146, 219681, 327380, 343586, 2943487, 4901369, 20706, 10314, 782270, 6458045, 121415, 81993, 118565, 31045, 1031850, 125999, 585736, 945453, 31487, 2661428, 664588, 83625, 1687207, 336392, 1570521]}],\n",
              "                        {\"annotations\": [{\"font\": {\"size\": 16}, \"showarrow\": false, \"text\": \"Total Cases\", \"x\": 0.225, \"xanchor\": \"center\", \"xref\": \"paper\", \"y\": 1.0, \"yanchor\": \"bottom\", \"yref\": \"paper\"}, {\"font\": {\"size\": 16}, \"showarrow\": false, \"text\": \"Deaths\", \"x\": 0.775, \"xanchor\": \"center\", \"xref\": \"paper\", \"y\": 1.0, \"yanchor\": \"bottom\", \"yref\": \"paper\"}, {\"font\": {\"size\": 16}, \"showarrow\": false, \"text\": \"Active\", \"x\": 0.225, \"xanchor\": \"center\", \"xref\": \"paper\", \"y\": 0.375, \"yanchor\": \"bottom\", \"yref\": \"paper\"}, {\"font\": {\"size\": 16}, \"showarrow\": false, \"text\": \"Discharged\", \"x\": 0.775, \"xanchor\": \"center\", \"xref\": \"paper\", \"y\": 0.375, \"yanchor\": \"bottom\", \"yref\": \"paper\"}], \"showlegend\": false, \"template\": {\"data\": {\"bar\": [{\"error_x\": {\"color\": \"#2a3f5f\"}, \"error_y\": {\"color\": \"#2a3f5f\"}, \"marker\": {\"line\": {\"color\": \"#E5ECF6\", \"width\": 0.5}}, \"type\": \"bar\"}], \"barpolar\": [{\"marker\": {\"line\": {\"color\": \"#E5ECF6\", \"width\": 0.5}}, \"type\": \"barpolar\"}], \"carpet\": [{\"aaxis\": {\"endlinecolor\": \"#2a3f5f\", \"gridcolor\": \"white\", \"linecolor\": \"white\", \"minorgridcolor\": \"white\", \"startlinecolor\": \"#2a3f5f\"}, \"baxis\": {\"endlinecolor\": \"#2a3f5f\", \"gridcolor\": \"white\", \"linecolor\": \"white\", \"minorgridcolor\": \"white\", \"startlinecolor\": \"#2a3f5f\"}, \"type\": \"carpet\"}], \"choropleth\": [{\"colorbar\": {\"outlinewidth\": 0, \"ticks\": \"\"}, \"type\": \"choropleth\"}], \"contour\": [{\"colorbar\": {\"outlinewidth\": 0, \"ticks\": \"\"}, \"colorscale\": [[0.0, \"#0d0887\"], [0.1111111111111111, \"#46039f\"], [0.2222222222222222, \"#7201a8\"], [0.3333333333333333, \"#9c179e\"], [0.4444444444444444, \"#bd3786\"], [0.5555555555555556, \"#d8576b\"], [0.6666666666666666, \"#ed7953\"], [0.7777777777777778, \"#fb9f3a\"], [0.8888888888888888, \"#fdca26\"], [1.0, \"#f0f921\"]], \"type\": \"contour\"}], \"contourcarpet\": [{\"colorbar\": {\"outlinewidth\": 0, \"ticks\": \"\"}, \"type\": \"contourcarpet\"}], \"heatmap\": [{\"colorbar\": {\"outlinewidth\": 0, \"ticks\": \"\"}, \"colorscale\": [[0.0, \"#0d0887\"], [0.1111111111111111, \"#46039f\"], [0.2222222222222222, \"#7201a8\"], [0.3333333333333333, \"#9c179e\"], [0.4444444444444444, \"#bd3786\"], [0.5555555555555556, \"#d8576b\"], [0.6666666666666666, \"#ed7953\"], [0.7777777777777778, \"#fb9f3a\"], [0.8888888888888888, \"#fdca26\"], [1.0, \"#f0f921\"]], \"type\": \"heatmap\"}], \"heatmapgl\": [{\"colorbar\": {\"outlinewidth\": 0, \"ticks\": \"\"}, \"colorscale\": [[0.0, \"#0d0887\"], [0.1111111111111111, \"#46039f\"], [0.2222222222222222, \"#7201a8\"], [0.3333333333333333, \"#9c179e\"], [0.4444444444444444, \"#bd3786\"], [0.5555555555555556, \"#d8576b\"], [0.6666666666666666, \"#ed7953\"], [0.7777777777777778, \"#fb9f3a\"], [0.8888888888888888, \"#fdca26\"], [1.0, \"#f0f921\"]], \"type\": \"heatmapgl\"}], \"histogram\": [{\"marker\": {\"colorbar\": {\"outlinewidth\": 0, \"ticks\": \"\"}}, \"type\": \"histogram\"}], \"histogram2d\": [{\"colorbar\": {\"outlinewidth\": 0, \"ticks\": \"\"}, \"colorscale\": [[0.0, \"#0d0887\"], [0.1111111111111111, \"#46039f\"], [0.2222222222222222, \"#7201a8\"], [0.3333333333333333, \"#9c179e\"], [0.4444444444444444, \"#bd3786\"], [0.5555555555555556, \"#d8576b\"], [0.6666666666666666, \"#ed7953\"], [0.7777777777777778, \"#fb9f3a\"], [0.8888888888888888, \"#fdca26\"], [1.0, \"#f0f921\"]], \"type\": \"histogram2d\"}], \"histogram2dcontour\": [{\"colorbar\": {\"outlinewidth\": 0, \"ticks\": \"\"}, \"colorscale\": [[0.0, \"#0d0887\"], [0.1111111111111111, \"#46039f\"], [0.2222222222222222, \"#7201a8\"], [0.3333333333333333, \"#9c179e\"], [0.4444444444444444, \"#bd3786\"], [0.5555555555555556, \"#d8576b\"], [0.6666666666666666, \"#ed7953\"], [0.7777777777777778, \"#fb9f3a\"], [0.8888888888888888, \"#fdca26\"], [1.0, \"#f0f921\"]], \"type\": \"histogram2dcontour\"}], \"mesh3d\": [{\"colorbar\": {\"outlinewidth\": 0, \"ticks\": \"\"}, \"type\": \"mesh3d\"}], \"parcoords\": [{\"line\": {\"colorbar\": {\"outlinewidth\": 0, \"ticks\": \"\"}}, \"type\": \"parcoords\"}], \"pie\": [{\"automargin\": true, \"type\": \"pie\"}], \"scatter\": [{\"marker\": {\"colorbar\": {\"outlinewidth\": 0, \"ticks\": \"\"}}, \"type\": \"scatter\"}], \"scatter3d\": [{\"line\": {\"colorbar\": {\"outlinewidth\": 0, \"ticks\": \"\"}}, \"marker\": {\"colorbar\": {\"outlinewidth\": 0, \"ticks\": \"\"}}, \"type\": \"scatter3d\"}], \"scattercarpet\": [{\"marker\": {\"colorbar\": {\"outlinewidth\": 0, \"ticks\": \"\"}}, \"type\": \"scattercarpet\"}], \"scattergeo\": [{\"marker\": {\"colorbar\": {\"outlinewidth\": 0, \"ticks\": \"\"}}, \"type\": \"scattergeo\"}], \"scattergl\": [{\"marker\": {\"colorbar\": {\"outlinewidth\": 0, \"ticks\": \"\"}}, \"type\": \"scattergl\"}], \"scattermapbox\": [{\"marker\": {\"colorbar\": {\"outlinewidth\": 0, \"ticks\": \"\"}}, \"type\": \"scattermapbox\"}], \"scatterpolar\": [{\"marker\": {\"colorbar\": {\"outlinewidth\": 0, \"ticks\": \"\"}}, \"type\": \"scatterpolar\"}], \"scatterpolargl\": [{\"marker\": {\"colorbar\": {\"outlinewidth\": 0, \"ticks\": \"\"}}, \"type\": \"scatterpolargl\"}], \"scatterternary\": [{\"marker\": {\"colorbar\": {\"outlinewidth\": 0, \"ticks\": \"\"}}, \"type\": \"scatterternary\"}], \"surface\": [{\"colorbar\": {\"outlinewidth\": 0, \"ticks\": \"\"}, \"colorscale\": [[0.0, \"#0d0887\"], [0.1111111111111111, \"#46039f\"], [0.2222222222222222, \"#7201a8\"], [0.3333333333333333, \"#9c179e\"], [0.4444444444444444, \"#bd3786\"], [0.5555555555555556, \"#d8576b\"], [0.6666666666666666, \"#ed7953\"], [0.7777777777777778, \"#fb9f3a\"], [0.8888888888888888, \"#fdca26\"], [1.0, \"#f0f921\"]], \"type\": \"surface\"}], \"table\": [{\"cells\": {\"fill\": {\"color\": \"#EBF0F8\"}, \"line\": {\"color\": \"white\"}}, \"header\": {\"fill\": {\"color\": \"#C8D4E3\"}, \"line\": {\"color\": \"white\"}}, \"type\": \"table\"}]}, \"layout\": {\"annotationdefaults\": {\"arrowcolor\": \"#2a3f5f\", \"arrowhead\": 0, \"arrowwidth\": 1}, \"coloraxis\": {\"colorbar\": {\"outlinewidth\": 0, \"ticks\": \"\"}}, \"colorscale\": {\"diverging\": [[0, \"#8e0152\"], [0.1, \"#c51b7d\"], [0.2, \"#de77ae\"], [0.3, \"#f1b6da\"], [0.4, \"#fde0ef\"], [0.5, \"#f7f7f7\"], [0.6, \"#e6f5d0\"], [0.7, \"#b8e186\"], [0.8, \"#7fbc41\"], [0.9, \"#4d9221\"], [1, \"#276419\"]], \"sequential\": [[0.0, \"#0d0887\"], [0.1111111111111111, \"#46039f\"], [0.2222222222222222, \"#7201a8\"], [0.3333333333333333, \"#9c179e\"], [0.4444444444444444, \"#bd3786\"], [0.5555555555555556, \"#d8576b\"], [0.6666666666666666, \"#ed7953\"], [0.7777777777777778, \"#fb9f3a\"], [0.8888888888888888, \"#fdca26\"], [1.0, \"#f0f921\"]], \"sequentialminus\": [[0.0, \"#0d0887\"], [0.1111111111111111, \"#46039f\"], [0.2222222222222222, \"#7201a8\"], [0.3333333333333333, \"#9c179e\"], [0.4444444444444444, \"#bd3786\"], [0.5555555555555556, \"#d8576b\"], [0.6666666666666666, \"#ed7953\"], [0.7777777777777778, \"#fb9f3a\"], [0.8888888888888888, \"#fdca26\"], [1.0, \"#f0f921\"]]}, \"colorway\": [\"#636efa\", \"#EF553B\", \"#00cc96\", \"#ab63fa\", \"#FFA15A\", \"#19d3f3\", \"#FF6692\", \"#B6E880\", \"#FF97FF\", \"#FECB52\"], \"font\": {\"color\": \"#2a3f5f\"}, \"geo\": {\"bgcolor\": \"white\", \"lakecolor\": \"white\", \"landcolor\": \"#E5ECF6\", \"showlakes\": true, \"showland\": true, \"subunitcolor\": \"white\"}, \"hoverlabel\": {\"align\": \"left\"}, \"hovermode\": \"closest\", \"mapbox\": {\"style\": \"light\"}, \"paper_bgcolor\": \"white\", \"plot_bgcolor\": \"#E5ECF6\", \"polar\": {\"angularaxis\": {\"gridcolor\": \"white\", \"linecolor\": \"white\", \"ticks\": \"\"}, \"bgcolor\": \"#E5ECF6\", \"radialaxis\": {\"gridcolor\": \"white\", \"linecolor\": \"white\", \"ticks\": \"\"}}, \"scene\": {\"xaxis\": {\"backgroundcolor\": \"#E5ECF6\", \"gridcolor\": \"white\", \"gridwidth\": 2, \"linecolor\": \"white\", \"showbackground\": true, \"ticks\": \"\", \"zerolinecolor\": \"white\"}, \"yaxis\": {\"backgroundcolor\": \"#E5ECF6\", \"gridcolor\": \"white\", \"gridwidth\": 2, \"linecolor\": \"white\", \"showbackground\": true, \"ticks\": \"\", \"zerolinecolor\": \"white\"}, \"zaxis\": {\"backgroundcolor\": \"#E5ECF6\", \"gridcolor\": \"white\", \"gridwidth\": 2, \"linecolor\": \"white\", \"showbackground\": true, \"ticks\": \"\", \"zerolinecolor\": \"white\"}}, \"shapedefaults\": {\"line\": {\"color\": \"#2a3f5f\"}}, \"ternary\": {\"aaxis\": {\"gridcolor\": \"white\", \"linecolor\": \"white\", \"ticks\": \"\"}, \"baxis\": {\"gridcolor\": \"white\", \"linecolor\": \"white\", \"ticks\": \"\"}, \"bgcolor\": \"#E5ECF6\", \"caxis\": {\"gridcolor\": \"white\", \"linecolor\": \"white\", \"ticks\": \"\"}}, \"title\": {\"x\": 0.05}, \"xaxis\": {\"automargin\": true, \"gridcolor\": \"white\", \"linecolor\": \"white\", \"ticks\": \"\", \"title\": {\"standoff\": 15}, \"zerolinecolor\": \"white\", \"zerolinewidth\": 2}, \"yaxis\": {\"automargin\": true, \"gridcolor\": \"white\", \"linecolor\": \"white\", \"ticks\": \"\", \"title\": {\"standoff\": 15}, \"zerolinecolor\": \"white\", \"zerolinewidth\": 2}}}},\n",
              "                        {\"responsive\": true}\n",
              "                    ).then(function(){\n",
              "                            \n",
              "var gd = document.getElementById('408be0f7-18d2-4a83-8381-7c16a6feca25');\n",
              "var x = new MutationObserver(function (mutations, observer) {{\n",
              "        var display = window.getComputedStyle(gd).display;\n",
              "        if (!display || display === 'none') {{\n",
              "            console.log([gd, 'removed!']);\n",
              "            Plotly.purge(gd);\n",
              "            observer.disconnect();\n",
              "        }}\n",
              "}});\n",
              "\n",
              "// Listen for the removal of the full notebook cells\n",
              "var notebookContainer = gd.closest('#notebook-container');\n",
              "if (notebookContainer) {{\n",
              "    x.observe(notebookContainer, {childList: true});\n",
              "}}\n",
              "\n",
              "// Listen for the clearing of the current output cell\n",
              "var outputEl = gd.closest('.output');\n",
              "if (outputEl) {{\n",
              "    x.observe(outputEl, {childList: true});\n",
              "}}\n",
              "\n",
              "                        })\n",
              "                };\n",
              "                \n",
              "            </script>\n",
              "        </div>\n",
              "</body>\n",
              "</html>"
            ]
          },
          "metadata": {}
        }
      ]
    },
    {
      "cell_type": "code",
      "metadata": {
        "colab": {
          "base_uri": "https://localhost:8080/",
          "height": 542
        },
        "id": "4NiOgG_arsHB",
        "outputId": "7861cb93-d852-499a-9b44-18859efbd233"
      },
      "source": [
        "fig = go.Figure([go.Scatter(x=pd_df['Total_Cases'], y=pd_df['Deaths'], mode='markers', text=pd_df['State_UTs'])])\n",
        "fig.update_layout(title='Deaths vs Total Cases', xaxis_title='Total Cases', yaxis_title='Deaths')\n",
        "fig.show()"
      ],
      "execution_count": 50,
      "outputs": [
        {
          "output_type": "display_data",
          "data": {
            "text/html": [
              "<html>\n",
              "<head><meta charset=\"utf-8\" /></head>\n",
              "<body>\n",
              "    <div>\n",
              "            <script src=\"https://cdnjs.cloudflare.com/ajax/libs/mathjax/2.7.5/MathJax.js?config=TeX-AMS-MML_SVG\"></script><script type=\"text/javascript\">if (window.MathJax) {MathJax.Hub.Config({SVG: {font: \"STIX-Web\"}});}</script>\n",
              "                <script type=\"text/javascript\">window.PlotlyConfig = {MathJaxConfig: 'local'};</script>\n",
              "        <script src=\"https://cdn.plot.ly/plotly-latest.min.js\"></script>    \n",
              "            <div id=\"14d17223-dc85-40e0-9d88-8b4a3ee802a8\" class=\"plotly-graph-div\" style=\"height:525px; width:100%;\"></div>\n",
              "            <script type=\"text/javascript\">\n",
              "                \n",
              "                    window.PLOTLYENV=window.PLOTLYENV || {};\n",
              "                    \n",
              "                if (document.getElementById(\"14d17223-dc85-40e0-9d88-8b4a3ee802a8\")) {\n",
              "                    Plotly.newPlot(\n",
              "                        '14d17223-dc85-40e0-9d88-8b4a3ee802a8',\n",
              "                        [{\"mode\": \"markers\", \"text\": [\"Andaman and Nicobar\", \"Andhra Pradesh\", \"Arunachal Pradesh\", \"Assam\", \"Bihar\", \"Chandigarh\", \"Chhattisgarh\", \"Dadra and Nagar Haveli and Daman and Diu\", \"Delhi\", \"Goa\", \"Gujarat\", \"Haryana\", \"Himachal Pradesh\", \"Jammu and Kashmir\", \"Jharkhand\", \"Karnataka\", \"Kerala\", \"Ladakh\", \"Lakshadweep\", \"Madhya Pradesh\", \"Maharashtra\", \"Manipur\", \"Meghalaya\", \"Mizoram\", \"Nagaland\", \"Odisha\", \"Puducherry\", \"Punjab\", \"Rajasthan\", \"Sikkim\", \"Tamil Nadu\", \"Telengana\", \"Tripura\", \"Uttar Pradesh\", \"Uttarakhand\", \"West Bengal\"], \"type\": \"scatter\", \"x\": [7660, 2067921, 55180, 612134, 726129, 65360, 1006159, 10682, 1440071, 178281, 826716, 771308, 224830, 332911, 348864, 2989713, 5008381, 21006, 10365, 792901, 6616762, 124047, 83827, 124992, 31922, 1043151, 128165, 602517, 954451, 32039, 2708230, 672367, 84570, 1710193, 343939, 1597765], \"y\": [129, 14392, 280, 6026, 9661, 820, 13584, 4, 25091, 3367, 10090, 10050, 3774, 4440, 5138, 38107, 33515, 209, 51, 10524, 140372, 1931, 1457, 446, 689, 8354, 1862, 16562, 8954, 399, 36214, 3964, 816, 22903, 7401, 19215]}],\n",
              "                        {\"template\": {\"data\": {\"bar\": [{\"error_x\": {\"color\": \"#2a3f5f\"}, \"error_y\": {\"color\": \"#2a3f5f\"}, \"marker\": {\"line\": {\"color\": \"#E5ECF6\", \"width\": 0.5}}, \"type\": \"bar\"}], \"barpolar\": [{\"marker\": {\"line\": {\"color\": \"#E5ECF6\", \"width\": 0.5}}, \"type\": \"barpolar\"}], \"carpet\": [{\"aaxis\": {\"endlinecolor\": \"#2a3f5f\", \"gridcolor\": \"white\", \"linecolor\": \"white\", \"minorgridcolor\": \"white\", \"startlinecolor\": \"#2a3f5f\"}, \"baxis\": {\"endlinecolor\": \"#2a3f5f\", \"gridcolor\": \"white\", \"linecolor\": \"white\", \"minorgridcolor\": \"white\", \"startlinecolor\": \"#2a3f5f\"}, \"type\": \"carpet\"}], \"choropleth\": [{\"colorbar\": {\"outlinewidth\": 0, \"ticks\": \"\"}, \"type\": \"choropleth\"}], \"contour\": [{\"colorbar\": {\"outlinewidth\": 0, \"ticks\": \"\"}, \"colorscale\": [[0.0, \"#0d0887\"], [0.1111111111111111, \"#46039f\"], [0.2222222222222222, \"#7201a8\"], [0.3333333333333333, \"#9c179e\"], [0.4444444444444444, \"#bd3786\"], [0.5555555555555556, \"#d8576b\"], [0.6666666666666666, \"#ed7953\"], [0.7777777777777778, \"#fb9f3a\"], [0.8888888888888888, \"#fdca26\"], [1.0, \"#f0f921\"]], \"type\": \"contour\"}], \"contourcarpet\": [{\"colorbar\": {\"outlinewidth\": 0, \"ticks\": \"\"}, \"type\": \"contourcarpet\"}], \"heatmap\": [{\"colorbar\": {\"outlinewidth\": 0, \"ticks\": \"\"}, \"colorscale\": [[0.0, \"#0d0887\"], [0.1111111111111111, \"#46039f\"], [0.2222222222222222, \"#7201a8\"], [0.3333333333333333, \"#9c179e\"], [0.4444444444444444, \"#bd3786\"], [0.5555555555555556, \"#d8576b\"], [0.6666666666666666, \"#ed7953\"], [0.7777777777777778, \"#fb9f3a\"], [0.8888888888888888, \"#fdca26\"], [1.0, \"#f0f921\"]], \"type\": \"heatmap\"}], \"heatmapgl\": [{\"colorbar\": {\"outlinewidth\": 0, \"ticks\": \"\"}, \"colorscale\": [[0.0, \"#0d0887\"], [0.1111111111111111, \"#46039f\"], [0.2222222222222222, \"#7201a8\"], [0.3333333333333333, \"#9c179e\"], [0.4444444444444444, \"#bd3786\"], [0.5555555555555556, \"#d8576b\"], [0.6666666666666666, \"#ed7953\"], [0.7777777777777778, \"#fb9f3a\"], [0.8888888888888888, \"#fdca26\"], [1.0, \"#f0f921\"]], \"type\": \"heatmapgl\"}], \"histogram\": [{\"marker\": {\"colorbar\": {\"outlinewidth\": 0, \"ticks\": \"\"}}, \"type\": \"histogram\"}], \"histogram2d\": [{\"colorbar\": {\"outlinewidth\": 0, \"ticks\": \"\"}, \"colorscale\": [[0.0, \"#0d0887\"], [0.1111111111111111, \"#46039f\"], [0.2222222222222222, \"#7201a8\"], [0.3333333333333333, \"#9c179e\"], [0.4444444444444444, \"#bd3786\"], [0.5555555555555556, \"#d8576b\"], [0.6666666666666666, \"#ed7953\"], [0.7777777777777778, \"#fb9f3a\"], [0.8888888888888888, \"#fdca26\"], [1.0, \"#f0f921\"]], \"type\": \"histogram2d\"}], \"histogram2dcontour\": [{\"colorbar\": {\"outlinewidth\": 0, \"ticks\": \"\"}, \"colorscale\": [[0.0, \"#0d0887\"], [0.1111111111111111, \"#46039f\"], [0.2222222222222222, \"#7201a8\"], [0.3333333333333333, \"#9c179e\"], [0.4444444444444444, \"#bd3786\"], [0.5555555555555556, \"#d8576b\"], [0.6666666666666666, \"#ed7953\"], [0.7777777777777778, \"#fb9f3a\"], [0.8888888888888888, \"#fdca26\"], [1.0, \"#f0f921\"]], \"type\": \"histogram2dcontour\"}], \"mesh3d\": [{\"colorbar\": {\"outlinewidth\": 0, \"ticks\": \"\"}, \"type\": \"mesh3d\"}], \"parcoords\": [{\"line\": {\"colorbar\": {\"outlinewidth\": 0, \"ticks\": \"\"}}, \"type\": \"parcoords\"}], \"pie\": [{\"automargin\": true, \"type\": \"pie\"}], \"scatter\": [{\"marker\": {\"colorbar\": {\"outlinewidth\": 0, \"ticks\": \"\"}}, \"type\": \"scatter\"}], \"scatter3d\": [{\"line\": {\"colorbar\": {\"outlinewidth\": 0, \"ticks\": \"\"}}, \"marker\": {\"colorbar\": {\"outlinewidth\": 0, \"ticks\": \"\"}}, \"type\": \"scatter3d\"}], \"scattercarpet\": [{\"marker\": {\"colorbar\": {\"outlinewidth\": 0, \"ticks\": \"\"}}, \"type\": \"scattercarpet\"}], \"scattergeo\": [{\"marker\": {\"colorbar\": {\"outlinewidth\": 0, \"ticks\": \"\"}}, \"type\": \"scattergeo\"}], \"scattergl\": [{\"marker\": {\"colorbar\": {\"outlinewidth\": 0, \"ticks\": \"\"}}, \"type\": \"scattergl\"}], \"scattermapbox\": [{\"marker\": {\"colorbar\": {\"outlinewidth\": 0, \"ticks\": \"\"}}, \"type\": \"scattermapbox\"}], \"scatterpolar\": [{\"marker\": {\"colorbar\": {\"outlinewidth\": 0, \"ticks\": \"\"}}, \"type\": \"scatterpolar\"}], \"scatterpolargl\": [{\"marker\": {\"colorbar\": {\"outlinewidth\": 0, \"ticks\": \"\"}}, \"type\": \"scatterpolargl\"}], \"scatterternary\": [{\"marker\": {\"colorbar\": {\"outlinewidth\": 0, \"ticks\": \"\"}}, \"type\": \"scatterternary\"}], \"surface\": [{\"colorbar\": {\"outlinewidth\": 0, \"ticks\": \"\"}, \"colorscale\": [[0.0, \"#0d0887\"], [0.1111111111111111, \"#46039f\"], [0.2222222222222222, \"#7201a8\"], [0.3333333333333333, \"#9c179e\"], [0.4444444444444444, \"#bd3786\"], [0.5555555555555556, \"#d8576b\"], [0.6666666666666666, \"#ed7953\"], [0.7777777777777778, \"#fb9f3a\"], [0.8888888888888888, \"#fdca26\"], [1.0, \"#f0f921\"]], \"type\": \"surface\"}], \"table\": [{\"cells\": {\"fill\": {\"color\": \"#EBF0F8\"}, \"line\": {\"color\": \"white\"}}, \"header\": {\"fill\": {\"color\": \"#C8D4E3\"}, \"line\": {\"color\": \"white\"}}, \"type\": \"table\"}]}, \"layout\": {\"annotationdefaults\": {\"arrowcolor\": \"#2a3f5f\", \"arrowhead\": 0, \"arrowwidth\": 1}, \"coloraxis\": {\"colorbar\": {\"outlinewidth\": 0, \"ticks\": \"\"}}, \"colorscale\": {\"diverging\": [[0, \"#8e0152\"], [0.1, \"#c51b7d\"], [0.2, \"#de77ae\"], [0.3, \"#f1b6da\"], [0.4, \"#fde0ef\"], [0.5, \"#f7f7f7\"], [0.6, \"#e6f5d0\"], [0.7, \"#b8e186\"], [0.8, \"#7fbc41\"], [0.9, \"#4d9221\"], [1, \"#276419\"]], \"sequential\": [[0.0, \"#0d0887\"], [0.1111111111111111, \"#46039f\"], [0.2222222222222222, \"#7201a8\"], [0.3333333333333333, \"#9c179e\"], [0.4444444444444444, \"#bd3786\"], [0.5555555555555556, \"#d8576b\"], [0.6666666666666666, \"#ed7953\"], [0.7777777777777778, \"#fb9f3a\"], [0.8888888888888888, \"#fdca26\"], [1.0, \"#f0f921\"]], \"sequentialminus\": [[0.0, \"#0d0887\"], [0.1111111111111111, \"#46039f\"], [0.2222222222222222, \"#7201a8\"], [0.3333333333333333, \"#9c179e\"], [0.4444444444444444, \"#bd3786\"], [0.5555555555555556, \"#d8576b\"], [0.6666666666666666, \"#ed7953\"], [0.7777777777777778, \"#fb9f3a\"], [0.8888888888888888, \"#fdca26\"], [1.0, \"#f0f921\"]]}, \"colorway\": [\"#636efa\", \"#EF553B\", \"#00cc96\", \"#ab63fa\", \"#FFA15A\", \"#19d3f3\", \"#FF6692\", \"#B6E880\", \"#FF97FF\", \"#FECB52\"], \"font\": {\"color\": \"#2a3f5f\"}, \"geo\": {\"bgcolor\": \"white\", \"lakecolor\": \"white\", \"landcolor\": \"#E5ECF6\", \"showlakes\": true, \"showland\": true, \"subunitcolor\": \"white\"}, \"hoverlabel\": {\"align\": \"left\"}, \"hovermode\": \"closest\", \"mapbox\": {\"style\": \"light\"}, \"paper_bgcolor\": \"white\", \"plot_bgcolor\": \"#E5ECF6\", \"polar\": {\"angularaxis\": {\"gridcolor\": \"white\", \"linecolor\": \"white\", \"ticks\": \"\"}, \"bgcolor\": \"#E5ECF6\", \"radialaxis\": {\"gridcolor\": \"white\", \"linecolor\": \"white\", \"ticks\": \"\"}}, \"scene\": {\"xaxis\": {\"backgroundcolor\": \"#E5ECF6\", \"gridcolor\": \"white\", \"gridwidth\": 2, \"linecolor\": \"white\", \"showbackground\": true, \"ticks\": \"\", \"zerolinecolor\": \"white\"}, \"yaxis\": {\"backgroundcolor\": \"#E5ECF6\", \"gridcolor\": \"white\", \"gridwidth\": 2, \"linecolor\": \"white\", \"showbackground\": true, \"ticks\": \"\", \"zerolinecolor\": \"white\"}, \"zaxis\": {\"backgroundcolor\": \"#E5ECF6\", \"gridcolor\": \"white\", \"gridwidth\": 2, \"linecolor\": \"white\", \"showbackground\": true, \"ticks\": \"\", \"zerolinecolor\": \"white\"}}, \"shapedefaults\": {\"line\": {\"color\": \"#2a3f5f\"}}, \"ternary\": {\"aaxis\": {\"gridcolor\": \"white\", \"linecolor\": \"white\", \"ticks\": \"\"}, \"baxis\": {\"gridcolor\": \"white\", \"linecolor\": \"white\", \"ticks\": \"\"}, \"bgcolor\": \"#E5ECF6\", \"caxis\": {\"gridcolor\": \"white\", \"linecolor\": \"white\", \"ticks\": \"\"}}, \"title\": {\"x\": 0.05}, \"xaxis\": {\"automargin\": true, \"gridcolor\": \"white\", \"linecolor\": \"white\", \"ticks\": \"\", \"title\": {\"standoff\": 15}, \"zerolinecolor\": \"white\", \"zerolinewidth\": 2}, \"yaxis\": {\"automargin\": true, \"gridcolor\": \"white\", \"linecolor\": \"white\", \"ticks\": \"\", \"title\": {\"standoff\": 15}, \"zerolinecolor\": \"white\", \"zerolinewidth\": 2}}}, \"title\": {\"text\": \"Deaths vs Total Cases\"}, \"xaxis\": {\"title\": {\"text\": \"Total Cases\"}}, \"yaxis\": {\"title\": {\"text\": \"Deaths\"}}},\n",
              "                        {\"responsive\": true}\n",
              "                    ).then(function(){\n",
              "                            \n",
              "var gd = document.getElementById('14d17223-dc85-40e0-9d88-8b4a3ee802a8');\n",
              "var x = new MutationObserver(function (mutations, observer) {{\n",
              "        var display = window.getComputedStyle(gd).display;\n",
              "        if (!display || display === 'none') {{\n",
              "            console.log([gd, 'removed!']);\n",
              "            Plotly.purge(gd);\n",
              "            observer.disconnect();\n",
              "        }}\n",
              "}});\n",
              "\n",
              "// Listen for the removal of the full notebook cells\n",
              "var notebookContainer = gd.closest('#notebook-container');\n",
              "if (notebookContainer) {{\n",
              "    x.observe(notebookContainer, {childList: true});\n",
              "}}\n",
              "\n",
              "// Listen for the clearing of the current output cell\n",
              "var outputEl = gd.closest('.output');\n",
              "if (outputEl) {{\n",
              "    x.observe(outputEl, {childList: true});\n",
              "}}\n",
              "\n",
              "                        })\n",
              "                };\n",
              "                \n",
              "            </script>\n",
              "        </div>\n",
              "</body>\n",
              "</html>"
            ]
          },
          "metadata": {}
        }
      ]
    },
    {
      "cell_type": "code",
      "metadata": {
        "colab": {
          "base_uri": "https://localhost:8080/"
        },
        "id": "CYb5h_75r3Wt",
        "outputId": "29a045f9-1d52-42dd-f13e-60fed7d89c7c"
      },
      "source": [
        "X = pd_df['Total_Cases'].to_numpy()\n",
        "y = pd_df['Deaths'].to_numpy()\n",
        "X.shape , y.shape"
      ],
      "execution_count": 53,
      "outputs": [
        {
          "output_type": "execute_result",
          "data": {
            "text/plain": [
              "((36,), (36,))"
            ]
          },
          "metadata": {},
          "execution_count": 53
        }
      ]
    },
    {
      "cell_type": "code",
      "metadata": {
        "colab": {
          "base_uri": "https://localhost:8080/"
        },
        "id": "LxNaypfTsPSK",
        "outputId": "4660a495-4590-4e64-f140-7c3c6204d20b"
      },
      "source": [
        "from sklearn.linear_model import LinearRegression\n",
        "model = LinearRegression()\n",
        "model.fit(X.reshape((len(X),1)),y)\n",
        "(model.intercept_,model.coef_[0])"
      ],
      "execution_count": 56,
      "outputs": [
        {
          "output_type": "execute_result",
          "data": {
            "text/plain": [
              "(-1805.390125967826, 0.015304242604434757)"
            ]
          },
          "metadata": {},
          "execution_count": 56
        }
      ]
    },
    {
      "cell_type": "code",
      "metadata": {
        "colab": {
          "base_uri": "https://localhost:8080/"
        },
        "id": "UZdfB7bds3oA",
        "outputId": "baa346c8-14f5-4f34-c788-c5d76c9f6c8e"
      },
      "source": [
        "model.score(X.reshape((len(X),1)),y)"
      ],
      "execution_count": 57,
      "outputs": [
        {
          "output_type": "execute_result",
          "data": {
            "text/plain": [
              "0.8097494925931461"
            ]
          },
          "metadata": {},
          "execution_count": 57
        }
      ]
    },
    {
      "cell_type": "code",
      "metadata": {
        "colab": {
          "base_uri": "https://localhost:8080/"
        },
        "id": "ycbIRUbxtWob",
        "outputId": "454af3c5-870c-443e-fb26-b4303dab4eba"
      },
      "source": [
        "predictions = model.predict(X.reshape((len(X),1)))\n",
        "predictions.shape\n",
        "predictions"
      ],
      "execution_count": 63,
      "outputs": [
        {
          "output_type": "execute_result",
          "data": {
            "text/plain": [
              "array([-1.68815963e+03,  2.98425745e+04, -9.60902019e+02,  7.56285712e+03,\n",
              "        9.30746425e+03, -8.05104829e+02,  1.35931113e+04, -1.64191021e+03,\n",
              "        2.02338058e+04,  9.23065550e+02,  1.08468721e+04,  9.99889463e+03,\n",
              "        1.63546274e+03,  3.28956058e+03,  3.53370917e+03,  4.39499029e+04,\n",
              "        7.48440878e+04, -1.48390921e+03, -1.64676165e+03,  1.03293591e+04,\n",
              "        9.94591408e+04,  9.30552564e+01, -5.22481381e+02,  1.07517766e+02,\n",
              "       -1.31684809e+03,  1.41592459e+04,  1.56078127e+02,  7.41567622e+03,\n",
              "        1.28017595e+04, -1.31505750e+03,  3.96420188e+04,  8.48467756e+03,\n",
              "       -5.11110329e+02,  2.43678184e+04,  3.45833577e+03,  2.26471931e+04])"
            ]
          },
          "metadata": {},
          "execution_count": 63
        }
      ]
    },
    {
      "cell_type": "code",
      "metadata": {
        "colab": {
          "base_uri": "https://localhost:8080/",
          "height": 542
        },
        "id": "ZQEyy1G6tkf2",
        "outputId": "8896c383-d643-47c5-bde7-78f5a2b1d036"
      },
      "source": [
        "fig = go.Figure([go.Scatter(x=pd_df['Total_Cases'], y=pd_df['Deaths'], mode='markers', text=pd_df['State_UTs'], name='Actual Deaths'),\n",
        "                 go.Scatter(x=pd_df['Total_Cases'], y=predictions, name='Predicted Deaths')])\n",
        "fig.update_layout(title='Deaths vs Total Cases', xaxis_title='Total Cases', yaxis_title='Deaths')\n",
        "fig.show()"
      ],
      "execution_count": 66,
      "outputs": [
        {
          "output_type": "display_data",
          "data": {
            "text/html": [
              "<html>\n",
              "<head><meta charset=\"utf-8\" /></head>\n",
              "<body>\n",
              "    <div>\n",
              "            <script src=\"https://cdnjs.cloudflare.com/ajax/libs/mathjax/2.7.5/MathJax.js?config=TeX-AMS-MML_SVG\"></script><script type=\"text/javascript\">if (window.MathJax) {MathJax.Hub.Config({SVG: {font: \"STIX-Web\"}});}</script>\n",
              "                <script type=\"text/javascript\">window.PlotlyConfig = {MathJaxConfig: 'local'};</script>\n",
              "        <script src=\"https://cdn.plot.ly/plotly-latest.min.js\"></script>    \n",
              "            <div id=\"8352a133-e95d-4662-9851-b1856004cfcd\" class=\"plotly-graph-div\" style=\"height:525px; width:100%;\"></div>\n",
              "            <script type=\"text/javascript\">\n",
              "                \n",
              "                    window.PLOTLYENV=window.PLOTLYENV || {};\n",
              "                    \n",
              "                if (document.getElementById(\"8352a133-e95d-4662-9851-b1856004cfcd\")) {\n",
              "                    Plotly.newPlot(\n",
              "                        '8352a133-e95d-4662-9851-b1856004cfcd',\n",
              "                        [{\"mode\": \"markers\", \"name\": \"Actual Deaths\", \"text\": [\"Andaman and Nicobar\", \"Andhra Pradesh\", \"Arunachal Pradesh\", \"Assam\", \"Bihar\", \"Chandigarh\", \"Chhattisgarh\", \"Dadra and Nagar Haveli and Daman and Diu\", \"Delhi\", \"Goa\", \"Gujarat\", \"Haryana\", \"Himachal Pradesh\", \"Jammu and Kashmir\", \"Jharkhand\", \"Karnataka\", \"Kerala\", \"Ladakh\", \"Lakshadweep\", \"Madhya Pradesh\", \"Maharashtra\", \"Manipur\", \"Meghalaya\", \"Mizoram\", \"Nagaland\", \"Odisha\", \"Puducherry\", \"Punjab\", \"Rajasthan\", \"Sikkim\", \"Tamil Nadu\", \"Telengana\", \"Tripura\", \"Uttar Pradesh\", \"Uttarakhand\", \"West Bengal\"], \"type\": \"scatter\", \"x\": [7660, 2067921, 55180, 612134, 726129, 65360, 1006159, 10682, 1440071, 178281, 826716, 771308, 224830, 332911, 348864, 2989713, 5008381, 21006, 10365, 792901, 6616762, 124047, 83827, 124992, 31922, 1043151, 128165, 602517, 954451, 32039, 2708230, 672367, 84570, 1710193, 343939, 1597765], \"y\": [129, 14392, 280, 6026, 9661, 820, 13584, 4, 25091, 3367, 10090, 10050, 3774, 4440, 5138, 38107, 33515, 209, 51, 10524, 140372, 1931, 1457, 446, 689, 8354, 1862, 16562, 8954, 399, 36214, 3964, 816, 22903, 7401, 19215]}, {\"name\": \"Predicted Deaths\", \"type\": \"scatter\", \"x\": [7660, 2067921, 55180, 612134, 726129, 65360, 1006159, 10682, 1440071, 178281, 826716, 771308, 224830, 332911, 348864, 2989713, 5008381, 21006, 10365, 792901, 6616762, 124047, 83827, 124992, 31922, 1043151, 128165, 602517, 954451, 32039, 2708230, 672367, 84570, 1710193, 343939, 1597765], \"y\": [-1688.1596276178557, 29842.574544837502, -960.902019055116, 7562.8571164552395, 9307.46425214778, -805.1048293419702, 13593.111308667645, -1641.9102064672538, 20233.80582564314, 923.0655497934067, 10846.872103000058, 9998.894628773538, 1635.4627387872406, 3289.5605837171533, 3533.7091659857006, 43949.90294366462, 74844.08775347372, -1483.9092058190695, -1646.7616513728597, 10329.359139331096, 99459.1407778371, 93.0552563844924, -522.4813811658737, 107.51776564568308, -1316.8480935490597, 14159.245851090895, 156.07812742955457, 7415.676215328391, 12801.759532077533, -1315.0574971643407, 39642.018822640515, 8484.677561248158, -511.11032891077866, 24367.818446438265, 3458.3357711588596, 22647.193058906872]}],\n",
              "                        {\"template\": {\"data\": {\"bar\": [{\"error_x\": {\"color\": \"#2a3f5f\"}, \"error_y\": {\"color\": \"#2a3f5f\"}, \"marker\": {\"line\": {\"color\": \"#E5ECF6\", \"width\": 0.5}}, \"type\": \"bar\"}], \"barpolar\": [{\"marker\": {\"line\": {\"color\": \"#E5ECF6\", \"width\": 0.5}}, \"type\": \"barpolar\"}], \"carpet\": [{\"aaxis\": {\"endlinecolor\": \"#2a3f5f\", \"gridcolor\": \"white\", \"linecolor\": \"white\", \"minorgridcolor\": \"white\", \"startlinecolor\": \"#2a3f5f\"}, \"baxis\": {\"endlinecolor\": \"#2a3f5f\", \"gridcolor\": \"white\", \"linecolor\": \"white\", \"minorgridcolor\": \"white\", \"startlinecolor\": \"#2a3f5f\"}, \"type\": \"carpet\"}], \"choropleth\": [{\"colorbar\": {\"outlinewidth\": 0, \"ticks\": \"\"}, \"type\": \"choropleth\"}], \"contour\": [{\"colorbar\": {\"outlinewidth\": 0, \"ticks\": \"\"}, \"colorscale\": [[0.0, \"#0d0887\"], [0.1111111111111111, \"#46039f\"], [0.2222222222222222, \"#7201a8\"], [0.3333333333333333, \"#9c179e\"], [0.4444444444444444, \"#bd3786\"], [0.5555555555555556, \"#d8576b\"], [0.6666666666666666, \"#ed7953\"], [0.7777777777777778, \"#fb9f3a\"], [0.8888888888888888, \"#fdca26\"], [1.0, \"#f0f921\"]], \"type\": \"contour\"}], \"contourcarpet\": [{\"colorbar\": {\"outlinewidth\": 0, \"ticks\": \"\"}, \"type\": \"contourcarpet\"}], \"heatmap\": [{\"colorbar\": {\"outlinewidth\": 0, \"ticks\": \"\"}, \"colorscale\": [[0.0, \"#0d0887\"], [0.1111111111111111, \"#46039f\"], [0.2222222222222222, \"#7201a8\"], [0.3333333333333333, \"#9c179e\"], [0.4444444444444444, \"#bd3786\"], [0.5555555555555556, \"#d8576b\"], [0.6666666666666666, \"#ed7953\"], [0.7777777777777778, \"#fb9f3a\"], [0.8888888888888888, \"#fdca26\"], [1.0, \"#f0f921\"]], \"type\": \"heatmap\"}], \"heatmapgl\": [{\"colorbar\": {\"outlinewidth\": 0, \"ticks\": \"\"}, \"colorscale\": [[0.0, \"#0d0887\"], [0.1111111111111111, \"#46039f\"], [0.2222222222222222, \"#7201a8\"], [0.3333333333333333, \"#9c179e\"], [0.4444444444444444, \"#bd3786\"], [0.5555555555555556, \"#d8576b\"], [0.6666666666666666, \"#ed7953\"], [0.7777777777777778, \"#fb9f3a\"], [0.8888888888888888, \"#fdca26\"], [1.0, \"#f0f921\"]], \"type\": \"heatmapgl\"}], \"histogram\": [{\"marker\": {\"colorbar\": {\"outlinewidth\": 0, \"ticks\": \"\"}}, \"type\": \"histogram\"}], \"histogram2d\": [{\"colorbar\": {\"outlinewidth\": 0, \"ticks\": \"\"}, \"colorscale\": [[0.0, \"#0d0887\"], [0.1111111111111111, \"#46039f\"], [0.2222222222222222, \"#7201a8\"], [0.3333333333333333, \"#9c179e\"], [0.4444444444444444, \"#bd3786\"], [0.5555555555555556, \"#d8576b\"], [0.6666666666666666, \"#ed7953\"], [0.7777777777777778, \"#fb9f3a\"], [0.8888888888888888, \"#fdca26\"], [1.0, \"#f0f921\"]], \"type\": \"histogram2d\"}], \"histogram2dcontour\": [{\"colorbar\": {\"outlinewidth\": 0, \"ticks\": \"\"}, \"colorscale\": [[0.0, \"#0d0887\"], [0.1111111111111111, \"#46039f\"], [0.2222222222222222, \"#7201a8\"], [0.3333333333333333, \"#9c179e\"], [0.4444444444444444, \"#bd3786\"], [0.5555555555555556, \"#d8576b\"], [0.6666666666666666, \"#ed7953\"], [0.7777777777777778, \"#fb9f3a\"], [0.8888888888888888, \"#fdca26\"], [1.0, \"#f0f921\"]], \"type\": \"histogram2dcontour\"}], \"mesh3d\": [{\"colorbar\": {\"outlinewidth\": 0, \"ticks\": \"\"}, \"type\": \"mesh3d\"}], \"parcoords\": [{\"line\": {\"colorbar\": {\"outlinewidth\": 0, \"ticks\": \"\"}}, \"type\": \"parcoords\"}], \"pie\": [{\"automargin\": true, \"type\": \"pie\"}], \"scatter\": [{\"marker\": {\"colorbar\": {\"outlinewidth\": 0, \"ticks\": \"\"}}, \"type\": \"scatter\"}], \"scatter3d\": [{\"line\": {\"colorbar\": {\"outlinewidth\": 0, \"ticks\": \"\"}}, \"marker\": {\"colorbar\": {\"outlinewidth\": 0, \"ticks\": \"\"}}, \"type\": \"scatter3d\"}], \"scattercarpet\": [{\"marker\": {\"colorbar\": {\"outlinewidth\": 0, \"ticks\": \"\"}}, \"type\": \"scattercarpet\"}], \"scattergeo\": [{\"marker\": {\"colorbar\": {\"outlinewidth\": 0, \"ticks\": \"\"}}, \"type\": \"scattergeo\"}], \"scattergl\": [{\"marker\": {\"colorbar\": {\"outlinewidth\": 0, \"ticks\": \"\"}}, \"type\": \"scattergl\"}], \"scattermapbox\": [{\"marker\": {\"colorbar\": {\"outlinewidth\": 0, \"ticks\": \"\"}}, \"type\": \"scattermapbox\"}], \"scatterpolar\": [{\"marker\": {\"colorbar\": {\"outlinewidth\": 0, \"ticks\": \"\"}}, \"type\": \"scatterpolar\"}], \"scatterpolargl\": [{\"marker\": {\"colorbar\": {\"outlinewidth\": 0, \"ticks\": \"\"}}, \"type\": \"scatterpolargl\"}], \"scatterternary\": [{\"marker\": {\"colorbar\": {\"outlinewidth\": 0, \"ticks\": \"\"}}, \"type\": \"scatterternary\"}], \"surface\": [{\"colorbar\": {\"outlinewidth\": 0, \"ticks\": \"\"}, \"colorscale\": [[0.0, \"#0d0887\"], [0.1111111111111111, \"#46039f\"], [0.2222222222222222, \"#7201a8\"], [0.3333333333333333, \"#9c179e\"], [0.4444444444444444, \"#bd3786\"], [0.5555555555555556, \"#d8576b\"], [0.6666666666666666, \"#ed7953\"], [0.7777777777777778, \"#fb9f3a\"], [0.8888888888888888, \"#fdca26\"], [1.0, \"#f0f921\"]], \"type\": \"surface\"}], \"table\": [{\"cells\": {\"fill\": {\"color\": \"#EBF0F8\"}, \"line\": {\"color\": \"white\"}}, \"header\": {\"fill\": {\"color\": \"#C8D4E3\"}, \"line\": {\"color\": \"white\"}}, \"type\": \"table\"}]}, \"layout\": {\"annotationdefaults\": {\"arrowcolor\": \"#2a3f5f\", \"arrowhead\": 0, \"arrowwidth\": 1}, \"coloraxis\": {\"colorbar\": {\"outlinewidth\": 0, \"ticks\": \"\"}}, \"colorscale\": {\"diverging\": [[0, \"#8e0152\"], [0.1, \"#c51b7d\"], [0.2, \"#de77ae\"], [0.3, \"#f1b6da\"], [0.4, \"#fde0ef\"], [0.5, \"#f7f7f7\"], [0.6, \"#e6f5d0\"], [0.7, \"#b8e186\"], [0.8, \"#7fbc41\"], [0.9, \"#4d9221\"], [1, \"#276419\"]], \"sequential\": [[0.0, \"#0d0887\"], [0.1111111111111111, \"#46039f\"], [0.2222222222222222, \"#7201a8\"], [0.3333333333333333, \"#9c179e\"], [0.4444444444444444, \"#bd3786\"], [0.5555555555555556, \"#d8576b\"], [0.6666666666666666, \"#ed7953\"], [0.7777777777777778, \"#fb9f3a\"], [0.8888888888888888, \"#fdca26\"], [1.0, \"#f0f921\"]], \"sequentialminus\": [[0.0, \"#0d0887\"], [0.1111111111111111, \"#46039f\"], [0.2222222222222222, \"#7201a8\"], [0.3333333333333333, \"#9c179e\"], [0.4444444444444444, \"#bd3786\"], [0.5555555555555556, \"#d8576b\"], [0.6666666666666666, \"#ed7953\"], [0.7777777777777778, \"#fb9f3a\"], [0.8888888888888888, \"#fdca26\"], [1.0, \"#f0f921\"]]}, \"colorway\": [\"#636efa\", \"#EF553B\", \"#00cc96\", \"#ab63fa\", \"#FFA15A\", \"#19d3f3\", \"#FF6692\", \"#B6E880\", \"#FF97FF\", \"#FECB52\"], \"font\": {\"color\": \"#2a3f5f\"}, \"geo\": {\"bgcolor\": \"white\", \"lakecolor\": \"white\", \"landcolor\": \"#E5ECF6\", \"showlakes\": true, \"showland\": true, \"subunitcolor\": \"white\"}, \"hoverlabel\": {\"align\": \"left\"}, \"hovermode\": \"closest\", \"mapbox\": {\"style\": \"light\"}, \"paper_bgcolor\": \"white\", \"plot_bgcolor\": \"#E5ECF6\", \"polar\": {\"angularaxis\": {\"gridcolor\": \"white\", \"linecolor\": \"white\", \"ticks\": \"\"}, \"bgcolor\": \"#E5ECF6\", \"radialaxis\": {\"gridcolor\": \"white\", \"linecolor\": \"white\", \"ticks\": \"\"}}, \"scene\": {\"xaxis\": {\"backgroundcolor\": \"#E5ECF6\", \"gridcolor\": \"white\", \"gridwidth\": 2, \"linecolor\": \"white\", \"showbackground\": true, \"ticks\": \"\", \"zerolinecolor\": \"white\"}, \"yaxis\": {\"backgroundcolor\": \"#E5ECF6\", \"gridcolor\": \"white\", \"gridwidth\": 2, \"linecolor\": \"white\", \"showbackground\": true, \"ticks\": \"\", \"zerolinecolor\": \"white\"}, \"zaxis\": {\"backgroundcolor\": \"#E5ECF6\", \"gridcolor\": \"white\", \"gridwidth\": 2, \"linecolor\": \"white\", \"showbackground\": true, \"ticks\": \"\", \"zerolinecolor\": \"white\"}}, \"shapedefaults\": {\"line\": {\"color\": \"#2a3f5f\"}}, \"ternary\": {\"aaxis\": {\"gridcolor\": \"white\", \"linecolor\": \"white\", \"ticks\": \"\"}, \"baxis\": {\"gridcolor\": \"white\", \"linecolor\": \"white\", \"ticks\": \"\"}, \"bgcolor\": \"#E5ECF6\", \"caxis\": {\"gridcolor\": \"white\", \"linecolor\": \"white\", \"ticks\": \"\"}}, \"title\": {\"x\": 0.05}, \"xaxis\": {\"automargin\": true, \"gridcolor\": \"white\", \"linecolor\": \"white\", \"ticks\": \"\", \"title\": {\"standoff\": 15}, \"zerolinecolor\": \"white\", \"zerolinewidth\": 2}, \"yaxis\": {\"automargin\": true, \"gridcolor\": \"white\", \"linecolor\": \"white\", \"ticks\": \"\", \"title\": {\"standoff\": 15}, \"zerolinecolor\": \"white\", \"zerolinewidth\": 2}}}, \"title\": {\"text\": \"Deaths vs Total Cases\"}, \"xaxis\": {\"title\": {\"text\": \"Total Cases\"}}, \"yaxis\": {\"title\": {\"text\": \"Deaths\"}}},\n",
              "                        {\"responsive\": true}\n",
              "                    ).then(function(){\n",
              "                            \n",
              "var gd = document.getElementById('8352a133-e95d-4662-9851-b1856004cfcd');\n",
              "var x = new MutationObserver(function (mutations, observer) {{\n",
              "        var display = window.getComputedStyle(gd).display;\n",
              "        if (!display || display === 'none') {{\n",
              "            console.log([gd, 'removed!']);\n",
              "            Plotly.purge(gd);\n",
              "            observer.disconnect();\n",
              "        }}\n",
              "}});\n",
              "\n",
              "// Listen for the removal of the full notebook cells\n",
              "var notebookContainer = gd.closest('#notebook-container');\n",
              "if (notebookContainer) {{\n",
              "    x.observe(notebookContainer, {childList: true});\n",
              "}}\n",
              "\n",
              "// Listen for the clearing of the current output cell\n",
              "var outputEl = gd.closest('.output');\n",
              "if (outputEl) {{\n",
              "    x.observe(outputEl, {childList: true});\n",
              "}}\n",
              "\n",
              "                        })\n",
              "                };\n",
              "                \n",
              "            </script>\n",
              "        </div>\n",
              "</body>\n",
              "</html>"
            ]
          },
          "metadata": {}
        }
      ]
    },
    {
      "cell_type": "code",
      "metadata": {
        "colab": {
          "base_uri": "https://localhost:8080/",
          "height": 377
        },
        "id": "KEbzpgj0t-wn",
        "outputId": "a648bde5-3b90-4726-c738-30a8302f327f"
      },
      "source": [
        "#Same thing but with MatPlotLib\n",
        "from matplotlib import pyplot as plt\n",
        "plt.style.use('seaborn')\n",
        "plt.scatter(X,y, c = 'green',marker = 'X', edgecolor = 'black', linewidth = 1, alpha = 0.34)\n",
        "plt.plot(X, predictions)"
      ],
      "execution_count": 78,
      "outputs": [
        {
          "output_type": "execute_result",
          "data": {
            "text/plain": [
              "[<matplotlib.lines.Line2D at 0x7f6385913f90>]"
            ]
          },
          "metadata": {},
          "execution_count": 78
        },
        {
          "output_type": "display_data",
          "data": {
            "image/png": "[encoded data removed]",
            "text/plain": [
              "<Figure size 576x396 with 1 Axes>"
            ]
          },
          "metadata": {}
        }
      ]
    },
    {
      "cell_type": "code",
      "metadata": {
        "id": "rJZTLgzvv_Zu"
      },
      "source": [
        ""
      ],
      "execution_count": null,
      "outputs": []
    }
  ]
}
