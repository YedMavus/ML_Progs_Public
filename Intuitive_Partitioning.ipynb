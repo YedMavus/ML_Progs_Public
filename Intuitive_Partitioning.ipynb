{
  "nbformat": 4,
  "nbformat_minor": 0,
  "metadata": {
    "colab": {
      "provenance": [],
      "authorship_tag": "ABX9TyNPHjyQdfVaQeneczzTIR7q",
      "include_colab_link": true
    },
    "kernelspec": {
      "name": "python3",
      "display_name": "Python 3"
    },
    "language_info": {
      "name": "python"
    }
  },
  "cells": [
    {
      "cell_type": "markdown",
      "metadata": {
        "id": "view-in-github",
        "colab_type": "text"
      },
      "source": [
        "<a href=\"https://colab.research.google.com/github/YedMavus/ML_Progs_Public/blob/main/Intuitive_Partitioning.ipynb\" target=\"_parent\"><img src=\"https://colab.research.google.com/assets/colab-badge.svg\" alt=\"Open In Colab\"/></a>"
      ]
    },
    {
      "cell_type": "markdown",
      "source": [
        "# Natural Partitioning Coding Assignment\n",
        "Submitted for **Data Mining Course**\n",
        "by\n",
        "\n",
        "- Ankan Kumar Das (2020ETB010)\n",
        "- Bipraditya Mukhopadhyay (2020ETB037)\n",
        "- Suvam Dey (2020ETB052)\n",
        "- Abhinava De (2020ETB068)"
      ],
      "metadata": {
        "id": "4WK8Ov54R9AF"
      }
    },
    {
      "cell_type": "code",
      "source": [
        "#Sort vals\n",
        "#Get MIN and MAX from 5th and 95th percentile\n",
        "#Get MSBs of MIN by rounding down and MAX by rounding up\n",
        "#Get the interval range by MAX-MIN\n",
        "#Get number of integer values covered by MSB (if same for low and high, look of next different digit until difference got)\n",
        "#Apply rules based on this number\n",
        "#Divide and output the MAX and MIN for each range\n",
        "#Return partition"
      ],
      "metadata": {
        "id": "3dZUTjf6Vkq4"
      },
      "execution_count": 1,
      "outputs": []
    },
    {
      "cell_type": "code",
      "execution_count": 2,
      "metadata": {
        "colab": {
          "base_uri": "https://localhost:8080/"
        },
        "id": "bgxQv2PtqPga",
        "outputId": "52291487-8c7c-4c25-b226-7a923730026f"
      },
      "outputs": [
        {
          "output_type": "stream",
          "name": "stdout",
          "text": [
            "Requirement already satisfied: ucimlrepo in /usr/local/lib/python3.10/dist-packages (0.0.3)\n"
          ]
        }
      ],
      "source": [
        "pip install ucimlrepo"
      ]
    },
    {
      "cell_type": "code",
      "source": [
        "from ucimlrepo import fetch_ucirepo\n",
        "\n",
        "# fetch dataset\n",
        "bank_marketing = fetch_ucirepo(id=222)\n",
        "\n",
        "# data (as pandas dataframes)\n",
        "X = bank_marketing.data.features\n",
        "y = bank_marketing.data.targets\n"
      ],
      "metadata": {
        "id": "3_IsT_BrqUYs"
      },
      "execution_count": 4,
      "outputs": []
    },
    {
      "cell_type": "code",
      "source": [
        "import math\n",
        "def get_msd(number):\n",
        "    # Get the absolute value of the number\n",
        "    number = abs(int(number))\n",
        "\n",
        "    # Find the order of magnitude (number of digits)\n",
        "    order_of_magnitude = len(str(number)) - 1\n",
        "\n",
        "    # Calculate the MSD by raising 10 to the power of the order of magnitude\n",
        "    msd = 10 ** order_of_magnitude\n",
        "    return msd\n",
        "def round_down(value, msd):\n",
        "    return math.floor(value / msd) * msd\n",
        "\n",
        "def round_up(value, msd):\n",
        "    return math.ceil(value / msd) * msd\n",
        "data=X.iloc[:100].balance\n",
        "\n",
        "data=data.sort_values()\n",
        "\n",
        "#Find the MAX and MIN from 5th and 95th percentile\n",
        "MIN = data.quantile(0.05)\n",
        "# MIN=-4859\n",
        "# MAX=3034\n",
        "MAX = data.quantile(0.95)\n",
        "# Get which digit the MSD is at\n",
        "def Natural_Partitioning(max=MAX,min=MIN,divisions=8):\n",
        "  MSD=0\n",
        "  if get_msd(abs(max))>=get_msd(abs(min)):\n",
        "    MSD=get_msd(abs(max))\n",
        "  else:\n",
        "    MSD=get_msd(abs(min))\n",
        "#Get the rounded max and min to find the range\n",
        "  range_MIN=round_down(min,MSD)\n",
        "  range_MAX=round_up(max,MSD)\n",
        "  RANGE=range_MAX - range_MIN\n",
        "  RULE_MSD=math.floor(RANGE/MSD)\n",
        "  partition=1\n",
        "  if (RULE_MSD==3 or RULE_MSD==6 or RULE_MSD==9):\n",
        "    partition=3\n",
        "  elif (RULE_MSD==2 or RULE_MSD==4 or RULE_MSD==8):\n",
        "    partition=4\n",
        "  elif (RULE_MSD==1 or RULE_MSD==5 or RULE_MSD==10):\n",
        "    partition=5\n",
        "  else:\n",
        "    interval_width = RANGE / 7\n",
        "    interval_start = range_MIN + 2 * interval_width\n",
        "    interval_mid = interval_start + 3 * interval_width\n",
        "    interval_end = interval_mid + 2 * interval_width\n",
        "    intervals.append((range_MIN, interval_start))\n",
        "    intervals.append((interval_start, interval_mid))\n",
        "    intervals.append((interval_mid, interval_end))\n",
        "    intervals.append((interval_start, interval_mid))\n",
        "\n",
        "  divisions=divisions-partition\n",
        "  intervals = []\n",
        "  interval_width = RANGE / (partition)\n",
        "  for i in range(partition):\n",
        "    interval_start = range_MIN + i * interval_width\n",
        "    interval_end = range_MIN + (i+1) * interval_width\n",
        "    intervals.append((interval_start, interval_end))\n",
        "\n",
        "  return intervals\n",
        "print(Natural_Partitioning(MAX,MIN))"
      ],
      "metadata": {
        "colab": {
          "base_uri": "https://localhost:8080/"
        },
        "id": "rFwDr-LGyD6b",
        "outputId": "07070cff-abbe-4cbf-c7e7-8312b890926a"
      },
      "execution_count": 5,
      "outputs": [
        {
          "output_type": "stream",
          "name": "stdout",
          "text": [
            "[(-1000.0, 0.0), (0.0, 1000.0), (1000.0, 2000.0), (2000.0, 3000.0)]\n"
          ]
        }
      ]
    },
    {
      "cell_type": "code",
      "source": [],
      "metadata": {
        "id": "co84NtLnT1wh"
      },
      "execution_count": 52,
      "outputs": []
    },
    {
      "cell_type": "code",
      "source": [
        "\n"
      ],
      "metadata": {
        "colab": {
          "base_uri": "https://localhost:8080/"
        },
        "id": "7zkmiwS7yIWL",
        "outputId": "ec9879ee-27f8-4ea4-a6c1-20aa8cafe3b7"
      },
      "execution_count": 20,
      "outputs": [
        {
          "output_type": "execute_result",
          "data": {
            "text/plain": [
              "4"
            ]
          },
          "metadata": {},
          "execution_count": 20
        }
      ]
    },
    {
      "cell_type": "code",
      "source": [],
      "metadata": {
        "id": "aRIx9TsTUo6S"
      },
      "execution_count": null,
      "outputs": []
    }
  ]
}